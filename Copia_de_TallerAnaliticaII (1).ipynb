{
  "cells": [
    {
      "cell_type": "markdown",
      "metadata": {
        "id": "5TPBLFypKk_O"
      },
      "source": [
        "# TALLER ANÁLITICA II\n",
        "##### Edgar Joel Pardo Moreno"
      ]
    },
    {
      "cell_type": "markdown",
      "metadata": {
        "id": "KhGrevpOK9HN"
      },
      "source": [
        "# **1. Entendimiento del negocio**\n",
        "\n",
        "A lo largo de los años se han desarrollado múltiples estudios que evidencian la incidencia de la mortalidad del recién nacido en relación a su peso. Factores como:\n",
        "\n",
        "\n",
        "*   Desnutrición de la madre.\n",
        "*   Embarazo en la adolescencia. \n",
        "*   Problemnas de salud de la madre.\n",
        "*   Infecciones de la madre.\n",
        "*   Problemas en la placenta.\n",
        "*   Defectos congénitos.\n",
        "*   Uso de alcohol, cigarrillo y drogas ilícitas.\n",
        "*   Factores psicosociales (Estado civil, Embarazo deseado, Relación con el padre).\n",
        "\n",
        "Influyen a un apropiado crecimiento y desarrollo con el cual puede crear riesgos patológicos e incluso tener un porcentaje alto de muerte.\n",
        "Según la Organización Mundial de la Salud entre el 15 y 20% de los nacimientos al año corresponden a bebés de bajo peso (inferior a 2500g o 5.5 Libras). Para el año 2020 en Colombia según cifras del Instituto Nacional de salud (INS) las principales ciudades con desnutrición perinatal son Vaupés, Chocó, La Guajira, Santander entre otros.\n",
        "Efectos como problemáticas en la salud pública, riesgos reputacionales nos han llevado a evaluar y analizar qué aspectos son influyentes para dar alertamientos tempranos a dicha problemática. Para esto la EPS PUJ suministra \n",
        " una base de datos con 4.255.156 registros de nacimientos de bebés en el año 2022 con el fin de resolver los siguientes objetivos:\n",
        "\n",
        "**Objetivos del negocio**\n",
        "\n",
        "1.   Predecir con la mayor exactitud el peso del bebe al nacer.\n",
        "2.   Clasificar la problabilidad de mortalidad del bebe al nacer.\n",
        "\n",
        "**Objetivos de datamining**\n",
        "\n",
        "\n",
        "\n",
        "1.   Determiar que variables son significativas y agregan valor a los modelos.\n",
        "\n",
        "\n",
        "\n"
      ]
    },
    {
      "cell_type": "markdown",
      "metadata": {
        "id": "3OofYu3mcI3y"
      },
      "source": [
        "# **2. Entendimiento de los datos** "
      ]
    },
    {
      "cell_type": "markdown",
      "metadata": {
        "id": "BewEOB4TJNPs"
      },
      "source": [
        "##### **Cargar librerias**"
      ]
    },
    {
      "cell_type": "code",
      "execution_count": 22,
      "metadata": {
        "colab": {
          "base_uri": "https://localhost:8080/"
        },
        "id": "EXdbs39XI4Rh",
        "outputId": "c4a4428e-cba3-4175-f042-5f532ae97120"
      },
      "outputs": [
        {
          "output_type": "stream",
          "name": "stdout",
          "text": [
            "Drive already mounted at /content/drive; to attempt to forcibly remount, call drive.mount(\"/content/drive\", force_remount=True).\n"
          ]
        }
      ],
      "source": [
        "import pandas as pd\n",
        "import numpy as np\n",
        "import matplotlib.pyplot as plt\n",
        "import seaborn as sns\n",
        "import time\n",
        "from sklearn.model_selection import train_test_split\n",
        "from sklearn.impute import SimpleImputer\n",
        "import seaborn as sns\n",
        "\n",
        "from google.colab import drive\n",
        "drive.mount('/content/drive')"
      ]
    },
    {
      "cell_type": "code",
      "execution_count": 23,
      "metadata": {
        "colab": {
          "base_uri": "https://localhost:8080/",
          "height": 270
        },
        "id": "8zvF-MdjJ6BX",
        "outputId": "d74cc8eb-2aca-45b4-d33c-207ca1baf9fe"
      },
      "outputs": [
        {
          "output_type": "execute_result",
          "data": {
            "text/plain": [
              "   source_year  year  month  day  wday  state  is_male  child_race  \\\n",
              "0         2022  2022      4  NaN     5    NaN    False         NaN   \n",
              "1         2022  2022      3  NaN     5    NaN    False         NaN   \n",
              "2         2022  2022     12  NaN     2    NaN     True         NaN   \n",
              "3         2022  2022     10  NaN     4    NaN     True         NaN   \n",
              "4         2022  2022     11  NaN     4    NaN    False         NaN   \n",
              "\n",
              "   weight_pounds  plurality  apgar_1min  apgar_5min  mother_residence_state  \\\n",
              "0       6.437498          1         NaN         9.0                     NaN   \n",
              "1       7.262027          1         NaN         9.0                     NaN   \n",
              "2       6.000983          1         NaN         9.0                     NaN   \n",
              "3       8.126239          1         NaN         9.0                     NaN   \n",
              "4       7.312733          1         NaN         9.0                     NaN   \n",
              "\n",
              "   mother_race  mother_age  gestation_weeks      lmp  mother_married  \\\n",
              "0          NaN          34             38.0  7282007            True   \n",
              "1          NaN          38             40.0  6102007            True   \n",
              "2          NaN          30             36.0  4202008           False   \n",
              "3          NaN          31             38.0  2052008           False   \n",
              "4          NaN          39             39.0  2082008            True   \n",
              "\n",
              "   mother_birth_state cigarette_use  cigarettes_per_day alcohol_use  \\\n",
              "0                 NaN           NaN                 NaN         NaN   \n",
              "1                 NaN           NaN                 NaN         NaN   \n",
              "2                 NaN           NaN                 NaN         NaN   \n",
              "3                 NaN           NaN                 NaN         NaN   \n",
              "4                 NaN           NaN                 NaN         NaN   \n",
              "\n",
              "   drinks_per_week  weight_gain_pounds  born_alive_alive  born_alive_dead  \\\n",
              "0              NaN                30.0               NaN              NaN   \n",
              "1              NaN                99.0               NaN              NaN   \n",
              "2              NaN                54.0               NaN              NaN   \n",
              "3              NaN                30.0               NaN              NaN   \n",
              "4              NaN                10.0               NaN              NaN   \n",
              "\n",
              "   born_dead  ever_born  father_race  father_age  record_weight  \n",
              "0        NaN        8.0          NaN          49              1  \n",
              "1        NaN        8.0          NaN          45              1  \n",
              "2        NaN        8.0          NaN          38              1  \n",
              "3        NaN        8.0          NaN          39              1  \n",
              "4        NaN        8.0          NaN          40              1  "
            ],
            "text/html": [
              "\n",
              "  <div id=\"df-f9754595-476f-4a40-8521-b261acb325b2\">\n",
              "    <div class=\"colab-df-container\">\n",
              "      <div>\n",
              "<style scoped>\n",
              "    .dataframe tbody tr th:only-of-type {\n",
              "        vertical-align: middle;\n",
              "    }\n",
              "\n",
              "    .dataframe tbody tr th {\n",
              "        vertical-align: top;\n",
              "    }\n",
              "\n",
              "    .dataframe thead th {\n",
              "        text-align: right;\n",
              "    }\n",
              "</style>\n",
              "<table border=\"1\" class=\"dataframe\">\n",
              "  <thead>\n",
              "    <tr style=\"text-align: right;\">\n",
              "      <th></th>\n",
              "      <th>source_year</th>\n",
              "      <th>year</th>\n",
              "      <th>month</th>\n",
              "      <th>day</th>\n",
              "      <th>wday</th>\n",
              "      <th>state</th>\n",
              "      <th>is_male</th>\n",
              "      <th>child_race</th>\n",
              "      <th>weight_pounds</th>\n",
              "      <th>plurality</th>\n",
              "      <th>apgar_1min</th>\n",
              "      <th>apgar_5min</th>\n",
              "      <th>mother_residence_state</th>\n",
              "      <th>mother_race</th>\n",
              "      <th>mother_age</th>\n",
              "      <th>gestation_weeks</th>\n",
              "      <th>lmp</th>\n",
              "      <th>mother_married</th>\n",
              "      <th>mother_birth_state</th>\n",
              "      <th>cigarette_use</th>\n",
              "      <th>cigarettes_per_day</th>\n",
              "      <th>alcohol_use</th>\n",
              "      <th>drinks_per_week</th>\n",
              "      <th>weight_gain_pounds</th>\n",
              "      <th>born_alive_alive</th>\n",
              "      <th>born_alive_dead</th>\n",
              "      <th>born_dead</th>\n",
              "      <th>ever_born</th>\n",
              "      <th>father_race</th>\n",
              "      <th>father_age</th>\n",
              "      <th>record_weight</th>\n",
              "    </tr>\n",
              "  </thead>\n",
              "  <tbody>\n",
              "    <tr>\n",
              "      <th>0</th>\n",
              "      <td>2022</td>\n",
              "      <td>2022</td>\n",
              "      <td>4</td>\n",
              "      <td>NaN</td>\n",
              "      <td>5</td>\n",
              "      <td>NaN</td>\n",
              "      <td>False</td>\n",
              "      <td>NaN</td>\n",
              "      <td>6.437498</td>\n",
              "      <td>1</td>\n",
              "      <td>NaN</td>\n",
              "      <td>9.0</td>\n",
              "      <td>NaN</td>\n",
              "      <td>NaN</td>\n",
              "      <td>34</td>\n",
              "      <td>38.0</td>\n",
              "      <td>7282007</td>\n",
              "      <td>True</td>\n",
              "      <td>NaN</td>\n",
              "      <td>NaN</td>\n",
              "      <td>NaN</td>\n",
              "      <td>NaN</td>\n",
              "      <td>NaN</td>\n",
              "      <td>30.0</td>\n",
              "      <td>NaN</td>\n",
              "      <td>NaN</td>\n",
              "      <td>NaN</td>\n",
              "      <td>8.0</td>\n",
              "      <td>NaN</td>\n",
              "      <td>49</td>\n",
              "      <td>1</td>\n",
              "    </tr>\n",
              "    <tr>\n",
              "      <th>1</th>\n",
              "      <td>2022</td>\n",
              "      <td>2022</td>\n",
              "      <td>3</td>\n",
              "      <td>NaN</td>\n",
              "      <td>5</td>\n",
              "      <td>NaN</td>\n",
              "      <td>False</td>\n",
              "      <td>NaN</td>\n",
              "      <td>7.262027</td>\n",
              "      <td>1</td>\n",
              "      <td>NaN</td>\n",
              "      <td>9.0</td>\n",
              "      <td>NaN</td>\n",
              "      <td>NaN</td>\n",
              "      <td>38</td>\n",
              "      <td>40.0</td>\n",
              "      <td>6102007</td>\n",
              "      <td>True</td>\n",
              "      <td>NaN</td>\n",
              "      <td>NaN</td>\n",
              "      <td>NaN</td>\n",
              "      <td>NaN</td>\n",
              "      <td>NaN</td>\n",
              "      <td>99.0</td>\n",
              "      <td>NaN</td>\n",
              "      <td>NaN</td>\n",
              "      <td>NaN</td>\n",
              "      <td>8.0</td>\n",
              "      <td>NaN</td>\n",
              "      <td>45</td>\n",
              "      <td>1</td>\n",
              "    </tr>\n",
              "    <tr>\n",
              "      <th>2</th>\n",
              "      <td>2022</td>\n",
              "      <td>2022</td>\n",
              "      <td>12</td>\n",
              "      <td>NaN</td>\n",
              "      <td>2</td>\n",
              "      <td>NaN</td>\n",
              "      <td>True</td>\n",
              "      <td>NaN</td>\n",
              "      <td>6.000983</td>\n",
              "      <td>1</td>\n",
              "      <td>NaN</td>\n",
              "      <td>9.0</td>\n",
              "      <td>NaN</td>\n",
              "      <td>NaN</td>\n",
              "      <td>30</td>\n",
              "      <td>36.0</td>\n",
              "      <td>4202008</td>\n",
              "      <td>False</td>\n",
              "      <td>NaN</td>\n",
              "      <td>NaN</td>\n",
              "      <td>NaN</td>\n",
              "      <td>NaN</td>\n",
              "      <td>NaN</td>\n",
              "      <td>54.0</td>\n",
              "      <td>NaN</td>\n",
              "      <td>NaN</td>\n",
              "      <td>NaN</td>\n",
              "      <td>8.0</td>\n",
              "      <td>NaN</td>\n",
              "      <td>38</td>\n",
              "      <td>1</td>\n",
              "    </tr>\n",
              "    <tr>\n",
              "      <th>3</th>\n",
              "      <td>2022</td>\n",
              "      <td>2022</td>\n",
              "      <td>10</td>\n",
              "      <td>NaN</td>\n",
              "      <td>4</td>\n",
              "      <td>NaN</td>\n",
              "      <td>True</td>\n",
              "      <td>NaN</td>\n",
              "      <td>8.126239</td>\n",
              "      <td>1</td>\n",
              "      <td>NaN</td>\n",
              "      <td>9.0</td>\n",
              "      <td>NaN</td>\n",
              "      <td>NaN</td>\n",
              "      <td>31</td>\n",
              "      <td>38.0</td>\n",
              "      <td>2052008</td>\n",
              "      <td>False</td>\n",
              "      <td>NaN</td>\n",
              "      <td>NaN</td>\n",
              "      <td>NaN</td>\n",
              "      <td>NaN</td>\n",
              "      <td>NaN</td>\n",
              "      <td>30.0</td>\n",
              "      <td>NaN</td>\n",
              "      <td>NaN</td>\n",
              "      <td>NaN</td>\n",
              "      <td>8.0</td>\n",
              "      <td>NaN</td>\n",
              "      <td>39</td>\n",
              "      <td>1</td>\n",
              "    </tr>\n",
              "    <tr>\n",
              "      <th>4</th>\n",
              "      <td>2022</td>\n",
              "      <td>2022</td>\n",
              "      <td>11</td>\n",
              "      <td>NaN</td>\n",
              "      <td>4</td>\n",
              "      <td>NaN</td>\n",
              "      <td>False</td>\n",
              "      <td>NaN</td>\n",
              "      <td>7.312733</td>\n",
              "      <td>1</td>\n",
              "      <td>NaN</td>\n",
              "      <td>9.0</td>\n",
              "      <td>NaN</td>\n",
              "      <td>NaN</td>\n",
              "      <td>39</td>\n",
              "      <td>39.0</td>\n",
              "      <td>2082008</td>\n",
              "      <td>True</td>\n",
              "      <td>NaN</td>\n",
              "      <td>NaN</td>\n",
              "      <td>NaN</td>\n",
              "      <td>NaN</td>\n",
              "      <td>NaN</td>\n",
              "      <td>10.0</td>\n",
              "      <td>NaN</td>\n",
              "      <td>NaN</td>\n",
              "      <td>NaN</td>\n",
              "      <td>8.0</td>\n",
              "      <td>NaN</td>\n",
              "      <td>40</td>\n",
              "      <td>1</td>\n",
              "    </tr>\n",
              "  </tbody>\n",
              "</table>\n",
              "</div>\n",
              "      <button class=\"colab-df-convert\" onclick=\"convertToInteractive('df-f9754595-476f-4a40-8521-b261acb325b2')\"\n",
              "              title=\"Convert this dataframe to an interactive table.\"\n",
              "              style=\"display:none;\">\n",
              "        \n",
              "  <svg xmlns=\"http://www.w3.org/2000/svg\" height=\"24px\"viewBox=\"0 0 24 24\"\n",
              "       width=\"24px\">\n",
              "    <path d=\"M0 0h24v24H0V0z\" fill=\"none\"/>\n",
              "    <path d=\"M18.56 5.44l.94 2.06.94-2.06 2.06-.94-2.06-.94-.94-2.06-.94 2.06-2.06.94zm-11 1L8.5 8.5l.94-2.06 2.06-.94-2.06-.94L8.5 2.5l-.94 2.06-2.06.94zm10 10l.94 2.06.94-2.06 2.06-.94-2.06-.94-.94-2.06-.94 2.06-2.06.94z\"/><path d=\"M17.41 7.96l-1.37-1.37c-.4-.4-.92-.59-1.43-.59-.52 0-1.04.2-1.43.59L10.3 9.45l-7.72 7.72c-.78.78-.78 2.05 0 2.83L4 21.41c.39.39.9.59 1.41.59.51 0 1.02-.2 1.41-.59l7.78-7.78 2.81-2.81c.8-.78.8-2.07 0-2.86zM5.41 20L4 18.59l7.72-7.72 1.47 1.35L5.41 20z\"/>\n",
              "  </svg>\n",
              "      </button>\n",
              "      \n",
              "  <style>\n",
              "    .colab-df-container {\n",
              "      display:flex;\n",
              "      flex-wrap:wrap;\n",
              "      gap: 12px;\n",
              "    }\n",
              "\n",
              "    .colab-df-convert {\n",
              "      background-color: #E8F0FE;\n",
              "      border: none;\n",
              "      border-radius: 50%;\n",
              "      cursor: pointer;\n",
              "      display: none;\n",
              "      fill: #1967D2;\n",
              "      height: 32px;\n",
              "      padding: 0 0 0 0;\n",
              "      width: 32px;\n",
              "    }\n",
              "\n",
              "    .colab-df-convert:hover {\n",
              "      background-color: #E2EBFA;\n",
              "      box-shadow: 0px 1px 2px rgba(60, 64, 67, 0.3), 0px 1px 3px 1px rgba(60, 64, 67, 0.15);\n",
              "      fill: #174EA6;\n",
              "    }\n",
              "\n",
              "    [theme=dark] .colab-df-convert {\n",
              "      background-color: #3B4455;\n",
              "      fill: #D2E3FC;\n",
              "    }\n",
              "\n",
              "    [theme=dark] .colab-df-convert:hover {\n",
              "      background-color: #434B5C;\n",
              "      box-shadow: 0px 1px 3px 1px rgba(0, 0, 0, 0.15);\n",
              "      filter: drop-shadow(0px 1px 2px rgba(0, 0, 0, 0.3));\n",
              "      fill: #FFFFFF;\n",
              "    }\n",
              "  </style>\n",
              "\n",
              "      <script>\n",
              "        const buttonEl =\n",
              "          document.querySelector('#df-f9754595-476f-4a40-8521-b261acb325b2 button.colab-df-convert');\n",
              "        buttonEl.style.display =\n",
              "          google.colab.kernel.accessAllowed ? 'block' : 'none';\n",
              "\n",
              "        async function convertToInteractive(key) {\n",
              "          const element = document.querySelector('#df-f9754595-476f-4a40-8521-b261acb325b2');\n",
              "          const dataTable =\n",
              "            await google.colab.kernel.invokeFunction('convertToInteractive',\n",
              "                                                     [key], {});\n",
              "          if (!dataTable) return;\n",
              "\n",
              "          const docLinkHtml = 'Like what you see? Visit the ' +\n",
              "            '<a target=\"_blank\" href=https://colab.research.google.com/notebooks/data_table.ipynb>data table notebook</a>'\n",
              "            + ' to learn more about interactive tables.';\n",
              "          element.innerHTML = '';\n",
              "          dataTable['output_type'] = 'display_data';\n",
              "          await google.colab.output.renderOutput(dataTable, element);\n",
              "          const docLink = document.createElement('div');\n",
              "          docLink.innerHTML = docLinkHtml;\n",
              "          element.appendChild(docLink);\n",
              "        }\n",
              "      </script>\n",
              "    </div>\n",
              "  </div>\n",
              "  "
            ]
          },
          "metadata": {},
          "execution_count": 23
        }
      ],
      "source": [
        "# Línea de código para la carga de datos desde la ubicación original\n",
        "df = pd.read_csv(\"/content/drive/Shareddrives/MachineLearning/peso_bebes.csv\")\n",
        "df.head()"
      ]
    },
    {
      "cell_type": "code",
      "execution_count": 24,
      "metadata": {
        "colab": {
          "base_uri": "https://localhost:8080/"
        },
        "id": "lukUYba4L5S7",
        "outputId": "4c1fead3-60a3-4778-9204-a68607e72367"
      },
      "outputs": [
        {
          "output_type": "stream",
          "name": "stdout",
          "text": [
            "<class 'pandas.core.frame.DataFrame'>\n",
            "RangeIndex: 4255156 entries, 0 to 4255155\n",
            "Data columns (total 31 columns):\n",
            " #   Column                  Dtype  \n",
            "---  ------                  -----  \n",
            " 0   source_year             int64  \n",
            " 1   year                    int64  \n",
            " 2   month                   int64  \n",
            " 3   day                     float64\n",
            " 4   wday                    int64  \n",
            " 5   state                   float64\n",
            " 6   is_male                 bool   \n",
            " 7   child_race              float64\n",
            " 8   weight_pounds           float64\n",
            " 9   plurality               int64  \n",
            " 10  apgar_1min              float64\n",
            " 11  apgar_5min              float64\n",
            " 12  mother_residence_state  float64\n",
            " 13  mother_race             float64\n",
            " 14  mother_age              int64  \n",
            " 15  gestation_weeks         float64\n",
            " 16  lmp                     int64  \n",
            " 17  mother_married          bool   \n",
            " 18  mother_birth_state      float64\n",
            " 19  cigarette_use           object \n",
            " 20  cigarettes_per_day      float64\n",
            " 21  alcohol_use             object \n",
            " 22  drinks_per_week         float64\n",
            " 23  weight_gain_pounds      float64\n",
            " 24  born_alive_alive        float64\n",
            " 25  born_alive_dead         float64\n",
            " 26  born_dead               float64\n",
            " 27  ever_born               float64\n",
            " 28  father_race             float64\n",
            " 29  father_age              int64  \n",
            " 30  record_weight           int64  \n",
            "dtypes: bool(2), float64(18), int64(9), object(2)\n",
            "memory usage: 949.6+ MB\n"
          ]
        }
      ],
      "source": [
        "df.info()"
      ]
    },
    {
      "cell_type": "markdown",
      "metadata": {
        "id": "_DQmqGTRFMph"
      },
      "source": [
        "La información disponible representa el comportamiento de 4.255.156 madres usuarias de la EPS PUJ. Se presentan 31 columnas o variables las cuales se pueden categorizar de la siguiente manera y adicionalmente se dara una descripcción de cada una:\n",
        "\n",
        " \n",
        "\n",
        "*   **Caracteristicas del bebe recien nacido:** En este grupo de varibles encontraremos información del nacimiento del nacido como fecha, su género, el peso, su estado de salud despues del primer minuto y quinto minuto. Dentro de este grupo de variables tenemos la variable a predecir **weight_pounds**.\n",
        "\n",
        "\n",
        "1. **source_year:** Año de cuatro dígitos del nacimiento.\n",
        "2. **year:** Año de cuatro dígitos del nacimiento.\n",
        "3. **month:** Índice mes de la fecha de nacimient.\n",
        "4. **day:** Día de nacimiento, a partir de 1.\n",
        "5. **wday:** Día de la semana, donde 1 es el domingo y el 7 es el sábado.\n",
        "6. **state:** El código postal de dos caracteres para el estado.\n",
        "7. **is_male:** TRUE si es hombre, 0 si es mujer.\n",
        "8. **child_race:** La raza del niño.\n",
        "9. **plurality:** Cuántos hijos nacieron como resultado de este embarazo.\n",
        "10. **weight_pounds:** Peso del niño, en libras.\n",
        "11. **apgar_1min:** Los puntajes de Apgar miden la salud de un niño recién nacido en una escala de 0 a 10. Valor después de 1 minuto.\n",
        "12. **apgar_5min:** Los puntajes de Apgar miden la salud de un niño recién nacido en una escala de 0 a 10. Valor después de 5 minutos.\n",
        "\n",
        "* **Caracteristicas de la madre y el padre:** En este grupo de varibales encontraremos información acerca de la residencia de la madre, si esta casada,su raza, el codigo postal de donde naace y donde tiene al bebe.\n",
        "1. **mother_residence_state:** El código postal de dos letras del estado de residencia de la madrecuando nació el niño.\n",
        "2. **mother_race:** Raza de la madre.\n",
        "3. **mother_married:** Es cierto que la madre se casó cuando dio a luz.\n",
        "4. **father_race:** Raza del padre\n",
        "5. **father_age:** Edad del padre cuando nació el niño.\n",
        "6. **mother_birth_state:** El código postal de dos letras del estado de nacimiento de la madre.\n",
        "\n",
        "* **Variables que impactan el desarrollo del nonato:** En este grupo de variables encontraremos información que impactan el desarrollo y peso del bebe mientras esta en su estapa de gestación.\n",
        "1. **cigarette_use:** Es cierto si la madre fumaba cigarrillos.\n",
        "2. **cigarettes_per_day:** Número de cigarrillos fumados por la madre por día.\n",
        "3. **alcohol_use:** Es cierto si la madre usaba alcohol.\n",
        "4. **drinks_per_week**: Número de bebidas por semana consumidas por la madre.\n",
        "5. **weight_gain_pounds:** Número de libras obtenidas por la madre durante el embarazo.\n",
        "6. **born_alive_alive:** Número de niños anteriormente nacidos de la madre que ahora vive.\n",
        "7. **born_alive_dead:** Número de niños anteriormente nacidos de la madre que ahora están muertos\n",
        "8. **born_dead:** Número de hijos que nacieron muertos (es decir, abortos involuntarios).\n",
        "9. **ever_born:** Número total de niños a quienes la mujer ha dado a luz (incluye elnacimiento actual).\n",
        "10. **lmp:** Fecha del último período menstrual.\n",
        "11. **gestation_weeks:** El número de semanas del embarazo.\n",
        "12. **mother_age:** La edad reportada de la madre al dar a luz.\n",
        "\n",
        "* **Otras variables**\n",
        "1. **record_weight:** 1 o 2, donde 1 es una fila de un área de reportaje completo, y 2 esuna fila de un área de muestra del 50%.\n",
        "\n"
      ]
    },
    {
      "cell_type": "markdown",
      "metadata": {
        "id": "21PEiIuDKmMQ"
      },
      "source": [
        "Para observar el comportamiento de nuestros datos vamos a realizar el EDA para identificar patrones, datos atipicos, tendecias, valores nulos que pueden afectar nuestro modelo"
      ]
    },
    {
      "cell_type": "code",
      "execution_count": 25,
      "metadata": {
        "colab": {
          "base_uri": "https://localhost:8080/"
        },
        "id": "qtpE8oRc2Yo6",
        "outputId": "c81b5e11-a50d-4635-940a-3e19b4958952"
      },
      "outputs": [
        {
          "output_type": "execute_result",
          "data": {
            "text/plain": [
              "source_year                     0\n",
              "year                            0\n",
              "month                           0\n",
              "day                       4255156\n",
              "wday                            0\n",
              "state                     4255156\n",
              "is_male                         0\n",
              "child_race                4255156\n",
              "weight_pounds                4365\n",
              "plurality                       0\n",
              "apgar_1min                4255156\n",
              "apgar_5min                  28772\n",
              "mother_residence_state    4255156\n",
              "mother_race               2912647\n",
              "mother_age                      0\n",
              "gestation_weeks              5820\n",
              "lmp                             0\n",
              "mother_married                  0\n",
              "mother_birth_state        4255156\n",
              "cigarette_use             2766677\n",
              "cigarettes_per_day        4113393\n",
              "alcohol_use               2766677\n",
              "drinks_per_week           4255156\n",
              "weight_gain_pounds          95016\n",
              "born_alive_alive          4255156\n",
              "born_alive_dead           4255156\n",
              "born_dead                 4255156\n",
              "ever_born                   26607\n",
              "father_race               2912647\n",
              "father_age                      0\n",
              "record_weight                   0\n",
              "dtype: int64"
            ]
          },
          "metadata": {},
          "execution_count": 25
        }
      ],
      "source": [
        "## revisamos si se presentan valores perdidos\n",
        "df.isna().sum()"
      ]
    },
    {
      "cell_type": "markdown",
      "metadata": {
        "id": "DBBF1s6B2cb5"
      },
      "source": [
        "Como podemos observar que las variables day, state, child_race, apgar_1min, mother_residence_state, mother_birth_state, drinks_per_week, born_alive_alive, born_alive_dead, born_dead, no presentan ningun tipo de información por este motivo es necesario eliminarlas ya que no van a generar valor a nuestro modelo.\n",
        "\n",
        "Por otra parte, nuestra variable a predecir presenta 4365 datos sin información y como medida para completar los datos realizaremos imputación de los mismos. las variables de consumo de cigarrillo y consumo de alcoholo tambien cuenta con valores nulos pero como hipótesis se afirmara que estos NA son 0 consumo."
      ]
    },
    {
      "cell_type": "code",
      "execution_count": 26,
      "metadata": {
        "colab": {
          "base_uri": "https://localhost:8080/",
          "height": 424
        },
        "id": "B-FQ-7qBbuWB",
        "outputId": "dd7681da-c285-46fa-edeb-9f933ee7975c"
      },
      "outputs": [
        {
          "output_type": "execute_result",
          "data": {
            "text/plain": [
              "         weight_pounds  apgar_5min  weight_gain_pounds  ever_born  father_age  \\\n",
              "0             6.437498         9.0                30.0        8.0          49   \n",
              "1             7.262027         9.0                99.0        8.0          45   \n",
              "2             6.000983         9.0                54.0        8.0          38   \n",
              "3             8.126239         9.0                30.0        8.0          39   \n",
              "4             7.312733         9.0                10.0        8.0          40   \n",
              "...                ...         ...                 ...        ...         ...   \n",
              "4255151       1.188292         5.0                99.0        7.0          99   \n",
              "4255152       5.125748        10.0                22.0        7.0          99   \n",
              "4255153       6.188376         9.0                32.0        7.0          99   \n",
              "4255154       7.187070         9.0                20.0        7.0          99   \n",
              "4255155       6.532297         9.0                 2.0        7.0          45   \n",
              "\n",
              "         mother_age  cigarettes_per_day  father_race  \n",
              "0                34                 NaN          NaN  \n",
              "1                38                 NaN          NaN  \n",
              "2                30                 NaN          NaN  \n",
              "3                31                 NaN          NaN  \n",
              "4                39                 NaN          NaN  \n",
              "...             ...                 ...          ...  \n",
              "4255151          32                 3.0         99.0  \n",
              "4255152          36                20.0         99.0  \n",
              "4255153          23                 NaN         99.0  \n",
              "4255154          29                 NaN         99.0  \n",
              "4255155          34                 NaN         99.0  \n",
              "\n",
              "[4255156 rows x 8 columns]"
            ],
            "text/html": [
              "\n",
              "  <div id=\"df-19d4f136-2f3f-4c1d-80af-94523950332e\">\n",
              "    <div class=\"colab-df-container\">\n",
              "      <div>\n",
              "<style scoped>\n",
              "    .dataframe tbody tr th:only-of-type {\n",
              "        vertical-align: middle;\n",
              "    }\n",
              "\n",
              "    .dataframe tbody tr th {\n",
              "        vertical-align: top;\n",
              "    }\n",
              "\n",
              "    .dataframe thead th {\n",
              "        text-align: right;\n",
              "    }\n",
              "</style>\n",
              "<table border=\"1\" class=\"dataframe\">\n",
              "  <thead>\n",
              "    <tr style=\"text-align: right;\">\n",
              "      <th></th>\n",
              "      <th>weight_pounds</th>\n",
              "      <th>apgar_5min</th>\n",
              "      <th>weight_gain_pounds</th>\n",
              "      <th>ever_born</th>\n",
              "      <th>father_age</th>\n",
              "      <th>mother_age</th>\n",
              "      <th>cigarettes_per_day</th>\n",
              "      <th>father_race</th>\n",
              "    </tr>\n",
              "  </thead>\n",
              "  <tbody>\n",
              "    <tr>\n",
              "      <th>0</th>\n",
              "      <td>6.437498</td>\n",
              "      <td>9.0</td>\n",
              "      <td>30.0</td>\n",
              "      <td>8.0</td>\n",
              "      <td>49</td>\n",
              "      <td>34</td>\n",
              "      <td>NaN</td>\n",
              "      <td>NaN</td>\n",
              "    </tr>\n",
              "    <tr>\n",
              "      <th>1</th>\n",
              "      <td>7.262027</td>\n",
              "      <td>9.0</td>\n",
              "      <td>99.0</td>\n",
              "      <td>8.0</td>\n",
              "      <td>45</td>\n",
              "      <td>38</td>\n",
              "      <td>NaN</td>\n",
              "      <td>NaN</td>\n",
              "    </tr>\n",
              "    <tr>\n",
              "      <th>2</th>\n",
              "      <td>6.000983</td>\n",
              "      <td>9.0</td>\n",
              "      <td>54.0</td>\n",
              "      <td>8.0</td>\n",
              "      <td>38</td>\n",
              "      <td>30</td>\n",
              "      <td>NaN</td>\n",
              "      <td>NaN</td>\n",
              "    </tr>\n",
              "    <tr>\n",
              "      <th>3</th>\n",
              "      <td>8.126239</td>\n",
              "      <td>9.0</td>\n",
              "      <td>30.0</td>\n",
              "      <td>8.0</td>\n",
              "      <td>39</td>\n",
              "      <td>31</td>\n",
              "      <td>NaN</td>\n",
              "      <td>NaN</td>\n",
              "    </tr>\n",
              "    <tr>\n",
              "      <th>4</th>\n",
              "      <td>7.312733</td>\n",
              "      <td>9.0</td>\n",
              "      <td>10.0</td>\n",
              "      <td>8.0</td>\n",
              "      <td>40</td>\n",
              "      <td>39</td>\n",
              "      <td>NaN</td>\n",
              "      <td>NaN</td>\n",
              "    </tr>\n",
              "    <tr>\n",
              "      <th>...</th>\n",
              "      <td>...</td>\n",
              "      <td>...</td>\n",
              "      <td>...</td>\n",
              "      <td>...</td>\n",
              "      <td>...</td>\n",
              "      <td>...</td>\n",
              "      <td>...</td>\n",
              "      <td>...</td>\n",
              "    </tr>\n",
              "    <tr>\n",
              "      <th>4255151</th>\n",
              "      <td>1.188292</td>\n",
              "      <td>5.0</td>\n",
              "      <td>99.0</td>\n",
              "      <td>7.0</td>\n",
              "      <td>99</td>\n",
              "      <td>32</td>\n",
              "      <td>3.0</td>\n",
              "      <td>99.0</td>\n",
              "    </tr>\n",
              "    <tr>\n",
              "      <th>4255152</th>\n",
              "      <td>5.125748</td>\n",
              "      <td>10.0</td>\n",
              "      <td>22.0</td>\n",
              "      <td>7.0</td>\n",
              "      <td>99</td>\n",
              "      <td>36</td>\n",
              "      <td>20.0</td>\n",
              "      <td>99.0</td>\n",
              "    </tr>\n",
              "    <tr>\n",
              "      <th>4255153</th>\n",
              "      <td>6.188376</td>\n",
              "      <td>9.0</td>\n",
              "      <td>32.0</td>\n",
              "      <td>7.0</td>\n",
              "      <td>99</td>\n",
              "      <td>23</td>\n",
              "      <td>NaN</td>\n",
              "      <td>99.0</td>\n",
              "    </tr>\n",
              "    <tr>\n",
              "      <th>4255154</th>\n",
              "      <td>7.187070</td>\n",
              "      <td>9.0</td>\n",
              "      <td>20.0</td>\n",
              "      <td>7.0</td>\n",
              "      <td>99</td>\n",
              "      <td>29</td>\n",
              "      <td>NaN</td>\n",
              "      <td>99.0</td>\n",
              "    </tr>\n",
              "    <tr>\n",
              "      <th>4255155</th>\n",
              "      <td>6.532297</td>\n",
              "      <td>9.0</td>\n",
              "      <td>2.0</td>\n",
              "      <td>7.0</td>\n",
              "      <td>45</td>\n",
              "      <td>34</td>\n",
              "      <td>NaN</td>\n",
              "      <td>99.0</td>\n",
              "    </tr>\n",
              "  </tbody>\n",
              "</table>\n",
              "<p>4255156 rows × 8 columns</p>\n",
              "</div>\n",
              "      <button class=\"colab-df-convert\" onclick=\"convertToInteractive('df-19d4f136-2f3f-4c1d-80af-94523950332e')\"\n",
              "              title=\"Convert this dataframe to an interactive table.\"\n",
              "              style=\"display:none;\">\n",
              "        \n",
              "  <svg xmlns=\"http://www.w3.org/2000/svg\" height=\"24px\"viewBox=\"0 0 24 24\"\n",
              "       width=\"24px\">\n",
              "    <path d=\"M0 0h24v24H0V0z\" fill=\"none\"/>\n",
              "    <path d=\"M18.56 5.44l.94 2.06.94-2.06 2.06-.94-2.06-.94-.94-2.06-.94 2.06-2.06.94zm-11 1L8.5 8.5l.94-2.06 2.06-.94-2.06-.94L8.5 2.5l-.94 2.06-2.06.94zm10 10l.94 2.06.94-2.06 2.06-.94-2.06-.94-.94-2.06-.94 2.06-2.06.94z\"/><path d=\"M17.41 7.96l-1.37-1.37c-.4-.4-.92-.59-1.43-.59-.52 0-1.04.2-1.43.59L10.3 9.45l-7.72 7.72c-.78.78-.78 2.05 0 2.83L4 21.41c.39.39.9.59 1.41.59.51 0 1.02-.2 1.41-.59l7.78-7.78 2.81-2.81c.8-.78.8-2.07 0-2.86zM5.41 20L4 18.59l7.72-7.72 1.47 1.35L5.41 20z\"/>\n",
              "  </svg>\n",
              "      </button>\n",
              "      \n",
              "  <style>\n",
              "    .colab-df-container {\n",
              "      display:flex;\n",
              "      flex-wrap:wrap;\n",
              "      gap: 12px;\n",
              "    }\n",
              "\n",
              "    .colab-df-convert {\n",
              "      background-color: #E8F0FE;\n",
              "      border: none;\n",
              "      border-radius: 50%;\n",
              "      cursor: pointer;\n",
              "      display: none;\n",
              "      fill: #1967D2;\n",
              "      height: 32px;\n",
              "      padding: 0 0 0 0;\n",
              "      width: 32px;\n",
              "    }\n",
              "\n",
              "    .colab-df-convert:hover {\n",
              "      background-color: #E2EBFA;\n",
              "      box-shadow: 0px 1px 2px rgba(60, 64, 67, 0.3), 0px 1px 3px 1px rgba(60, 64, 67, 0.15);\n",
              "      fill: #174EA6;\n",
              "    }\n",
              "\n",
              "    [theme=dark] .colab-df-convert {\n",
              "      background-color: #3B4455;\n",
              "      fill: #D2E3FC;\n",
              "    }\n",
              "\n",
              "    [theme=dark] .colab-df-convert:hover {\n",
              "      background-color: #434B5C;\n",
              "      box-shadow: 0px 1px 3px 1px rgba(0, 0, 0, 0.15);\n",
              "      filter: drop-shadow(0px 1px 2px rgba(0, 0, 0, 0.3));\n",
              "      fill: #FFFFFF;\n",
              "    }\n",
              "  </style>\n",
              "\n",
              "      <script>\n",
              "        const buttonEl =\n",
              "          document.querySelector('#df-19d4f136-2f3f-4c1d-80af-94523950332e button.colab-df-convert');\n",
              "        buttonEl.style.display =\n",
              "          google.colab.kernel.accessAllowed ? 'block' : 'none';\n",
              "\n",
              "        async function convertToInteractive(key) {\n",
              "          const element = document.querySelector('#df-19d4f136-2f3f-4c1d-80af-94523950332e');\n",
              "          const dataTable =\n",
              "            await google.colab.kernel.invokeFunction('convertToInteractive',\n",
              "                                                     [key], {});\n",
              "          if (!dataTable) return;\n",
              "\n",
              "          const docLinkHtml = 'Like what you see? Visit the ' +\n",
              "            '<a target=\"_blank\" href=https://colab.research.google.com/notebooks/data_table.ipynb>data table notebook</a>'\n",
              "            + ' to learn more about interactive tables.';\n",
              "          element.innerHTML = '';\n",
              "          dataTable['output_type'] = 'display_data';\n",
              "          await google.colab.output.renderOutput(dataTable, element);\n",
              "          const docLink = document.createElement('div');\n",
              "          docLink.innerHTML = docLinkHtml;\n",
              "          element.appendChild(docLink);\n",
              "        }\n",
              "      </script>\n",
              "    </div>\n",
              "  </div>\n",
              "  "
            ]
          },
          "metadata": {},
          "execution_count": 26
        }
      ],
      "source": [
        "## Seleccionar dataset con varables numericas\n",
        "\n",
        "df_numeric = df.loc[:, ['weight_pounds', 'apgar_5min', 'weight_gain_pounds', 'ever_born','father_age','mother_age', 'cigarettes_per_day', 'father_race'] ]\n",
        "df_numeric"
      ]
    },
    {
      "cell_type": "code",
      "execution_count": null,
      "metadata": {
        "colab": {
          "base_uri": "https://localhost:8080/",
          "height": 446
        },
        "id": "lLjZTZ_37Yk6",
        "outputId": "8552c438-8488-4ac8-c2c9-3714182e5e07"
      },
      "outputs": [
        {
          "output_type": "execute_result",
          "data": {
            "text/plain": [
              "<Axes: title={'center': 'Porcentaje de participación de género'}, ylabel='is_male'>"
            ]
          },
          "metadata": {},
          "execution_count": 6
        },
        {
          "output_type": "display_data",
          "data": {
            "text/plain": [
              "<Figure size 640x480 with 1 Axes>"
            ],
            "image/png": "[encoded data removed]"
          },
          "metadata": {}
        }
      ],
      "source": [
        "df['is_male'].value_counts().plot(kind='pie', autopct ='%.2f%%',\n",
        "                                  title ='Porcentaje de participación de género') ### Podemos observar que la mayoria de los nacidos para el año 2022 fueron hombres con un 51%"
      ]
    },
    {
      "cell_type": "code",
      "execution_count": null,
      "metadata": {
        "colab": {
          "base_uri": "https://localhost:8080/"
        },
        "id": "UB5bt_H1-Ysx",
        "outputId": "ba1932e2-1caa-416c-a015-0c9d80deecec"
      },
      "outputs": [
        {
          "output_type": "execute_result",
          "data": {
            "text/plain": [
              "is_male\n",
              "False    7.1\n",
              "True     7.3\n",
              "Name: weight_pounds, dtype: float64"
            ]
          },
          "metadata": {},
          "execution_count": 7
        }
      ],
      "source": [
        "peso_mean_gen = df.groupby(['is_male']).weight_pounds.mean().round(1)\n",
        "peso_mean_gen"
      ]
    },
    {
      "cell_type": "markdown",
      "metadata": {
        "id": "EJyDSpkND1rg"
      },
      "source": [
        "podemos observar que en promedio las niñas tienen un peso de 7.1 y los niños de 7.3 libras al nacer esto nos indica que no son nacimientos de bajo peso ya que para ser considerados de esta forma deben pesar 5.5 libras. "
      ]
    },
    {
      "cell_type": "code",
      "execution_count": null,
      "metadata": {
        "colab": {
          "base_uri": "https://localhost:8080/",
          "height": 848
        },
        "id": "4YxxLF12Fpip",
        "outputId": "53c03e6e-4123-4853-a6b2-e33cac8fd229"
      },
      "outputs": [
        {
          "output_type": "execute_result",
          "data": {
            "text/plain": [
              "[]"
            ]
          },
          "metadata": {},
          "execution_count": 33
        },
        {
          "output_type": "display_data",
          "data": {
            "text/plain": [
              "<Figure size 1000x1000 with 1 Axes>"
            ],
            "image/png": "[encoded data removed]"
          },
          "metadata": {}
        }
      ],
      "source": [
        "### Boxplot\n",
        "sns.set(rc={'figure.figsize':(10,10)}, font_scale = 0.7)\n",
        "sns.boxplot(data=df_numeric)\n",
        "plt.semilogy()"
      ]
    },
    {
      "cell_type": "markdown",
      "metadata": {
        "id": "Uv305LX6Nh-u"
      },
      "source": [
        "Podemos observar que tenemos variables que presentan valores atipicos, como por ejemplo la edad del padre el peso del bebe al nacer entre otras.Adicionalmente tenemos columnas con diferentes magnitudes es importante realizar transformación de datos para ajustarlas al modelo."
      ]
    },
    {
      "cell_type": "code",
      "execution_count": null,
      "metadata": {
        "colab": {
          "base_uri": "https://localhost:8080/",
          "height": 987
        },
        "id": "lzWIsPo4NO1j",
        "outputId": "358d010c-649f-48c5-f2b0-352eec1067a3"
      },
      "outputs": [
        {
          "output_type": "stream",
          "name": "stderr",
          "text": [
            "<ipython-input-35-48c239088b20>:13: UserWarning: Ignoring `palette` because no `hue` variable has been assigned.\n",
            "  sns.histplot(ax = ax[i][j], data = df, x=dict[k], bins = bins[k], stat=\"density\", common_norm=False, shrink = 0.8, palette='YlOrBr')\n",
            "<ipython-input-35-48c239088b20>:13: UserWarning: Ignoring `palette` because no `hue` variable has been assigned.\n",
            "  sns.histplot(ax = ax[i][j], data = df, x=dict[k], bins = bins[k], stat=\"density\", common_norm=False, shrink = 0.8, palette='YlOrBr')\n",
            "<ipython-input-35-48c239088b20>:13: UserWarning: Ignoring `palette` because no `hue` variable has been assigned.\n",
            "  sns.histplot(ax = ax[i][j], data = df, x=dict[k], bins = bins[k], stat=\"density\", common_norm=False, shrink = 0.8, palette='YlOrBr')\n",
            "<ipython-input-35-48c239088b20>:13: UserWarning: Ignoring `palette` because no `hue` variable has been assigned.\n",
            "  sns.histplot(ax = ax[i][j], data = df, x=dict[k], bins = bins[k], stat=\"density\", common_norm=False, shrink = 0.8, palette='YlOrBr')\n"
          ]
        },
        {
          "output_type": "display_data",
          "data": {
            "text/plain": [
              "<Figure size 1500x1000 with 4 Axes>"
            ],
            "image/png": "[encoded data removed]"
          },
          "metadata": {}
        }
      ],
      "source": [
        "### Histograma\n",
        "ig, ax = plt.subplots(2,2, figsize=(15,10))\n",
        "\n",
        "dict = {i: df_numeric.select_dtypes(include=['float64']).columns.to_list()[i] for i in range(4)} #Creación de diccionario para homologar llamado del ciclo iterativo\n",
        "bins = {0: 20 , 1: 50 , 2: 10, 3: 10}\n",
        "\n",
        "k = 0\n",
        "\n",
        "for i in range(2):\n",
        "    for j in range(2):\n",
        "\n",
        "      \n",
        "        sns.histplot(ax = ax[i][j], data = df, x=dict[k], bins = bins[k], stat=\"density\", common_norm=False, shrink = 0.8, palette='YlOrBr')\n",
        "        k += 1\n"
      ]
    },
    {
      "cell_type": "markdown",
      "metadata": {
        "id": "HtIsLgQefJRx"
      },
      "source": [
        "Podemos observar que las variables weigth_gain pounds y ever_born presentan asimetria a la derecha. en promedio el peso de las madres en el embarazo aumenta entre 30 a 40 lbs y la mayoria de las madres tienen entre 1 a 2 hijos. Por otra parte la mayoria de los niños nacidos tienen un estado de salud clasificado como muy bueno, por ultimo como mencionamos anteriormente en promedio los niños naces con un peso de 7.2 lbs.\n",
        "\n",
        "Un punto importante a resaltar es que la cantidad de hijos vivos que tiene una madre despues del embarazo presenta valores atipicos despues de los 6 hijos.\n",
        "\n"
      ]
    },
    {
      "cell_type": "code",
      "source": [
        "fig, ax = plt.subplots()\n",
        "ax.scatter(x = df_numeric['apgar_5min'], y = df_numeric['weight_gain_pounds'])"
      ],
      "metadata": {
        "colab": {
          "base_uri": "https://localhost:8080/",
          "height": 847
        },
        "id": "JhOAyfq1li2R",
        "outputId": "8a7f353d-529e-4e46-9be5-4d3c73013e5b"
      },
      "execution_count": null,
      "outputs": [
        {
          "output_type": "execute_result",
          "data": {
            "text/plain": [
              "<matplotlib.collections.PathCollection at 0x7fa7218d13f0>"
            ]
          },
          "metadata": {},
          "execution_count": 10
        },
        {
          "output_type": "display_data",
          "data": {
            "text/plain": [
              "<Figure size 1000x1000 with 1 Axes>"
            ],
            "image/png": "[encoded data removed]"
          },
          "metadata": {}
        }
      ]
    },
    {
      "cell_type": "code",
      "source": [
        "fig, ax = plt.subplots()\n",
        "ax.scatter(x = df_numeric['weight_gain_pounds'], y = df_numeric['weight_gain_pounds'])"
      ],
      "metadata": {
        "colab": {
          "base_uri": "https://localhost:8080/",
          "height": 847
        },
        "id": "Zb4VwPnSoPtL",
        "outputId": "b0d7107c-eab0-49ea-f249-bd73a5eb52c2"
      },
      "execution_count": null,
      "outputs": [
        {
          "output_type": "execute_result",
          "data": {
            "text/plain": [
              "<matplotlib.collections.PathCollection at 0x7fa7218b8eb0>"
            ]
          },
          "metadata": {},
          "execution_count": 11
        },
        {
          "output_type": "display_data",
          "data": {
            "text/plain": [
              "<Figure size 1000x1000 with 1 Axes>"
            ],
            "image/png": "[encoded data removed]"
          },
          "metadata": {}
        }
      ]
    },
    {
      "cell_type": "code",
      "source": [
        "fig, ax = plt.subplots()\n",
        "ax.scatter(x = df_numeric['ever_born'], y = df_numeric['weight_gain_pounds'])"
      ],
      "metadata": {
        "colab": {
          "base_uri": "https://localhost:8080/",
          "height": 847
        },
        "id": "4Pl17-v6oyAX",
        "outputId": "c14e06a7-8108-4901-b0c8-78271595cbd3"
      },
      "execution_count": null,
      "outputs": [
        {
          "output_type": "execute_result",
          "data": {
            "text/plain": [
              "<matplotlib.collections.PathCollection at 0x7fa7219734c0>"
            ]
          },
          "metadata": {},
          "execution_count": 12
        },
        {
          "output_type": "display_data",
          "data": {
            "text/plain": [
              "<Figure size 1000x1000 with 1 Axes>"
            ],
            "image/png": "[encoded data removed]"
          },
          "metadata": {}
        }
      ]
    },
    {
      "cell_type": "code",
      "source": [
        "fig, ax = plt.subplots()\n",
        "ax.scatter(x = df_numeric['father_age'], y = df_numeric['weight_gain_pounds'])"
      ],
      "metadata": {
        "colab": {
          "base_uri": "https://localhost:8080/",
          "height": 847
        },
        "id": "EZoc5-29pJsW",
        "outputId": "ea93c399-403c-477e-8e23-15f9b01ab767"
      },
      "execution_count": null,
      "outputs": [
        {
          "output_type": "execute_result",
          "data": {
            "text/plain": [
              "<matplotlib.collections.PathCollection at 0x7fa7217ee380>"
            ]
          },
          "metadata": {},
          "execution_count": 13
        },
        {
          "output_type": "display_data",
          "data": {
            "text/plain": [
              "<Figure size 1000x1000 with 1 Axes>"
            ],
            "image/png": "[encoded data removed]"
          },
          "metadata": {}
        }
      ]
    },
    {
      "cell_type": "code",
      "source": [
        "fig, ax = plt.subplots()\n",
        "ax.scatter(x = df_numeric['mother_age'], y = df_numeric['weight_gain_pounds'])"
      ],
      "metadata": {
        "colab": {
          "base_uri": "https://localhost:8080/",
          "height": 847
        },
        "id": "lDj4TtclpcbH",
        "outputId": "da93afca-3dfd-4398-dbbb-1d3f408be31b"
      },
      "execution_count": null,
      "outputs": [
        {
          "output_type": "execute_result",
          "data": {
            "text/plain": [
              "<matplotlib.collections.PathCollection at 0x7fa721862890>"
            ]
          },
          "metadata": {},
          "execution_count": 14
        },
        {
          "output_type": "display_data",
          "data": {
            "text/plain": [
              "<Figure size 1000x1000 with 1 Axes>"
            ],
            "image/png": "[encoded data removed]"
          },
          "metadata": {}
        }
      ]
    },
    {
      "cell_type": "code",
      "source": [
        "fig, ax = plt.subplots()\n",
        "ax.scatter(x = df_numeric['cigarettes_per_day'], y = df_numeric['weight_gain_pounds'])"
      ],
      "metadata": {
        "colab": {
          "base_uri": "https://localhost:8080/",
          "height": 847
        },
        "id": "Gl3nU4Dsqjf3",
        "outputId": "f302c77c-bf51-4c9b-df5a-41382139f587"
      },
      "execution_count": null,
      "outputs": [
        {
          "output_type": "execute_result",
          "data": {
            "text/plain": [
              "<matplotlib.collections.PathCollection at 0x7fa72180e2c0>"
            ]
          },
          "metadata": {},
          "execution_count": 22
        },
        {
          "output_type": "display_data",
          "data": {
            "text/plain": [
              "<Figure size 1000x1000 with 1 Axes>"
            ],
            "image/png": "[encoded data removed]"
          },
          "metadata": {}
        }
      ]
    },
    {
      "cell_type": "code",
      "execution_count": null,
      "metadata": {
        "colab": {
          "base_uri": "https://localhost:8080/",
          "height": 300
        },
        "id": "IounJipTje91",
        "outputId": "c45ea675-0784-4c81-b095-1812340460f8"
      },
      "outputs": [
        {
          "output_type": "execute_result",
          "data": {
            "text/plain": [
              "                    weight_pounds  apgar_5min  weight_gain_pounds  ever_born  \\\n",
              "weight_pounds            1.000000    0.242575            0.075785   0.021223   \n",
              "apgar_5min               0.242575    1.000000           -0.020309   0.021342   \n",
              "weight_gain_pounds       0.075785   -0.020309            1.000000  -0.052187   \n",
              "ever_born                0.021223    0.021342           -0.052187   1.000000   \n",
              "father_age              -0.080341   -0.033031            0.011452   0.072070   \n",
              "mother_age               0.064084    0.012619           -0.032272   0.342316   \n",
              "cigarettes_per_day      -0.023072   -0.025171            0.050256   0.051028   \n",
              "father_race             -0.103519   -0.033418            0.014882   0.011145   \n",
              "\n",
              "                    father_age  mother_age  cigarettes_per_day  father_race  \n",
              "weight_pounds        -0.080341    0.064084           -0.023072    -0.103519  \n",
              "apgar_5min           -0.033031    0.012619           -0.025171    -0.033418  \n",
              "weight_gain_pounds    0.011452   -0.032272            0.050256     0.014882  \n",
              "ever_born             0.072070    0.342316            0.051028     0.011145  \n",
              "father_age            1.000000   -0.032147            0.015740     0.854728  \n",
              "mother_age           -0.032147    1.000000            0.046304    -0.225124  \n",
              "cigarettes_per_day    0.015740    0.046304            1.000000     0.007944  \n",
              "father_race           0.854728   -0.225124            0.007944     1.000000  "
            ],
            "text/html": [
              "\n",
              "  <div id=\"df-3ede232f-1f7a-4173-b76f-c4c78159e1af\">\n",
              "    <div class=\"colab-df-container\">\n",
              "      <div>\n",
              "<style scoped>\n",
              "    .dataframe tbody tr th:only-of-type {\n",
              "        vertical-align: middle;\n",
              "    }\n",
              "\n",
              "    .dataframe tbody tr th {\n",
              "        vertical-align: top;\n",
              "    }\n",
              "\n",
              "    .dataframe thead th {\n",
              "        text-align: right;\n",
              "    }\n",
              "</style>\n",
              "<table border=\"1\" class=\"dataframe\">\n",
              "  <thead>\n",
              "    <tr style=\"text-align: right;\">\n",
              "      <th></th>\n",
              "      <th>weight_pounds</th>\n",
              "      <th>apgar_5min</th>\n",
              "      <th>weight_gain_pounds</th>\n",
              "      <th>ever_born</th>\n",
              "      <th>father_age</th>\n",
              "      <th>mother_age</th>\n",
              "      <th>cigarettes_per_day</th>\n",
              "      <th>father_race</th>\n",
              "    </tr>\n",
              "  </thead>\n",
              "  <tbody>\n",
              "    <tr>\n",
              "      <th>weight_pounds</th>\n",
              "      <td>1.000000</td>\n",
              "      <td>0.242575</td>\n",
              "      <td>0.075785</td>\n",
              "      <td>0.021223</td>\n",
              "      <td>-0.080341</td>\n",
              "      <td>0.064084</td>\n",
              "      <td>-0.023072</td>\n",
              "      <td>-0.103519</td>\n",
              "    </tr>\n",
              "    <tr>\n",
              "      <th>apgar_5min</th>\n",
              "      <td>0.242575</td>\n",
              "      <td>1.000000</td>\n",
              "      <td>-0.020309</td>\n",
              "      <td>0.021342</td>\n",
              "      <td>-0.033031</td>\n",
              "      <td>0.012619</td>\n",
              "      <td>-0.025171</td>\n",
              "      <td>-0.033418</td>\n",
              "    </tr>\n",
              "    <tr>\n",
              "      <th>weight_gain_pounds</th>\n",
              "      <td>0.075785</td>\n",
              "      <td>-0.020309</td>\n",
              "      <td>1.000000</td>\n",
              "      <td>-0.052187</td>\n",
              "      <td>0.011452</td>\n",
              "      <td>-0.032272</td>\n",
              "      <td>0.050256</td>\n",
              "      <td>0.014882</td>\n",
              "    </tr>\n",
              "    <tr>\n",
              "      <th>ever_born</th>\n",
              "      <td>0.021223</td>\n",
              "      <td>0.021342</td>\n",
              "      <td>-0.052187</td>\n",
              "      <td>1.000000</td>\n",
              "      <td>0.072070</td>\n",
              "      <td>0.342316</td>\n",
              "      <td>0.051028</td>\n",
              "      <td>0.011145</td>\n",
              "    </tr>\n",
              "    <tr>\n",
              "      <th>father_age</th>\n",
              "      <td>-0.080341</td>\n",
              "      <td>-0.033031</td>\n",
              "      <td>0.011452</td>\n",
              "      <td>0.072070</td>\n",
              "      <td>1.000000</td>\n",
              "      <td>-0.032147</td>\n",
              "      <td>0.015740</td>\n",
              "      <td>0.854728</td>\n",
              "    </tr>\n",
              "    <tr>\n",
              "      <th>mother_age</th>\n",
              "      <td>0.064084</td>\n",
              "      <td>0.012619</td>\n",
              "      <td>-0.032272</td>\n",
              "      <td>0.342316</td>\n",
              "      <td>-0.032147</td>\n",
              "      <td>1.000000</td>\n",
              "      <td>0.046304</td>\n",
              "      <td>-0.225124</td>\n",
              "    </tr>\n",
              "    <tr>\n",
              "      <th>cigarettes_per_day</th>\n",
              "      <td>-0.023072</td>\n",
              "      <td>-0.025171</td>\n",
              "      <td>0.050256</td>\n",
              "      <td>0.051028</td>\n",
              "      <td>0.015740</td>\n",
              "      <td>0.046304</td>\n",
              "      <td>1.000000</td>\n",
              "      <td>0.007944</td>\n",
              "    </tr>\n",
              "    <tr>\n",
              "      <th>father_race</th>\n",
              "      <td>-0.103519</td>\n",
              "      <td>-0.033418</td>\n",
              "      <td>0.014882</td>\n",
              "      <td>0.011145</td>\n",
              "      <td>0.854728</td>\n",
              "      <td>-0.225124</td>\n",
              "      <td>0.007944</td>\n",
              "      <td>1.000000</td>\n",
              "    </tr>\n",
              "  </tbody>\n",
              "</table>\n",
              "</div>\n",
              "      <button class=\"colab-df-convert\" onclick=\"convertToInteractive('df-3ede232f-1f7a-4173-b76f-c4c78159e1af')\"\n",
              "              title=\"Convert this dataframe to an interactive table.\"\n",
              "              style=\"display:none;\">\n",
              "        \n",
              "  <svg xmlns=\"http://www.w3.org/2000/svg\" height=\"24px\"viewBox=\"0 0 24 24\"\n",
              "       width=\"24px\">\n",
              "    <path d=\"M0 0h24v24H0V0z\" fill=\"none\"/>\n",
              "    <path d=\"M18.56 5.44l.94 2.06.94-2.06 2.06-.94-2.06-.94-.94-2.06-.94 2.06-2.06.94zm-11 1L8.5 8.5l.94-2.06 2.06-.94-2.06-.94L8.5 2.5l-.94 2.06-2.06.94zm10 10l.94 2.06.94-2.06 2.06-.94-2.06-.94-.94-2.06-.94 2.06-2.06.94z\"/><path d=\"M17.41 7.96l-1.37-1.37c-.4-.4-.92-.59-1.43-.59-.52 0-1.04.2-1.43.59L10.3 9.45l-7.72 7.72c-.78.78-.78 2.05 0 2.83L4 21.41c.39.39.9.59 1.41.59.51 0 1.02-.2 1.41-.59l7.78-7.78 2.81-2.81c.8-.78.8-2.07 0-2.86zM5.41 20L4 18.59l7.72-7.72 1.47 1.35L5.41 20z\"/>\n",
              "  </svg>\n",
              "      </button>\n",
              "      \n",
              "  <style>\n",
              "    .colab-df-container {\n",
              "      display:flex;\n",
              "      flex-wrap:wrap;\n",
              "      gap: 12px;\n",
              "    }\n",
              "\n",
              "    .colab-df-convert {\n",
              "      background-color: #E8F0FE;\n",
              "      border: none;\n",
              "      border-radius: 50%;\n",
              "      cursor: pointer;\n",
              "      display: none;\n",
              "      fill: #1967D2;\n",
              "      height: 32px;\n",
              "      padding: 0 0 0 0;\n",
              "      width: 32px;\n",
              "    }\n",
              "\n",
              "    .colab-df-convert:hover {\n",
              "      background-color: #E2EBFA;\n",
              "      box-shadow: 0px 1px 2px rgba(60, 64, 67, 0.3), 0px 1px 3px 1px rgba(60, 64, 67, 0.15);\n",
              "      fill: #174EA6;\n",
              "    }\n",
              "\n",
              "    [theme=dark] .colab-df-convert {\n",
              "      background-color: #3B4455;\n",
              "      fill: #D2E3FC;\n",
              "    }\n",
              "\n",
              "    [theme=dark] .colab-df-convert:hover {\n",
              "      background-color: #434B5C;\n",
              "      box-shadow: 0px 1px 3px 1px rgba(0, 0, 0, 0.15);\n",
              "      filter: drop-shadow(0px 1px 2px rgba(0, 0, 0, 0.3));\n",
              "      fill: #FFFFFF;\n",
              "    }\n",
              "  </style>\n",
              "\n",
              "      <script>\n",
              "        const buttonEl =\n",
              "          document.querySelector('#df-3ede232f-1f7a-4173-b76f-c4c78159e1af button.colab-df-convert');\n",
              "        buttonEl.style.display =\n",
              "          google.colab.kernel.accessAllowed ? 'block' : 'none';\n",
              "\n",
              "        async function convertToInteractive(key) {\n",
              "          const element = document.querySelector('#df-3ede232f-1f7a-4173-b76f-c4c78159e1af');\n",
              "          const dataTable =\n",
              "            await google.colab.kernel.invokeFunction('convertToInteractive',\n",
              "                                                     [key], {});\n",
              "          if (!dataTable) return;\n",
              "\n",
              "          const docLinkHtml = 'Like what you see? Visit the ' +\n",
              "            '<a target=\"_blank\" href=https://colab.research.google.com/notebooks/data_table.ipynb>data table notebook</a>'\n",
              "            + ' to learn more about interactive tables.';\n",
              "          element.innerHTML = '';\n",
              "          dataTable['output_type'] = 'display_data';\n",
              "          await google.colab.output.renderOutput(dataTable, element);\n",
              "          const docLink = document.createElement('div');\n",
              "          docLink.innerHTML = docLinkHtml;\n",
              "          element.appendChild(docLink);\n",
              "        }\n",
              "      </script>\n",
              "    </div>\n",
              "  </div>\n",
              "  "
            ]
          },
          "metadata": {},
          "execution_count": 36
        }
      ],
      "source": [
        "# Matriz de correlación\n",
        "# ==============================================================================\n",
        "corr_matrix = df_numeric.corr(method='pearson')\n",
        "corr_matrix"
      ]
    },
    {
      "cell_type": "code",
      "execution_count": null,
      "metadata": {
        "colab": {
          "base_uri": "https://localhost:8080/",
          "height": 363
        },
        "id": "b7avt0SpjtBH",
        "outputId": "5a821824-6a4d-4319-8c00-178f48cfe27b"
      },
      "outputs": [
        {
          "output_type": "execute_result",
          "data": {
            "text/plain": [
              "       variable_1     variable_2         r     abs_r\n",
              "60    father_race     father_age  0.854728  0.854728\n",
              "39     father_age    father_race  0.854728  0.854728\n",
              "29      ever_born     mother_age  0.342316  0.342316\n",
              "43     mother_age      ever_born  0.342316  0.342316\n",
              "1   weight_pounds     apgar_5min  0.242575  0.242575\n",
              "8      apgar_5min  weight_pounds  0.242575  0.242575\n",
              "61    father_race     mother_age -0.225124  0.225124\n",
              "47     mother_age    father_race -0.225124  0.225124\n",
              "56    father_race  weight_pounds -0.103519  0.103519\n",
              "7   weight_pounds    father_race -0.103519  0.103519"
            ],
            "text/html": [
              "\n",
              "  <div id=\"df-04d2f79f-a6ad-42c2-b16b-2563b052ad94\">\n",
              "    <div class=\"colab-df-container\">\n",
              "      <div>\n",
              "<style scoped>\n",
              "    .dataframe tbody tr th:only-of-type {\n",
              "        vertical-align: middle;\n",
              "    }\n",
              "\n",
              "    .dataframe tbody tr th {\n",
              "        vertical-align: top;\n",
              "    }\n",
              "\n",
              "    .dataframe thead th {\n",
              "        text-align: right;\n",
              "    }\n",
              "</style>\n",
              "<table border=\"1\" class=\"dataframe\">\n",
              "  <thead>\n",
              "    <tr style=\"text-align: right;\">\n",
              "      <th></th>\n",
              "      <th>variable_1</th>\n",
              "      <th>variable_2</th>\n",
              "      <th>r</th>\n",
              "      <th>abs_r</th>\n",
              "    </tr>\n",
              "  </thead>\n",
              "  <tbody>\n",
              "    <tr>\n",
              "      <th>60</th>\n",
              "      <td>father_race</td>\n",
              "      <td>father_age</td>\n",
              "      <td>0.854728</td>\n",
              "      <td>0.854728</td>\n",
              "    </tr>\n",
              "    <tr>\n",
              "      <th>39</th>\n",
              "      <td>father_age</td>\n",
              "      <td>father_race</td>\n",
              "      <td>0.854728</td>\n",
              "      <td>0.854728</td>\n",
              "    </tr>\n",
              "    <tr>\n",
              "      <th>29</th>\n",
              "      <td>ever_born</td>\n",
              "      <td>mother_age</td>\n",
              "      <td>0.342316</td>\n",
              "      <td>0.342316</td>\n",
              "    </tr>\n",
              "    <tr>\n",
              "      <th>43</th>\n",
              "      <td>mother_age</td>\n",
              "      <td>ever_born</td>\n",
              "      <td>0.342316</td>\n",
              "      <td>0.342316</td>\n",
              "    </tr>\n",
              "    <tr>\n",
              "      <th>1</th>\n",
              "      <td>weight_pounds</td>\n",
              "      <td>apgar_5min</td>\n",
              "      <td>0.242575</td>\n",
              "      <td>0.242575</td>\n",
              "    </tr>\n",
              "    <tr>\n",
              "      <th>8</th>\n",
              "      <td>apgar_5min</td>\n",
              "      <td>weight_pounds</td>\n",
              "      <td>0.242575</td>\n",
              "      <td>0.242575</td>\n",
              "    </tr>\n",
              "    <tr>\n",
              "      <th>61</th>\n",
              "      <td>father_race</td>\n",
              "      <td>mother_age</td>\n",
              "      <td>-0.225124</td>\n",
              "      <td>0.225124</td>\n",
              "    </tr>\n",
              "    <tr>\n",
              "      <th>47</th>\n",
              "      <td>mother_age</td>\n",
              "      <td>father_race</td>\n",
              "      <td>-0.225124</td>\n",
              "      <td>0.225124</td>\n",
              "    </tr>\n",
              "    <tr>\n",
              "      <th>56</th>\n",
              "      <td>father_race</td>\n",
              "      <td>weight_pounds</td>\n",
              "      <td>-0.103519</td>\n",
              "      <td>0.103519</td>\n",
              "    </tr>\n",
              "    <tr>\n",
              "      <th>7</th>\n",
              "      <td>weight_pounds</td>\n",
              "      <td>father_race</td>\n",
              "      <td>-0.103519</td>\n",
              "      <td>0.103519</td>\n",
              "    </tr>\n",
              "  </tbody>\n",
              "</table>\n",
              "</div>\n",
              "      <button class=\"colab-df-convert\" onclick=\"convertToInteractive('df-04d2f79f-a6ad-42c2-b16b-2563b052ad94')\"\n",
              "              title=\"Convert this dataframe to an interactive table.\"\n",
              "              style=\"display:none;\">\n",
              "        \n",
              "  <svg xmlns=\"http://www.w3.org/2000/svg\" height=\"24px\"viewBox=\"0 0 24 24\"\n",
              "       width=\"24px\">\n",
              "    <path d=\"M0 0h24v24H0V0z\" fill=\"none\"/>\n",
              "    <path d=\"M18.56 5.44l.94 2.06.94-2.06 2.06-.94-2.06-.94-.94-2.06-.94 2.06-2.06.94zm-11 1L8.5 8.5l.94-2.06 2.06-.94-2.06-.94L8.5 2.5l-.94 2.06-2.06.94zm10 10l.94 2.06.94-2.06 2.06-.94-2.06-.94-.94-2.06-.94 2.06-2.06.94z\"/><path d=\"M17.41 7.96l-1.37-1.37c-.4-.4-.92-.59-1.43-.59-.52 0-1.04.2-1.43.59L10.3 9.45l-7.72 7.72c-.78.78-.78 2.05 0 2.83L4 21.41c.39.39.9.59 1.41.59.51 0 1.02-.2 1.41-.59l7.78-7.78 2.81-2.81c.8-.78.8-2.07 0-2.86zM5.41 20L4 18.59l7.72-7.72 1.47 1.35L5.41 20z\"/>\n",
              "  </svg>\n",
              "      </button>\n",
              "      \n",
              "  <style>\n",
              "    .colab-df-container {\n",
              "      display:flex;\n",
              "      flex-wrap:wrap;\n",
              "      gap: 12px;\n",
              "    }\n",
              "\n",
              "    .colab-df-convert {\n",
              "      background-color: #E8F0FE;\n",
              "      border: none;\n",
              "      border-radius: 50%;\n",
              "      cursor: pointer;\n",
              "      display: none;\n",
              "      fill: #1967D2;\n",
              "      height: 32px;\n",
              "      padding: 0 0 0 0;\n",
              "      width: 32px;\n",
              "    }\n",
              "\n",
              "    .colab-df-convert:hover {\n",
              "      background-color: #E2EBFA;\n",
              "      box-shadow: 0px 1px 2px rgba(60, 64, 67, 0.3), 0px 1px 3px 1px rgba(60, 64, 67, 0.15);\n",
              "      fill: #174EA6;\n",
              "    }\n",
              "\n",
              "    [theme=dark] .colab-df-convert {\n",
              "      background-color: #3B4455;\n",
              "      fill: #D2E3FC;\n",
              "    }\n",
              "\n",
              "    [theme=dark] .colab-df-convert:hover {\n",
              "      background-color: #434B5C;\n",
              "      box-shadow: 0px 1px 3px 1px rgba(0, 0, 0, 0.15);\n",
              "      filter: drop-shadow(0px 1px 2px rgba(0, 0, 0, 0.3));\n",
              "      fill: #FFFFFF;\n",
              "    }\n",
              "  </style>\n",
              "\n",
              "      <script>\n",
              "        const buttonEl =\n",
              "          document.querySelector('#df-04d2f79f-a6ad-42c2-b16b-2563b052ad94 button.colab-df-convert');\n",
              "        buttonEl.style.display =\n",
              "          google.colab.kernel.accessAllowed ? 'block' : 'none';\n",
              "\n",
              "        async function convertToInteractive(key) {\n",
              "          const element = document.querySelector('#df-04d2f79f-a6ad-42c2-b16b-2563b052ad94');\n",
              "          const dataTable =\n",
              "            await google.colab.kernel.invokeFunction('convertToInteractive',\n",
              "                                                     [key], {});\n",
              "          if (!dataTable) return;\n",
              "\n",
              "          const docLinkHtml = 'Like what you see? Visit the ' +\n",
              "            '<a target=\"_blank\" href=https://colab.research.google.com/notebooks/data_table.ipynb>data table notebook</a>'\n",
              "            + ' to learn more about interactive tables.';\n",
              "          element.innerHTML = '';\n",
              "          dataTable['output_type'] = 'display_data';\n",
              "          await google.colab.output.renderOutput(dataTable, element);\n",
              "          const docLink = document.createElement('div');\n",
              "          docLink.innerHTML = docLinkHtml;\n",
              "          element.appendChild(docLink);\n",
              "        }\n",
              "      </script>\n",
              "    </div>\n",
              "  </div>\n",
              "  "
            ]
          },
          "metadata": {},
          "execution_count": 37
        }
      ],
      "source": [
        "def tidy_corr_matrix(corr_mat):\n",
        "    '''\n",
        "    Función para convertir una matriz de correlación de pandas en formato tidy.\n",
        "    '''\n",
        "    corr_mat = corr_mat.stack().reset_index()\n",
        "    corr_mat.columns = ['variable_1','variable_2','r']\n",
        "    corr_mat = corr_mat.loc[corr_mat['variable_1'] != corr_mat['variable_2'], :]\n",
        "    corr_mat['abs_r'] = np.abs(corr_mat['r'])\n",
        "    corr_mat = corr_mat.sort_values('abs_r', ascending=False)\n",
        "    \n",
        "    return(corr_mat)\n",
        "\n",
        "tidy_corr_matrix(corr_matrix).head(10)"
      ]
    },
    {
      "cell_type": "code",
      "execution_count": null,
      "metadata": {
        "colab": {
          "base_uri": "https://localhost:8080/",
          "height": 545
        },
        "id": "12eMK6AhicHv",
        "outputId": "6e2fabe5-8225-4fd0-d9a2-894eecb6a3c2"
      },
      "outputs": [
        {
          "output_type": "display_data",
          "data": {
            "text/plain": [
              "<Figure size 500x500 with 1 Axes>"
            ],
            "image/png": "[encoded data removed]"
          },
          "metadata": {}
        }
      ],
      "source": [
        "#### Correlograma\n",
        "\n",
        "fig, ax = plt.subplots(nrows=1, ncols=1, figsize=(5, 5))\n",
        "\n",
        "sns.heatmap(\n",
        "    corr_matrix,\n",
        "    annot     = True,\n",
        "    cbar      = False,\n",
        "    annot_kws = {\"size\": 8},\n",
        "    vmin      = -1,\n",
        "    vmax      = 1,\n",
        "    center    = 0,\n",
        "    cmap      = sns.diverging_palette(20, 220, n=200),\n",
        "    square    = True,\n",
        "    ax        = ax\n",
        ")\n",
        "\n",
        "ax.set_xticklabels(\n",
        "    ax.get_xticklabels(),\n",
        "    rotation = 45,\n",
        "    horizontalalignment = 'right',\n",
        ")\n",
        "\n",
        "ax.tick_params(labelsize = 10)"
      ]
    },
    {
      "cell_type": "markdown",
      "metadata": {
        "id": "mauk8CSIkGAk"
      },
      "source": [
        "Podemos observar que la mayoria de nuestras variables numericas no presentan una correlación alto lo que nos indica que podemos usarlas todas para nuestro modelo. Es importante resaltar que la variable cantidad de hijos y edad de la madre tienen una correlación del 34% y la variable peso del recien nacido y el indice de salud a los 5 minutos de haber nacido tienen una correlación del 24%. Aun así podemos usarlas ya que no tienen correlación muy alta."
      ]
    },
    {
      "cell_type": "markdown",
      "metadata": {
        "id": "F4XsHonUlgE_"
      },
      "source": [
        "#**3. Preparación de los datos**"
      ]
    },
    {
      "cell_type": "markdown",
      "metadata": {
        "id": "ycHRKfO6l6D1"
      },
      "source": [
        "Una vez completado el EDA se procede a realizar las modificaciones pertinentes a cada una de las variables y realizar los siguientes procesos para darle mayor eficiencia a nuestros modelos:\n",
        "\n",
        "\n",
        "\n",
        "1.  Eliminar variables redundantes o que no aportan información.\n",
        "2. Creación de variables dummy.\n",
        "3.  Imputar datos a variables numericas para dar mayor completitud a los datos.\n",
        "4. dividvir nuestro dataset en train y test.\n",
        "5. normalizar y estandarizar los datos para evitar influencias.\n",
        "\n",
        "\n",
        "\n",
        "\n",
        "\n"
      ]
    },
    {
      "cell_type": "code",
      "execution_count": 27,
      "metadata": {
        "colab": {
          "base_uri": "https://localhost:8080/",
          "height": 206
        },
        "id": "2ZrcWXEmoNyL",
        "outputId": "66187e04-c74d-47c6-c09a-7741e391abba"
      },
      "outputs": [
        {
          "output_type": "execute_result",
          "data": {
            "text/plain": [
              "   month  is_male  weight_pounds  plurality  cigarettes_per_day  apgar_5min  \\\n",
              "0      4    False       6.437498          1                 NaN         9.0   \n",
              "1      3    False       7.262027          1                 NaN         9.0   \n",
              "2     12     True       6.000983          1                 NaN         9.0   \n",
              "3     10     True       8.126239          1                 NaN         9.0   \n",
              "4     11    False       7.312733          1                 NaN         9.0   \n",
              "\n",
              "   mother_race  weight_gain_pounds  ever_born  father_age  mother_age  \\\n",
              "0          NaN                30.0        8.0          49          34   \n",
              "1          NaN                99.0        8.0          45          38   \n",
              "2          NaN                54.0        8.0          38          30   \n",
              "3          NaN                30.0        8.0          39          31   \n",
              "4          NaN                10.0        8.0          40          39   \n",
              "\n",
              "   gestation_weeks  wday  \n",
              "0             38.0     5  \n",
              "1             40.0     5  \n",
              "2             36.0     2  \n",
              "3             38.0     4  \n",
              "4             39.0     4  "
            ],
            "text/html": [
              "\n",
              "  <div id=\"df-0cd36000-0a08-40ab-97e6-597ea9509047\">\n",
              "    <div class=\"colab-df-container\">\n",
              "      <div>\n",
              "<style scoped>\n",
              "    .dataframe tbody tr th:only-of-type {\n",
              "        vertical-align: middle;\n",
              "    }\n",
              "\n",
              "    .dataframe tbody tr th {\n",
              "        vertical-align: top;\n",
              "    }\n",
              "\n",
              "    .dataframe thead th {\n",
              "        text-align: right;\n",
              "    }\n",
              "</style>\n",
              "<table border=\"1\" class=\"dataframe\">\n",
              "  <thead>\n",
              "    <tr style=\"text-align: right;\">\n",
              "      <th></th>\n",
              "      <th>month</th>\n",
              "      <th>is_male</th>\n",
              "      <th>weight_pounds</th>\n",
              "      <th>plurality</th>\n",
              "      <th>cigarettes_per_day</th>\n",
              "      <th>apgar_5min</th>\n",
              "      <th>mother_race</th>\n",
              "      <th>weight_gain_pounds</th>\n",
              "      <th>ever_born</th>\n",
              "      <th>father_age</th>\n",
              "      <th>mother_age</th>\n",
              "      <th>gestation_weeks</th>\n",
              "      <th>wday</th>\n",
              "    </tr>\n",
              "  </thead>\n",
              "  <tbody>\n",
              "    <tr>\n",
              "      <th>0</th>\n",
              "      <td>4</td>\n",
              "      <td>False</td>\n",
              "      <td>6.437498</td>\n",
              "      <td>1</td>\n",
              "      <td>NaN</td>\n",
              "      <td>9.0</td>\n",
              "      <td>NaN</td>\n",
              "      <td>30.0</td>\n",
              "      <td>8.0</td>\n",
              "      <td>49</td>\n",
              "      <td>34</td>\n",
              "      <td>38.0</td>\n",
              "      <td>5</td>\n",
              "    </tr>\n",
              "    <tr>\n",
              "      <th>1</th>\n",
              "      <td>3</td>\n",
              "      <td>False</td>\n",
              "      <td>7.262027</td>\n",
              "      <td>1</td>\n",
              "      <td>NaN</td>\n",
              "      <td>9.0</td>\n",
              "      <td>NaN</td>\n",
              "      <td>99.0</td>\n",
              "      <td>8.0</td>\n",
              "      <td>45</td>\n",
              "      <td>38</td>\n",
              "      <td>40.0</td>\n",
              "      <td>5</td>\n",
              "    </tr>\n",
              "    <tr>\n",
              "      <th>2</th>\n",
              "      <td>12</td>\n",
              "      <td>True</td>\n",
              "      <td>6.000983</td>\n",
              "      <td>1</td>\n",
              "      <td>NaN</td>\n",
              "      <td>9.0</td>\n",
              "      <td>NaN</td>\n",
              "      <td>54.0</td>\n",
              "      <td>8.0</td>\n",
              "      <td>38</td>\n",
              "      <td>30</td>\n",
              "      <td>36.0</td>\n",
              "      <td>2</td>\n",
              "    </tr>\n",
              "    <tr>\n",
              "      <th>3</th>\n",
              "      <td>10</td>\n",
              "      <td>True</td>\n",
              "      <td>8.126239</td>\n",
              "      <td>1</td>\n",
              "      <td>NaN</td>\n",
              "      <td>9.0</td>\n",
              "      <td>NaN</td>\n",
              "      <td>30.0</td>\n",
              "      <td>8.0</td>\n",
              "      <td>39</td>\n",
              "      <td>31</td>\n",
              "      <td>38.0</td>\n",
              "      <td>4</td>\n",
              "    </tr>\n",
              "    <tr>\n",
              "      <th>4</th>\n",
              "      <td>11</td>\n",
              "      <td>False</td>\n",
              "      <td>7.312733</td>\n",
              "      <td>1</td>\n",
              "      <td>NaN</td>\n",
              "      <td>9.0</td>\n",
              "      <td>NaN</td>\n",
              "      <td>10.0</td>\n",
              "      <td>8.0</td>\n",
              "      <td>40</td>\n",
              "      <td>39</td>\n",
              "      <td>39.0</td>\n",
              "      <td>4</td>\n",
              "    </tr>\n",
              "  </tbody>\n",
              "</table>\n",
              "</div>\n",
              "      <button class=\"colab-df-convert\" onclick=\"convertToInteractive('df-0cd36000-0a08-40ab-97e6-597ea9509047')\"\n",
              "              title=\"Convert this dataframe to an interactive table.\"\n",
              "              style=\"display:none;\">\n",
              "        \n",
              "  <svg xmlns=\"http://www.w3.org/2000/svg\" height=\"24px\"viewBox=\"0 0 24 24\"\n",
              "       width=\"24px\">\n",
              "    <path d=\"M0 0h24v24H0V0z\" fill=\"none\"/>\n",
              "    <path d=\"M18.56 5.44l.94 2.06.94-2.06 2.06-.94-2.06-.94-.94-2.06-.94 2.06-2.06.94zm-11 1L8.5 8.5l.94-2.06 2.06-.94-2.06-.94L8.5 2.5l-.94 2.06-2.06.94zm10 10l.94 2.06.94-2.06 2.06-.94-2.06-.94-.94-2.06-.94 2.06-2.06.94z\"/><path d=\"M17.41 7.96l-1.37-1.37c-.4-.4-.92-.59-1.43-.59-.52 0-1.04.2-1.43.59L10.3 9.45l-7.72 7.72c-.78.78-.78 2.05 0 2.83L4 21.41c.39.39.9.59 1.41.59.51 0 1.02-.2 1.41-.59l7.78-7.78 2.81-2.81c.8-.78.8-2.07 0-2.86zM5.41 20L4 18.59l7.72-7.72 1.47 1.35L5.41 20z\"/>\n",
              "  </svg>\n",
              "      </button>\n",
              "      \n",
              "  <style>\n",
              "    .colab-df-container {\n",
              "      display:flex;\n",
              "      flex-wrap:wrap;\n",
              "      gap: 12px;\n",
              "    }\n",
              "\n",
              "    .colab-df-convert {\n",
              "      background-color: #E8F0FE;\n",
              "      border: none;\n",
              "      border-radius: 50%;\n",
              "      cursor: pointer;\n",
              "      display: none;\n",
              "      fill: #1967D2;\n",
              "      height: 32px;\n",
              "      padding: 0 0 0 0;\n",
              "      width: 32px;\n",
              "    }\n",
              "\n",
              "    .colab-df-convert:hover {\n",
              "      background-color: #E2EBFA;\n",
              "      box-shadow: 0px 1px 2px rgba(60, 64, 67, 0.3), 0px 1px 3px 1px rgba(60, 64, 67, 0.15);\n",
              "      fill: #174EA6;\n",
              "    }\n",
              "\n",
              "    [theme=dark] .colab-df-convert {\n",
              "      background-color: #3B4455;\n",
              "      fill: #D2E3FC;\n",
              "    }\n",
              "\n",
              "    [theme=dark] .colab-df-convert:hover {\n",
              "      background-color: #434B5C;\n",
              "      box-shadow: 0px 1px 3px 1px rgba(0, 0, 0, 0.15);\n",
              "      filter: drop-shadow(0px 1px 2px rgba(0, 0, 0, 0.3));\n",
              "      fill: #FFFFFF;\n",
              "    }\n",
              "  </style>\n",
              "\n",
              "      <script>\n",
              "        const buttonEl =\n",
              "          document.querySelector('#df-0cd36000-0a08-40ab-97e6-597ea9509047 button.colab-df-convert');\n",
              "        buttonEl.style.display =\n",
              "          google.colab.kernel.accessAllowed ? 'block' : 'none';\n",
              "\n",
              "        async function convertToInteractive(key) {\n",
              "          const element = document.querySelector('#df-0cd36000-0a08-40ab-97e6-597ea9509047');\n",
              "          const dataTable =\n",
              "            await google.colab.kernel.invokeFunction('convertToInteractive',\n",
              "                                                     [key], {});\n",
              "          if (!dataTable) return;\n",
              "\n",
              "          const docLinkHtml = 'Like what you see? Visit the ' +\n",
              "            '<a target=\"_blank\" href=https://colab.research.google.com/notebooks/data_table.ipynb>data table notebook</a>'\n",
              "            + ' to learn more about interactive tables.';\n",
              "          element.innerHTML = '';\n",
              "          dataTable['output_type'] = 'display_data';\n",
              "          await google.colab.output.renderOutput(dataTable, element);\n",
              "          const docLink = document.createElement('div');\n",
              "          docLink.innerHTML = docLinkHtml;\n",
              "          element.appendChild(docLink);\n",
              "        }\n",
              "      </script>\n",
              "    </div>\n",
              "  </div>\n",
              "  "
            ]
          },
          "metadata": {},
          "execution_count": 27
        }
      ],
      "source": [
        "### definir dataframe final\n",
        "df_final = df.loc[:, ['month','is_male','weight_pounds','plurality','cigarettes_per_day','apgar_5min', 'mother_race','weight_gain_pounds', 'ever_born','father_age','mother_age','gestation_weeks','wday'] ]\n",
        "df_final.head()"
      ]
    },
    {
      "cell_type": "markdown",
      "metadata": {
        "id": "vESZUSDPqLNN"
      },
      "source": [
        "Despues de revisar las variables que vamos a tomar para nuestro modelo la cantidad de columnas se reduce de 31 a 12, por este motivo adicionalmente reducimos los problemas de dimensionalidad que se estaban presentando anteriormente. Por otra parte, es importante cambiar a categorias las variables de plurality e is-male para poder covertirlas en dummy."
      ]
    },
    {
      "cell_type": "code",
      "execution_count": 28,
      "metadata": {
        "id": "G2c9HKuiEFmZ"
      },
      "outputs": [],
      "source": [
        "### cambiar tipo a categoria\n",
        "df_final['plurality'] = df_final['plurality'].astype('category')\n",
        "df_final['is_male'] = df_final['is_male'].astype('category')"
      ]
    },
    {
      "cell_type": "code",
      "execution_count": 30,
      "metadata": {
        "colab": {
          "base_uri": "https://localhost:8080/",
          "height": 206
        },
        "id": "gGWe4-nDCo8E",
        "outputId": "aeb64ce9-b809-4a91-9b7b-b3d56bb3fd6e"
      },
      "outputs": [
        {
          "output_type": "execute_result",
          "data": {
            "text/plain": [
              "   month  weight_pounds  cigarettes_per_day  apgar_5min  mother_race  \\\n",
              "0      4       6.437498                 NaN         9.0          NaN   \n",
              "1      3       7.262027                 NaN         9.0          NaN   \n",
              "2     12       6.000983                 NaN         9.0          NaN   \n",
              "3     10       8.126239                 NaN         9.0          NaN   \n",
              "4     11       7.312733                 NaN         9.0          NaN   \n",
              "\n",
              "   weight_gain_pounds  ever_born  father_age  mother_age  gestation_weeks  \\\n",
              "0                30.0        8.0          49          34             38.0   \n",
              "1                99.0        8.0          45          38             40.0   \n",
              "2                54.0        8.0          38          30             36.0   \n",
              "3                30.0        8.0          39          31             38.0   \n",
              "4                10.0        8.0          40          39             39.0   \n",
              "\n",
              "   wday  is_male_True_1  plurality_2_1  plurality_3_1  plurality_4_1  \\\n",
              "0     5               0              0              0              0   \n",
              "1     5               0              0              0              0   \n",
              "2     2               1              0              0              0   \n",
              "3     4               1              0              0              0   \n",
              "4     4               0              0              0              0   \n",
              "\n",
              "   plurality_5_1  \n",
              "0              0  \n",
              "1              0  \n",
              "2              0  \n",
              "3              0  \n",
              "4              0  "
            ],
            "text/html": [
              "\n",
              "  <div id=\"df-e89f8233-98cf-4a52-a345-33f5ff0a9fef\">\n",
              "    <div class=\"colab-df-container\">\n",
              "      <div>\n",
              "<style scoped>\n",
              "    .dataframe tbody tr th:only-of-type {\n",
              "        vertical-align: middle;\n",
              "    }\n",
              "\n",
              "    .dataframe tbody tr th {\n",
              "        vertical-align: top;\n",
              "    }\n",
              "\n",
              "    .dataframe thead th {\n",
              "        text-align: right;\n",
              "    }\n",
              "</style>\n",
              "<table border=\"1\" class=\"dataframe\">\n",
              "  <thead>\n",
              "    <tr style=\"text-align: right;\">\n",
              "      <th></th>\n",
              "      <th>month</th>\n",
              "      <th>weight_pounds</th>\n",
              "      <th>cigarettes_per_day</th>\n",
              "      <th>apgar_5min</th>\n",
              "      <th>mother_race</th>\n",
              "      <th>weight_gain_pounds</th>\n",
              "      <th>ever_born</th>\n",
              "      <th>father_age</th>\n",
              "      <th>mother_age</th>\n",
              "      <th>gestation_weeks</th>\n",
              "      <th>wday</th>\n",
              "      <th>is_male_True_1</th>\n",
              "      <th>plurality_2_1</th>\n",
              "      <th>plurality_3_1</th>\n",
              "      <th>plurality_4_1</th>\n",
              "      <th>plurality_5_1</th>\n",
              "    </tr>\n",
              "  </thead>\n",
              "  <tbody>\n",
              "    <tr>\n",
              "      <th>0</th>\n",
              "      <td>4</td>\n",
              "      <td>6.437498</td>\n",
              "      <td>NaN</td>\n",
              "      <td>9.0</td>\n",
              "      <td>NaN</td>\n",
              "      <td>30.0</td>\n",
              "      <td>8.0</td>\n",
              "      <td>49</td>\n",
              "      <td>34</td>\n",
              "      <td>38.0</td>\n",
              "      <td>5</td>\n",
              "      <td>0</td>\n",
              "      <td>0</td>\n",
              "      <td>0</td>\n",
              "      <td>0</td>\n",
              "      <td>0</td>\n",
              "    </tr>\n",
              "    <tr>\n",
              "      <th>1</th>\n",
              "      <td>3</td>\n",
              "      <td>7.262027</td>\n",
              "      <td>NaN</td>\n",
              "      <td>9.0</td>\n",
              "      <td>NaN</td>\n",
              "      <td>99.0</td>\n",
              "      <td>8.0</td>\n",
              "      <td>45</td>\n",
              "      <td>38</td>\n",
              "      <td>40.0</td>\n",
              "      <td>5</td>\n",
              "      <td>0</td>\n",
              "      <td>0</td>\n",
              "      <td>0</td>\n",
              "      <td>0</td>\n",
              "      <td>0</td>\n",
              "    </tr>\n",
              "    <tr>\n",
              "      <th>2</th>\n",
              "      <td>12</td>\n",
              "      <td>6.000983</td>\n",
              "      <td>NaN</td>\n",
              "      <td>9.0</td>\n",
              "      <td>NaN</td>\n",
              "      <td>54.0</td>\n",
              "      <td>8.0</td>\n",
              "      <td>38</td>\n",
              "      <td>30</td>\n",
              "      <td>36.0</td>\n",
              "      <td>2</td>\n",
              "      <td>1</td>\n",
              "      <td>0</td>\n",
              "      <td>0</td>\n",
              "      <td>0</td>\n",
              "      <td>0</td>\n",
              "    </tr>\n",
              "    <tr>\n",
              "      <th>3</th>\n",
              "      <td>10</td>\n",
              "      <td>8.126239</td>\n",
              "      <td>NaN</td>\n",
              "      <td>9.0</td>\n",
              "      <td>NaN</td>\n",
              "      <td>30.0</td>\n",
              "      <td>8.0</td>\n",
              "      <td>39</td>\n",
              "      <td>31</td>\n",
              "      <td>38.0</td>\n",
              "      <td>4</td>\n",
              "      <td>1</td>\n",
              "      <td>0</td>\n",
              "      <td>0</td>\n",
              "      <td>0</td>\n",
              "      <td>0</td>\n",
              "    </tr>\n",
              "    <tr>\n",
              "      <th>4</th>\n",
              "      <td>11</td>\n",
              "      <td>7.312733</td>\n",
              "      <td>NaN</td>\n",
              "      <td>9.0</td>\n",
              "      <td>NaN</td>\n",
              "      <td>10.0</td>\n",
              "      <td>8.0</td>\n",
              "      <td>40</td>\n",
              "      <td>39</td>\n",
              "      <td>39.0</td>\n",
              "      <td>4</td>\n",
              "      <td>0</td>\n",
              "      <td>0</td>\n",
              "      <td>0</td>\n",
              "      <td>0</td>\n",
              "      <td>0</td>\n",
              "    </tr>\n",
              "  </tbody>\n",
              "</table>\n",
              "</div>\n",
              "      <button class=\"colab-df-convert\" onclick=\"convertToInteractive('df-e89f8233-98cf-4a52-a345-33f5ff0a9fef')\"\n",
              "              title=\"Convert this dataframe to an interactive table.\"\n",
              "              style=\"display:none;\">\n",
              "        \n",
              "  <svg xmlns=\"http://www.w3.org/2000/svg\" height=\"24px\"viewBox=\"0 0 24 24\"\n",
              "       width=\"24px\">\n",
              "    <path d=\"M0 0h24v24H0V0z\" fill=\"none\"/>\n",
              "    <path d=\"M18.56 5.44l.94 2.06.94-2.06 2.06-.94-2.06-.94-.94-2.06-.94 2.06-2.06.94zm-11 1L8.5 8.5l.94-2.06 2.06-.94-2.06-.94L8.5 2.5l-.94 2.06-2.06.94zm10 10l.94 2.06.94-2.06 2.06-.94-2.06-.94-.94-2.06-.94 2.06-2.06.94z\"/><path d=\"M17.41 7.96l-1.37-1.37c-.4-.4-.92-.59-1.43-.59-.52 0-1.04.2-1.43.59L10.3 9.45l-7.72 7.72c-.78.78-.78 2.05 0 2.83L4 21.41c.39.39.9.59 1.41.59.51 0 1.02-.2 1.41-.59l7.78-7.78 2.81-2.81c.8-.78.8-2.07 0-2.86zM5.41 20L4 18.59l7.72-7.72 1.47 1.35L5.41 20z\"/>\n",
              "  </svg>\n",
              "      </button>\n",
              "      \n",
              "  <style>\n",
              "    .colab-df-container {\n",
              "      display:flex;\n",
              "      flex-wrap:wrap;\n",
              "      gap: 12px;\n",
              "    }\n",
              "\n",
              "    .colab-df-convert {\n",
              "      background-color: #E8F0FE;\n",
              "      border: none;\n",
              "      border-radius: 50%;\n",
              "      cursor: pointer;\n",
              "      display: none;\n",
              "      fill: #1967D2;\n",
              "      height: 32px;\n",
              "      padding: 0 0 0 0;\n",
              "      width: 32px;\n",
              "    }\n",
              "\n",
              "    .colab-df-convert:hover {\n",
              "      background-color: #E2EBFA;\n",
              "      box-shadow: 0px 1px 2px rgba(60, 64, 67, 0.3), 0px 1px 3px 1px rgba(60, 64, 67, 0.15);\n",
              "      fill: #174EA6;\n",
              "    }\n",
              "\n",
              "    [theme=dark] .colab-df-convert {\n",
              "      background-color: #3B4455;\n",
              "      fill: #D2E3FC;\n",
              "    }\n",
              "\n",
              "    [theme=dark] .colab-df-convert:hover {\n",
              "      background-color: #434B5C;\n",
              "      box-shadow: 0px 1px 3px 1px rgba(0, 0, 0, 0.15);\n",
              "      filter: drop-shadow(0px 1px 2px rgba(0, 0, 0, 0.3));\n",
              "      fill: #FFFFFF;\n",
              "    }\n",
              "  </style>\n",
              "\n",
              "      <script>\n",
              "        const buttonEl =\n",
              "          document.querySelector('#df-e89f8233-98cf-4a52-a345-33f5ff0a9fef button.colab-df-convert');\n",
              "        buttonEl.style.display =\n",
              "          google.colab.kernel.accessAllowed ? 'block' : 'none';\n",
              "\n",
              "        async function convertToInteractive(key) {\n",
              "          const element = document.querySelector('#df-e89f8233-98cf-4a52-a345-33f5ff0a9fef');\n",
              "          const dataTable =\n",
              "            await google.colab.kernel.invokeFunction('convertToInteractive',\n",
              "                                                     [key], {});\n",
              "          if (!dataTable) return;\n",
              "\n",
              "          const docLinkHtml = 'Like what you see? Visit the ' +\n",
              "            '<a target=\"_blank\" href=https://colab.research.google.com/notebooks/data_table.ipynb>data table notebook</a>'\n",
              "            + ' to learn more about interactive tables.';\n",
              "          element.innerHTML = '';\n",
              "          dataTable['output_type'] = 'display_data';\n",
              "          await google.colab.output.renderOutput(dataTable, element);\n",
              "          const docLink = document.createElement('div');\n",
              "          docLink.innerHTML = docLinkHtml;\n",
              "          element.appendChild(docLink);\n",
              "        }\n",
              "      </script>\n",
              "    </div>\n",
              "  </div>\n",
              "  "
            ]
          },
          "metadata": {},
          "execution_count": 30
        }
      ],
      "source": [
        "#creación de variables dummy (\"one hot encoding\")\n",
        "df_final = pd.get_dummies(df_final, columns = df_final.select_dtypes(exclude=['int64','float64']).columns, drop_first = True) # excluimos varibales tipo numericas enteros y fracción para dumificar las otras categorias \n",
        "pd.options.display.max_columns = None # Removemos el limite de columnas que vamos a mostrar\n",
        "\n",
        "df_final.head()  # Nuestro dataset ahora tiene 14 columnas."
      ]
    },
    {
      "cell_type": "code",
      "execution_count": 8,
      "metadata": {
        "id": "mGVnrY3OqqKk"
      },
      "outputs": [],
      "source": [
        "### Reemplazar NA por 0\n",
        "df_final = df_final.fillna({'cigarettes_per_day': 0})"
      ]
    },
    {
      "cell_type": "markdown",
      "metadata": {
        "id": "7fuvvttEtEuw"
      },
      "source": [
        "Lo primero que realizamos es por definición cada valor NA que se encuentren en las columnas de cigarrillos por día y tragos por semana seran reemplazados por 0"
      ]
    },
    {
      "cell_type": "code",
      "execution_count": 9,
      "metadata": {
        "id": "axrzDe1gtp5B"
      },
      "outputs": [],
      "source": [
        "## Imputación de datos\n",
        "\n",
        "# creating surrogates\n",
        "for col in df_final:\n",
        "    if df_final[col].isna().sum() != 0: \n",
        "        df_final[col + '_surrogate'] = df_final[col].isna().astype(int)\n",
        "           \n",
        "# fixing numericals \n",
        "imputer = SimpleImputer(missing_values = np.nan, strategy='median')\n",
        "imputer.fit(df_final.select_dtypes(include=['int64','float64']))\n",
        "df_final[df_final.select_dtypes(include=['int64','float64']).columns] = imputer.transform(df_final.select_dtypes(include=['int64','float64']))"
      ]
    },
    {
      "cell_type": "markdown",
      "metadata": {
        "id": "EnYiAN5rvUlY"
      },
      "source": [
        "Despues de imputar los datos nos podemos dar cuenta que ya no presentamos valores nulos dentro de nuestro dataframe. el metodo que se uso para imputar fue por medio de la mediana."
      ]
    },
    {
      "cell_type": "code",
      "execution_count": 10,
      "metadata": {
        "colab": {
          "base_uri": "https://localhost:8080/",
          "height": 270
        },
        "id": "DujkYgJ3ga1H",
        "outputId": "44b2bcea-48af-481d-a04b-8066f591cc88"
      },
      "outputs": [
        {
          "output_type": "execute_result",
          "data": {
            "text/plain": [
              "      month  weight_pounds  cigarettes_per_day  apgar_5min  mother_race  \\\n",
              "0  0.272727       0.339254                 0.0         0.9          0.0   \n",
              "1  0.181818       0.386369                 0.0         0.9          0.0   \n",
              "2  1.000000       0.314311                 0.0         0.9          0.0   \n",
              "3  0.818182       0.435752                 0.0         0.9          0.0   \n",
              "4  0.909091       0.389267                 0.0         0.9          0.0   \n",
              "\n",
              "   weight_gain_pounds  ever_born  father_age  mother_age  gestation_weeks  \\\n",
              "0            0.295918        1.0    0.438202    0.578947         0.700000   \n",
              "1            1.000000        1.0    0.393258    0.684211         0.766667   \n",
              "2            0.540816        1.0    0.314607    0.473684         0.633333   \n",
              "3            0.295918        1.0    0.325843    0.500000         0.700000   \n",
              "4            0.091837        1.0    0.337079    0.710526         0.733333   \n",
              "\n",
              "       wday  is_male_True  plurality_2  plurality_3  plurality_4  plurality_5  \\\n",
              "0  0.666667           0.0          0.0          0.0          0.0          0.0   \n",
              "1  0.666667           0.0          0.0          0.0          0.0          0.0   \n",
              "2  0.166667           1.0          0.0          0.0          0.0          0.0   \n",
              "3  0.500000           1.0          0.0          0.0          0.0          0.0   \n",
              "4  0.500000           0.0          0.0          0.0          0.0          0.0   \n",
              "\n",
              "   weight_pounds_surrogate  apgar_5min_surrogate  mother_race_surrogate  \\\n",
              "0                      0.0                   0.0                    1.0   \n",
              "1                      0.0                   0.0                    1.0   \n",
              "2                      0.0                   0.0                    1.0   \n",
              "3                      0.0                   0.0                    1.0   \n",
              "4                      0.0                   0.0                    1.0   \n",
              "\n",
              "   weight_gain_pounds_surrogate  ever_born_surrogate  \\\n",
              "0                           0.0                  0.0   \n",
              "1                           0.0                  0.0   \n",
              "2                           0.0                  0.0   \n",
              "3                           0.0                  0.0   \n",
              "4                           0.0                  0.0   \n",
              "\n",
              "   gestation_weeks_surrogate  \n",
              "0                        0.0  \n",
              "1                        0.0  \n",
              "2                        0.0  \n",
              "3                        0.0  \n",
              "4                        0.0  "
            ],
            "text/html": [
              "\n",
              "  <div id=\"df-ee52a66c-4fe5-4cec-8f52-97d92bd90646\">\n",
              "    <div class=\"colab-df-container\">\n",
              "      <div>\n",
              "<style scoped>\n",
              "    .dataframe tbody tr th:only-of-type {\n",
              "        vertical-align: middle;\n",
              "    }\n",
              "\n",
              "    .dataframe tbody tr th {\n",
              "        vertical-align: top;\n",
              "    }\n",
              "\n",
              "    .dataframe thead th {\n",
              "        text-align: right;\n",
              "    }\n",
              "</style>\n",
              "<table border=\"1\" class=\"dataframe\">\n",
              "  <thead>\n",
              "    <tr style=\"text-align: right;\">\n",
              "      <th></th>\n",
              "      <th>month</th>\n",
              "      <th>weight_pounds</th>\n",
              "      <th>cigarettes_per_day</th>\n",
              "      <th>apgar_5min</th>\n",
              "      <th>mother_race</th>\n",
              "      <th>weight_gain_pounds</th>\n",
              "      <th>ever_born</th>\n",
              "      <th>father_age</th>\n",
              "      <th>mother_age</th>\n",
              "      <th>gestation_weeks</th>\n",
              "      <th>wday</th>\n",
              "      <th>is_male_True</th>\n",
              "      <th>plurality_2</th>\n",
              "      <th>plurality_3</th>\n",
              "      <th>plurality_4</th>\n",
              "      <th>plurality_5</th>\n",
              "      <th>weight_pounds_surrogate</th>\n",
              "      <th>apgar_5min_surrogate</th>\n",
              "      <th>mother_race_surrogate</th>\n",
              "      <th>weight_gain_pounds_surrogate</th>\n",
              "      <th>ever_born_surrogate</th>\n",
              "      <th>gestation_weeks_surrogate</th>\n",
              "    </tr>\n",
              "  </thead>\n",
              "  <tbody>\n",
              "    <tr>\n",
              "      <th>0</th>\n",
              "      <td>0.272727</td>\n",
              "      <td>0.339254</td>\n",
              "      <td>0.0</td>\n",
              "      <td>0.9</td>\n",
              "      <td>0.0</td>\n",
              "      <td>0.295918</td>\n",
              "      <td>1.0</td>\n",
              "      <td>0.438202</td>\n",
              "      <td>0.578947</td>\n",
              "      <td>0.700000</td>\n",
              "      <td>0.666667</td>\n",
              "      <td>0.0</td>\n",
              "      <td>0.0</td>\n",
              "      <td>0.0</td>\n",
              "      <td>0.0</td>\n",
              "      <td>0.0</td>\n",
              "      <td>0.0</td>\n",
              "      <td>0.0</td>\n",
              "      <td>1.0</td>\n",
              "      <td>0.0</td>\n",
              "      <td>0.0</td>\n",
              "      <td>0.0</td>\n",
              "    </tr>\n",
              "    <tr>\n",
              "      <th>1</th>\n",
              "      <td>0.181818</td>\n",
              "      <td>0.386369</td>\n",
              "      <td>0.0</td>\n",
              "      <td>0.9</td>\n",
              "      <td>0.0</td>\n",
              "      <td>1.000000</td>\n",
              "      <td>1.0</td>\n",
              "      <td>0.393258</td>\n",
              "      <td>0.684211</td>\n",
              "      <td>0.766667</td>\n",
              "      <td>0.666667</td>\n",
              "      <td>0.0</td>\n",
              "      <td>0.0</td>\n",
              "      <td>0.0</td>\n",
              "      <td>0.0</td>\n",
              "      <td>0.0</td>\n",
              "      <td>0.0</td>\n",
              "      <td>0.0</td>\n",
              "      <td>1.0</td>\n",
              "      <td>0.0</td>\n",
              "      <td>0.0</td>\n",
              "      <td>0.0</td>\n",
              "    </tr>\n",
              "    <tr>\n",
              "      <th>2</th>\n",
              "      <td>1.000000</td>\n",
              "      <td>0.314311</td>\n",
              "      <td>0.0</td>\n",
              "      <td>0.9</td>\n",
              "      <td>0.0</td>\n",
              "      <td>0.540816</td>\n",
              "      <td>1.0</td>\n",
              "      <td>0.314607</td>\n",
              "      <td>0.473684</td>\n",
              "      <td>0.633333</td>\n",
              "      <td>0.166667</td>\n",
              "      <td>1.0</td>\n",
              "      <td>0.0</td>\n",
              "      <td>0.0</td>\n",
              "      <td>0.0</td>\n",
              "      <td>0.0</td>\n",
              "      <td>0.0</td>\n",
              "      <td>0.0</td>\n",
              "      <td>1.0</td>\n",
              "      <td>0.0</td>\n",
              "      <td>0.0</td>\n",
              "      <td>0.0</td>\n",
              "    </tr>\n",
              "    <tr>\n",
              "      <th>3</th>\n",
              "      <td>0.818182</td>\n",
              "      <td>0.435752</td>\n",
              "      <td>0.0</td>\n",
              "      <td>0.9</td>\n",
              "      <td>0.0</td>\n",
              "      <td>0.295918</td>\n",
              "      <td>1.0</td>\n",
              "      <td>0.325843</td>\n",
              "      <td>0.500000</td>\n",
              "      <td>0.700000</td>\n",
              "      <td>0.500000</td>\n",
              "      <td>1.0</td>\n",
              "      <td>0.0</td>\n",
              "      <td>0.0</td>\n",
              "      <td>0.0</td>\n",
              "      <td>0.0</td>\n",
              "      <td>0.0</td>\n",
              "      <td>0.0</td>\n",
              "      <td>1.0</td>\n",
              "      <td>0.0</td>\n",
              "      <td>0.0</td>\n",
              "      <td>0.0</td>\n",
              "    </tr>\n",
              "    <tr>\n",
              "      <th>4</th>\n",
              "      <td>0.909091</td>\n",
              "      <td>0.389267</td>\n",
              "      <td>0.0</td>\n",
              "      <td>0.9</td>\n",
              "      <td>0.0</td>\n",
              "      <td>0.091837</td>\n",
              "      <td>1.0</td>\n",
              "      <td>0.337079</td>\n",
              "      <td>0.710526</td>\n",
              "      <td>0.733333</td>\n",
              "      <td>0.500000</td>\n",
              "      <td>0.0</td>\n",
              "      <td>0.0</td>\n",
              "      <td>0.0</td>\n",
              "      <td>0.0</td>\n",
              "      <td>0.0</td>\n",
              "      <td>0.0</td>\n",
              "      <td>0.0</td>\n",
              "      <td>1.0</td>\n",
              "      <td>0.0</td>\n",
              "      <td>0.0</td>\n",
              "      <td>0.0</td>\n",
              "    </tr>\n",
              "  </tbody>\n",
              "</table>\n",
              "</div>\n",
              "      <button class=\"colab-df-convert\" onclick=\"convertToInteractive('df-ee52a66c-4fe5-4cec-8f52-97d92bd90646')\"\n",
              "              title=\"Convert this dataframe to an interactive table.\"\n",
              "              style=\"display:none;\">\n",
              "        \n",
              "  <svg xmlns=\"http://www.w3.org/2000/svg\" height=\"24px\"viewBox=\"0 0 24 24\"\n",
              "       width=\"24px\">\n",
              "    <path d=\"M0 0h24v24H0V0z\" fill=\"none\"/>\n",
              "    <path d=\"M18.56 5.44l.94 2.06.94-2.06 2.06-.94-2.06-.94-.94-2.06-.94 2.06-2.06.94zm-11 1L8.5 8.5l.94-2.06 2.06-.94-2.06-.94L8.5 2.5l-.94 2.06-2.06.94zm10 10l.94 2.06.94-2.06 2.06-.94-2.06-.94-.94-2.06-.94 2.06-2.06.94z\"/><path d=\"M17.41 7.96l-1.37-1.37c-.4-.4-.92-.59-1.43-.59-.52 0-1.04.2-1.43.59L10.3 9.45l-7.72 7.72c-.78.78-.78 2.05 0 2.83L4 21.41c.39.39.9.59 1.41.59.51 0 1.02-.2 1.41-.59l7.78-7.78 2.81-2.81c.8-.78.8-2.07 0-2.86zM5.41 20L4 18.59l7.72-7.72 1.47 1.35L5.41 20z\"/>\n",
              "  </svg>\n",
              "      </button>\n",
              "      \n",
              "  <style>\n",
              "    .colab-df-container {\n",
              "      display:flex;\n",
              "      flex-wrap:wrap;\n",
              "      gap: 12px;\n",
              "    }\n",
              "\n",
              "    .colab-df-convert {\n",
              "      background-color: #E8F0FE;\n",
              "      border: none;\n",
              "      border-radius: 50%;\n",
              "      cursor: pointer;\n",
              "      display: none;\n",
              "      fill: #1967D2;\n",
              "      height: 32px;\n",
              "      padding: 0 0 0 0;\n",
              "      width: 32px;\n",
              "    }\n",
              "\n",
              "    .colab-df-convert:hover {\n",
              "      background-color: #E2EBFA;\n",
              "      box-shadow: 0px 1px 2px rgba(60, 64, 67, 0.3), 0px 1px 3px 1px rgba(60, 64, 67, 0.15);\n",
              "      fill: #174EA6;\n",
              "    }\n",
              "\n",
              "    [theme=dark] .colab-df-convert {\n",
              "      background-color: #3B4455;\n",
              "      fill: #D2E3FC;\n",
              "    }\n",
              "\n",
              "    [theme=dark] .colab-df-convert:hover {\n",
              "      background-color: #434B5C;\n",
              "      box-shadow: 0px 1px 3px 1px rgba(0, 0, 0, 0.15);\n",
              "      filter: drop-shadow(0px 1px 2px rgba(0, 0, 0, 0.3));\n",
              "      fill: #FFFFFF;\n",
              "    }\n",
              "  </style>\n",
              "\n",
              "      <script>\n",
              "        const buttonEl =\n",
              "          document.querySelector('#df-ee52a66c-4fe5-4cec-8f52-97d92bd90646 button.colab-df-convert');\n",
              "        buttonEl.style.display =\n",
              "          google.colab.kernel.accessAllowed ? 'block' : 'none';\n",
              "\n",
              "        async function convertToInteractive(key) {\n",
              "          const element = document.querySelector('#df-ee52a66c-4fe5-4cec-8f52-97d92bd90646');\n",
              "          const dataTable =\n",
              "            await google.colab.kernel.invokeFunction('convertToInteractive',\n",
              "                                                     [key], {});\n",
              "          if (!dataTable) return;\n",
              "\n",
              "          const docLinkHtml = 'Like what you see? Visit the ' +\n",
              "            '<a target=\"_blank\" href=https://colab.research.google.com/notebooks/data_table.ipynb>data table notebook</a>'\n",
              "            + ' to learn more about interactive tables.';\n",
              "          element.innerHTML = '';\n",
              "          dataTable['output_type'] = 'display_data';\n",
              "          await google.colab.output.renderOutput(dataTable, element);\n",
              "          const docLink = document.createElement('div');\n",
              "          docLink.innerHTML = docLinkHtml;\n",
              "          element.appendChild(docLink);\n",
              "        }\n",
              "      </script>\n",
              "    </div>\n",
              "  </div>\n",
              "  "
            ]
          },
          "metadata": {},
          "execution_count": 10
        }
      ],
      "source": [
        "### Estandarización \n",
        "df_final = (df_final - df_final.min()) / (df_final.max() - df_final.min())\n",
        "df_final.head()"
      ]
    },
    {
      "cell_type": "markdown",
      "metadata": {
        "id": "-YgQ8WNXIFZ5"
      },
      "source": [
        "Estandarizamos los datos para definir una misma magitud de valores y evitar la influencia en los modelos."
      ]
    },
    {
      "cell_type": "code",
      "execution_count": null,
      "metadata": {
        "colab": {
          "base_uri": "https://localhost:8080/"
        },
        "id": "a1F_GOhXstFg",
        "outputId": "b0591d95-b8aa-4902-f49f-a0452aba704b"
      },
      "outputs": [
        {
          "output_type": "stream",
          "name": "stdout",
          "text": [
            "0.0    4116290\n",
            "1.0     138866\n",
            "Name: plurality_2, dtype: int64\n",
            "0.0    4249271\n",
            "1.0       5885\n",
            "Name: plurality_3, dtype: int64\n",
            "0.0    4254811\n",
            "1.0        345\n",
            "Name: plurality_4, dtype: int64\n",
            "0.0    4255110\n",
            "1.0         46\n",
            "Name: plurality_5, dtype: int64\n"
          ]
        }
      ],
      "source": [
        "print(df_final['plurality_2'].value_counts())\n",
        "print(df_final['plurality_3'].value_counts())\n",
        "print(df_final['plurality_4'].value_counts())\n",
        "print(df_final['plurality_5'].value_counts())"
      ]
    },
    {
      "cell_type": "code",
      "execution_count": null,
      "metadata": {
        "id": "6F5SrRRvtjJ2"
      },
      "outputs": [],
      "source": [
        "### eliminar columna plurality_5\n",
        "#df_final = df_final.drop(['plurality_5'], axis=1)\n",
        "#df_final.head()"
      ]
    },
    {
      "cell_type": "markdown",
      "metadata": {
        "id": "CPPF6vcFRXZ-"
      },
      "source": [
        "##Train y test"
      ]
    },
    {
      "cell_type": "code",
      "execution_count": 11,
      "metadata": {
        "id": "FhHrnAYVu2y0"
      },
      "outputs": [],
      "source": [
        "y = df_final['weight_pounds']\n",
        "X = df_final.drop(columns = 'weight_pounds')"
      ]
    },
    {
      "cell_type": "code",
      "execution_count": null,
      "metadata": {
        "colab": {
          "base_uri": "https://localhost:8080/"
        },
        "id": "FCGFAz_k8UHj",
        "outputId": "069a67fb-51ce-4216-cc87-6aef8a0fc678"
      },
      "outputs": [
        {
          "output_type": "stream",
          "name": "stdout",
          "text": [
            "(4255156,)\n",
            "(4255156, 21)\n"
          ]
        }
      ],
      "source": [
        "print(y.shape)\n",
        "print(X.shape)"
      ]
    },
    {
      "cell_type": "code",
      "execution_count": 12,
      "metadata": {
        "id": "tYFpyDTBMVkz"
      },
      "outputs": [],
      "source": [
        "# Para futuras comparaciones establecemos una semilla para generar numeros alea\n",
        "np.random.seed(4406)\n",
        "\n",
        "# Dividimos aleatoriamente los datos en 80% train y 20% test \n",
        "X_train, X_test, y_train, y_test = train_test_split(X,y, test_size = 0.20, random_state = 4406)"
      ]
    },
    {
      "cell_type": "markdown",
      "metadata": {
        "id": "Ienk3q5mRf2Z"
      },
      "source": [
        "Para empezar a desarrollar nuestro modelo partimos nuestras data en un 80% train y un 20% test."
      ]
    },
    {
      "cell_type": "code",
      "execution_count": null,
      "metadata": {
        "colab": {
          "base_uri": "https://localhost:8080/"
        },
        "id": "vXVyr8T78klr",
        "outputId": "0aaaca05-222d-45df-deb4-3e740505822d"
      },
      "outputs": [
        {
          "output_type": "stream",
          "name": "stdout",
          "text": [
            "(3404124,)\n",
            "(851032,)\n"
          ]
        }
      ],
      "source": [
        "print(y_train.shape)\n",
        "print(y_test.shape)"
      ]
    },
    {
      "cell_type": "markdown",
      "metadata": {
        "id": "BNrbzywVH2m0"
      },
      "source": [
        "#**4. Modelos**"
      ]
    },
    {
      "cell_type": "markdown",
      "metadata": {
        "id": "KPE1VAwqIQqL"
      },
      "source": [
        "**Regresión multiple** "
      ]
    },
    {
      "cell_type": "code",
      "execution_count": null,
      "metadata": {
        "id": "cGWqL8Q2IP-8"
      },
      "outputs": [],
      "source": [
        "from sklearn import linear_model\n",
        "from sklearn.linear_model import LinearRegression\n",
        "\n",
        "# Algoritmo a utilizar\n",
        "lr_multiple = linear_model.LinearRegression()\n",
        "## se entrena el modelo\n",
        "lr_multiple.fit(X_train,y_train)\n",
        "## se realiza prediccion\n",
        "y_pred_multiple = lr_multiple.predict(X_test)"
      ]
    },
    {
      "cell_type": "code",
      "execution_count": null,
      "metadata": {
        "colab": {
          "base_uri": "https://localhost:8080/"
        },
        "id": "j2FcwKGvMrwE",
        "outputId": "4e8a5228-2bab-42bb-9287-8c2790330ce3"
      },
      "outputs": [
        {
          "output_type": "stream",
          "name": "stdout",
          "text": [
            "Presición del modelo:\n",
            "0.3657193242892164\n"
          ]
        }
      ],
      "source": [
        "print('Presición del modelo:')\n",
        "print(lr_multiple.score(X_train,y_train))"
      ]
    },
    {
      "cell_type": "markdown",
      "metadata": {
        "id": "SnlO48v9eniL"
      },
      "source": [
        "**SVM Regresion**"
      ]
    },
    {
      "cell_type": "code",
      "execution_count": null,
      "metadata": {
        "id": "2SgU3mOnew5b"
      },
      "outputs": [],
      "source": [
        "from sklearn import svm\n",
        "from sklearn import model_selection\n",
        "from statsmodels.tools.eval_measures import mse\n",
        "\n",
        "modelo_svm = svm.SVR()\n",
        "modelo_svm.fit(X_train,y_train)"
      ]
    },
    {
      "cell_type": "markdown",
      "metadata": {
        "id": "KSURWz5QilsB"
      },
      "source": [
        "Se intenta entresnar un modelo SVM pero el costo computacional es muy alto."
      ]
    },
    {
      "cell_type": "markdown",
      "metadata": {
        "id": "ogUYtUfCndmd"
      },
      "source": [
        "**XGBOOST Regresion**"
      ]
    },
    {
      "cell_type": "code",
      "execution_count": 13,
      "metadata": {
        "colab": {
          "base_uri": "https://localhost:8080/",
          "height": 266
        },
        "id": "u8XWtCDsUS-u",
        "outputId": "16ce804c-e450-4e79-9022-48834852483c"
      },
      "outputs": [
        {
          "output_type": "stream",
          "name": "stdout",
          "text": [
            "[00:47:50] WARNING: ../src/objective/regression_obj.cu:213: reg:linear is now deprecated in favor of reg:squarederror.\n"
          ]
        },
        {
          "output_type": "execute_result",
          "data": {
            "text/plain": [
              "XGBRegressor(base_score=None, booster=None, callbacks=None,\n",
              "             colsample_bylevel=None, colsample_bynode=None,\n",
              "             colsample_bytree=None, early_stopping_rounds=None,\n",
              "             enable_categorical=False, eval_metric=None, feature_types=None,\n",
              "             gamma=None, gpu_id=None, grow_policy=None, importance_type=None,\n",
              "             interaction_constraints=None, learning_rate=0.3, max_bin=None,\n",
              "             max_cat_threshold=None, max_cat_to_onehot=None,\n",
              "             max_delta_step=None, max_depth=None, max_leaves=None,\n",
              "             min_child_weight=None, missing=nan, monotone_constraints=None,\n",
              "             n_estimators=180, n_jobs=None, num_parallel_tree=None,\n",
              "             objective='reg:linear', predictor=None, ...)"
            ],
            "text/html": [
              "<style>#sk-container-id-1 {color: black;background-color: white;}#sk-container-id-1 pre{padding: 0;}#sk-container-id-1 div.sk-toggleable {background-color: white;}#sk-container-id-1 label.sk-toggleable__label {cursor: pointer;display: block;width: 100%;margin-bottom: 0;padding: 0.3em;box-sizing: border-box;text-align: center;}#sk-container-id-1 label.sk-toggleable__label-arrow:before {content: \"▸\";float: left;margin-right: 0.25em;color: #696969;}#sk-container-id-1 label.sk-toggleable__label-arrow:hover:before {color: black;}#sk-container-id-1 div.sk-estimator:hover label.sk-toggleable__label-arrow:before {color: black;}#sk-container-id-1 div.sk-toggleable__content {max-height: 0;max-width: 0;overflow: hidden;text-align: left;background-color: #f0f8ff;}#sk-container-id-1 div.sk-toggleable__content pre {margin: 0.2em;color: black;border-radius: 0.25em;background-color: #f0f8ff;}#sk-container-id-1 input.sk-toggleable__control:checked~div.sk-toggleable__content {max-height: 200px;max-width: 100%;overflow: auto;}#sk-container-id-1 input.sk-toggleable__control:checked~label.sk-toggleable__label-arrow:before {content: \"▾\";}#sk-container-id-1 div.sk-estimator input.sk-toggleable__control:checked~label.sk-toggleable__label {background-color: #d4ebff;}#sk-container-id-1 div.sk-label input.sk-toggleable__control:checked~label.sk-toggleable__label {background-color: #d4ebff;}#sk-container-id-1 input.sk-hidden--visually {border: 0;clip: rect(1px 1px 1px 1px);clip: rect(1px, 1px, 1px, 1px);height: 1px;margin: -1px;overflow: hidden;padding: 0;position: absolute;width: 1px;}#sk-container-id-1 div.sk-estimator {font-family: monospace;background-color: #f0f8ff;border: 1px dotted black;border-radius: 0.25em;box-sizing: border-box;margin-bottom: 0.5em;}#sk-container-id-1 div.sk-estimator:hover {background-color: #d4ebff;}#sk-container-id-1 div.sk-parallel-item::after {content: \"\";width: 100%;border-bottom: 1px solid gray;flex-grow: 1;}#sk-container-id-1 div.sk-label:hover label.sk-toggleable__label {background-color: #d4ebff;}#sk-container-id-1 div.sk-serial::before {content: \"\";position: absolute;border-left: 1px solid gray;box-sizing: border-box;top: 0;bottom: 0;left: 50%;z-index: 0;}#sk-container-id-1 div.sk-serial {display: flex;flex-direction: column;align-items: center;background-color: white;padding-right: 0.2em;padding-left: 0.2em;position: relative;}#sk-container-id-1 div.sk-item {position: relative;z-index: 1;}#sk-container-id-1 div.sk-parallel {display: flex;align-items: stretch;justify-content: center;background-color: white;position: relative;}#sk-container-id-1 div.sk-item::before, #sk-container-id-1 div.sk-parallel-item::before {content: \"\";position: absolute;border-left: 1px solid gray;box-sizing: border-box;top: 0;bottom: 0;left: 50%;z-index: -1;}#sk-container-id-1 div.sk-parallel-item {display: flex;flex-direction: column;z-index: 1;position: relative;background-color: white;}#sk-container-id-1 div.sk-parallel-item:first-child::after {align-self: flex-end;width: 50%;}#sk-container-id-1 div.sk-parallel-item:last-child::after {align-self: flex-start;width: 50%;}#sk-container-id-1 div.sk-parallel-item:only-child::after {width: 0;}#sk-container-id-1 div.sk-dashed-wrapped {border: 1px dashed gray;margin: 0 0.4em 0.5em 0.4em;box-sizing: border-box;padding-bottom: 0.4em;background-color: white;}#sk-container-id-1 div.sk-label label {font-family: monospace;font-weight: bold;display: inline-block;line-height: 1.2em;}#sk-container-id-1 div.sk-label-container {text-align: center;}#sk-container-id-1 div.sk-container {/* jupyter's `normalize.less` sets `[hidden] { display: none; }` but bootstrap.min.css set `[hidden] { display: none !important; }` so we also need the `!important` here to be able to override the default hidden behavior on the sphinx rendered scikit-learn.org. See: https://github.com/scikit-learn/scikit-learn/issues/21755 */display: inline-block !important;position: relative;}#sk-container-id-1 div.sk-text-repr-fallback {display: none;}</style><div id=\"sk-container-id-1\" class=\"sk-top-container\"><div class=\"sk-text-repr-fallback\"><pre>XGBRegressor(base_score=None, booster=None, callbacks=None,\n",
              "             colsample_bylevel=None, colsample_bynode=None,\n",
              "             colsample_bytree=None, early_stopping_rounds=None,\n",
              "             enable_categorical=False, eval_metric=None, feature_types=None,\n",
              "             gamma=None, gpu_id=None, grow_policy=None, importance_type=None,\n",
              "             interaction_constraints=None, learning_rate=0.3, max_bin=None,\n",
              "             max_cat_threshold=None, max_cat_to_onehot=None,\n",
              "             max_delta_step=None, max_depth=None, max_leaves=None,\n",
              "             min_child_weight=None, missing=nan, monotone_constraints=None,\n",
              "             n_estimators=180, n_jobs=None, num_parallel_tree=None,\n",
              "             objective=&#x27;reg:linear&#x27;, predictor=None, ...)</pre><b>In a Jupyter environment, please rerun this cell to show the HTML representation or trust the notebook. <br />On GitHub, the HTML representation is unable to render, please try loading this page with nbviewer.org.</b></div><div class=\"sk-container\" hidden><div class=\"sk-item\"><div class=\"sk-estimator sk-toggleable\"><input class=\"sk-toggleable__control sk-hidden--visually\" id=\"sk-estimator-id-1\" type=\"checkbox\" checked><label for=\"sk-estimator-id-1\" class=\"sk-toggleable__label sk-toggleable__label-arrow\">XGBRegressor</label><div class=\"sk-toggleable__content\"><pre>XGBRegressor(base_score=None, booster=None, callbacks=None,\n",
              "             colsample_bylevel=None, colsample_bynode=None,\n",
              "             colsample_bytree=None, early_stopping_rounds=None,\n",
              "             enable_categorical=False, eval_metric=None, feature_types=None,\n",
              "             gamma=None, gpu_id=None, grow_policy=None, importance_type=None,\n",
              "             interaction_constraints=None, learning_rate=0.3, max_bin=None,\n",
              "             max_cat_threshold=None, max_cat_to_onehot=None,\n",
              "             max_delta_step=None, max_depth=None, max_leaves=None,\n",
              "             min_child_weight=None, missing=nan, monotone_constraints=None,\n",
              "             n_estimators=180, n_jobs=None, num_parallel_tree=None,\n",
              "             objective=&#x27;reg:linear&#x27;, predictor=None, ...)</pre></div></div></div></div></div>"
            ]
          },
          "metadata": {},
          "execution_count": 13
        }
      ],
      "source": [
        "from xgboost import XGBRegressor\n",
        "import xgboost as xgb\n",
        "\n",
        "xgb_r = xgb.XGBRegressor(objective ='reg:linear',\n",
        "                  n_estimators = 180, learning_rate = 0.3, subsample = 0.8, seed = 123)\n",
        "\n",
        "# Fitting the model\n",
        "xgb_r.fit(X_train,y_train)\n"
      ]
    },
    {
      "cell_type": "code",
      "execution_count": null,
      "metadata": {
        "colab": {
          "base_uri": "https://localhost:8080/",
          "height": 884
        },
        "id": "HbMjsPU3uQbA",
        "outputId": "e59059dd-3d72-48c8-b455-b6d5f26bd89a"
      },
      "outputs": [
        {
          "output_type": "execute_result",
          "data": {
            "text/plain": [
              "<Axes: title={'center': 'Feature importance'}, xlabel='F score', ylabel='Features'>"
            ]
          },
          "metadata": {},
          "execution_count": 83
        },
        {
          "output_type": "display_data",
          "data": {
            "text/plain": [
              "<Figure size 1000x1000 with 1 Axes>"
            ],
            "image/png": "[encoded data removed]"
          },
          "metadata": {}
        }
      ],
      "source": [
        "%matplotlib inline\n",
        "xgb.plot_importance(xgb_r ,ax=plt.gca())"
      ]
    },
    {
      "cell_type": "code",
      "execution_count": 14,
      "metadata": {
        "id": "Kp1Sh2RzyDt3"
      },
      "outputs": [],
      "source": [
        "y_pred_xgb = xgb_r.predict(X_test)"
      ]
    },
    {
      "cell_type": "code",
      "execution_count": 15,
      "metadata": {
        "colab": {
          "base_uri": "https://localhost:8080/"
        },
        "id": "wtAFXA-4yqxJ",
        "outputId": "eb027220-669a-4afd-b5c5-f973d41f25ae"
      },
      "outputs": [
        {
          "output_type": "execute_result",
          "data": {
            "text/plain": [
              "array([0.33295682, 0.45367804, 0.4132469 , 0.41549528, 0.40333816,\n",
              "       0.3060681 , 0.4087352 , 0.39467272, 0.39820477], dtype=float32)"
            ]
          },
          "metadata": {},
          "execution_count": 15
        }
      ],
      "source": [
        "y_pred_xgb[1:10]"
      ]
    },
    {
      "cell_type": "code",
      "execution_count": 16,
      "metadata": {
        "id": "xS96IXJkzHXA"
      },
      "outputs": [],
      "source": [
        "pred_train = xgb_r.predict(X_train)"
      ]
    },
    {
      "cell_type": "markdown",
      "metadata": {
        "id": "qMgTSGmV2NX2"
      },
      "source": [
        "Validación del modelo"
      ]
    },
    {
      "cell_type": "code",
      "execution_count": 17,
      "metadata": {
        "colab": {
          "base_uri": "https://localhost:8080/"
        },
        "id": "6DQpFIuezvxR",
        "outputId": "c6f996d5-2c0f-4170-9740-93b114120673"
      },
      "outputs": [
        {
          "output_type": "stream",
          "name": "stdout",
          "text": [
            "0.4432029004988546\n"
          ]
        }
      ],
      "source": [
        "from sklearn.metrics import mean_squared_error, r2_score\n",
        "\n",
        "print(r2_score(y_train, pred_train))"
      ]
    },
    {
      "cell_type": "markdown",
      "metadata": {
        "id": "78cLVaq124B7"
      },
      "source": [
        "Testing MSE"
      ]
    },
    {
      "cell_type": "code",
      "execution_count": 18,
      "metadata": {
        "colab": {
          "base_uri": "https://localhost:8080/"
        },
        "id": "2qPlLI0I1Xv4",
        "outputId": "d65e64ed-d0ab-44db-921c-6fe4f44f3b9e"
      },
      "outputs": [
        {
          "output_type": "stream",
          "name": "stdout",
          "text": [
            "0.003089364065148495\n"
          ]
        }
      ],
      "source": [
        "print(mean_squared_error(y_train, pred_train))"
      ]
    },
    {
      "cell_type": "code",
      "execution_count": 19,
      "metadata": {
        "colab": {
          "base_uri": "https://localhost:8080/"
        },
        "id": "BymXMvzQ28as",
        "outputId": "d37fd162-95f0-40e4-bf85-6dd0d982fd29"
      },
      "outputs": [
        {
          "output_type": "execute_result",
          "data": {
            "text/plain": [
              "0.43794889586697305"
            ]
          },
          "metadata": {},
          "execution_count": 19
        }
      ],
      "source": [
        "xgb_r.score(X_test,y_test)"
      ]
    },
    {
      "cell_type": "code",
      "execution_count": null,
      "metadata": {
        "colab": {
          "base_uri": "https://localhost:8080/",
          "height": 1000
        },
        "id": "4YnnPjfMnqtN",
        "outputId": "dc6744be-b96d-4f82-bdcc-a5fdf4b2d550"
      },
      "outputs": [
        {
          "name": "stdout",
          "output_type": "stream",
          "text": [
            "[00:35:44] WARNING: ../src/learner.cc:339: No visible GPU is found, setting `gpu_id` to -1\n",
            "[00:35:44] WARNING: ../src/learner.cc:767: \n",
            "Parameters: { \"n_stimators\" } are not used.\n",
            "\n",
            "[00:36:58] WARNING: ../src/learner.cc:339: No visible GPU is found, setting `gpu_id` to -1\n",
            "[00:36:58] WARNING: ../src/learner.cc:767: \n",
            "Parameters: { \"n_stimators\" } are not used.\n",
            "\n",
            "[00:38:20] WARNING: ../src/learner.cc:339: No visible GPU is found, setting `gpu_id` to -1\n",
            "[00:38:20] WARNING: ../src/learner.cc:767: \n",
            "Parameters: { \"n_stimators\" } are not used.\n",
            "\n",
            "[00:39:34] WARNING: ../src/learner.cc:339: No visible GPU is found, setting `gpu_id` to -1\n",
            "[00:39:34] WARNING: ../src/learner.cc:767: \n",
            "Parameters: { \"n_stimators\" } are not used.\n",
            "\n",
            "[00:40:49] WARNING: ../src/learner.cc:339: No visible GPU is found, setting `gpu_id` to -1\n",
            "[00:40:49] WARNING: ../src/learner.cc:767: \n",
            "Parameters: { \"n_stimators\" } are not used.\n",
            "\n",
            "[00:42:04] WARNING: ../src/learner.cc:339: No visible GPU is found, setting `gpu_id` to -1\n",
            "[00:42:04] WARNING: ../src/learner.cc:767: \n",
            "Parameters: { \"n_stimators\" } are not used.\n",
            "\n",
            "[00:43:20] WARNING: ../src/learner.cc:339: No visible GPU is found, setting `gpu_id` to -1\n",
            "[00:43:20] WARNING: ../src/learner.cc:767: \n",
            "Parameters: { \"n_stimators\" } are not used.\n",
            "\n",
            "[00:44:36] WARNING: ../src/learner.cc:339: No visible GPU is found, setting `gpu_id` to -1\n",
            "[00:44:36] WARNING: ../src/learner.cc:767: \n",
            "Parameters: { \"n_stimators\" } are not used.\n",
            "\n",
            "[00:45:51] WARNING: ../src/learner.cc:339: No visible GPU is found, setting `gpu_id` to -1\n",
            "[00:45:51] WARNING: ../src/learner.cc:767: \n",
            "Parameters: { \"n_stimators\" } are not used.\n",
            "\n",
            "[00:47:36] WARNING: ../src/learner.cc:339: No visible GPU is found, setting `gpu_id` to -1\n",
            "[00:47:36] WARNING: ../src/learner.cc:767: \n",
            "Parameters: { \"n_stimators\" } are not used.\n",
            "\n",
            "[00:49:17] WARNING: ../src/learner.cc:339: No visible GPU is found, setting `gpu_id` to -1\n",
            "[00:49:17] WARNING: ../src/learner.cc:767: \n",
            "Parameters: { \"n_stimators\" } are not used.\n",
            "\n",
            "[00:51:03] WARNING: ../src/learner.cc:339: No visible GPU is found, setting `gpu_id` to -1\n",
            "[00:51:03] WARNING: ../src/learner.cc:767: \n",
            "Parameters: { \"n_stimators\" } are not used.\n",
            "\n",
            "[00:52:46] WARNING: ../src/learner.cc:339: No visible GPU is found, setting `gpu_id` to -1\n",
            "[00:52:46] WARNING: ../src/learner.cc:767: \n",
            "Parameters: { \"n_stimators\" } are not used.\n",
            "\n",
            "[00:54:30] WARNING: ../src/learner.cc:339: No visible GPU is found, setting `gpu_id` to -1\n",
            "[00:54:30] WARNING: ../src/learner.cc:767: \n",
            "Parameters: { \"n_stimators\" } are not used.\n",
            "\n",
            "[00:56:12] WARNING: ../src/learner.cc:339: No visible GPU is found, setting `gpu_id` to -1\n",
            "[00:56:12] WARNING: ../src/learner.cc:767: \n",
            "Parameters: { \"n_stimators\" } are not used.\n",
            "\n",
            "[00:57:55] WARNING: ../src/learner.cc:339: No visible GPU is found, setting `gpu_id` to -1\n",
            "[00:57:55] WARNING: ../src/learner.cc:767: \n",
            "Parameters: { \"n_stimators\" } are not used.\n",
            "\n",
            "[00:59:39] WARNING: ../src/learner.cc:339: No visible GPU is found, setting `gpu_id` to -1\n",
            "[00:59:39] WARNING: ../src/learner.cc:767: \n",
            "Parameters: { \"n_stimators\" } are not used.\n",
            "\n",
            "[01:01:52] WARNING: ../src/learner.cc:339: No visible GPU is found, setting `gpu_id` to -1\n",
            "[01:01:52] WARNING: ../src/learner.cc:767: \n",
            "Parameters: { \"n_stimators\" } are not used.\n",
            "\n",
            "[01:04:04] WARNING: ../src/learner.cc:339: No visible GPU is found, setting `gpu_id` to -1\n",
            "[01:04:04] WARNING: ../src/learner.cc:767: \n",
            "Parameters: { \"n_stimators\" } are not used.\n",
            "\n",
            "[01:06:19] WARNING: ../src/learner.cc:339: No visible GPU is found, setting `gpu_id` to -1\n",
            "[01:06:19] WARNING: ../src/learner.cc:767: \n",
            "Parameters: { \"n_stimators\" } are not used.\n",
            "\n",
            "[01:08:33] WARNING: ../src/learner.cc:339: No visible GPU is found, setting `gpu_id` to -1\n",
            "[01:08:33] WARNING: ../src/learner.cc:767: \n",
            "Parameters: { \"n_stimators\" } are not used.\n",
            "\n",
            "[01:10:45] WARNING: ../src/learner.cc:339: No visible GPU is found, setting `gpu_id` to -1\n",
            "[01:10:45] WARNING: ../src/learner.cc:767: \n",
            "Parameters: { \"n_stimators\" } are not used.\n",
            "\n",
            "[01:12:55] WARNING: ../src/learner.cc:339: No visible GPU is found, setting `gpu_id` to -1\n",
            "[01:12:55] WARNING: ../src/learner.cc:767: \n",
            "Parameters: { \"n_stimators\" } are not used.\n",
            "\n",
            "[01:15:08] WARNING: ../src/learner.cc:339: No visible GPU is found, setting `gpu_id` to -1\n",
            "[01:15:08] WARNING: ../src/learner.cc:767: \n",
            "Parameters: { \"n_stimators\" } are not used.\n",
            "\n",
            "[01:17:20] WARNING: ../src/learner.cc:339: No visible GPU is found, setting `gpu_id` to -1\n",
            "[01:17:20] WARNING: ../src/learner.cc:767: \n",
            "Parameters: { \"n_stimators\" } are not used.\n",
            "\n",
            "[01:20:05] WARNING: ../src/learner.cc:339: No visible GPU is found, setting `gpu_id` to -1\n",
            "[01:20:05] WARNING: ../src/learner.cc:767: \n",
            "Parameters: { \"n_stimators\" } are not used.\n",
            "\n",
            "[01:22:51] WARNING: ../src/learner.cc:339: No visible GPU is found, setting `gpu_id` to -1\n",
            "[01:22:51] WARNING: ../src/learner.cc:767: \n",
            "Parameters: { \"n_stimators\" } are not used.\n",
            "\n",
            "[01:25:34] WARNING: ../src/learner.cc:339: No visible GPU is found, setting `gpu_id` to -1\n",
            "[01:25:34] WARNING: ../src/learner.cc:767: \n",
            "Parameters: { \"n_stimators\" } are not used.\n",
            "\n",
            "[01:28:22] WARNING: ../src/learner.cc:339: No visible GPU is found, setting `gpu_id` to -1\n",
            "[01:28:22] WARNING: ../src/learner.cc:767: \n",
            "Parameters: { \"n_stimators\" } are not used.\n",
            "\n",
            "[01:31:04] WARNING: ../src/learner.cc:339: No visible GPU is found, setting `gpu_id` to -1\n",
            "[01:31:04] WARNING: ../src/learner.cc:767: \n",
            "Parameters: { \"n_stimators\" } are not used.\n",
            "\n",
            "[01:33:51] WARNING: ../src/learner.cc:339: No visible GPU is found, setting `gpu_id` to -1\n",
            "[01:33:51] WARNING: ../src/learner.cc:767: \n",
            "Parameters: { \"n_stimators\" } are not used.\n",
            "\n",
            "[01:36:34] WARNING: ../src/learner.cc:339: No visible GPU is found, setting `gpu_id` to -1\n",
            "[01:36:34] WARNING: ../src/learner.cc:767: \n",
            "Parameters: { \"n_stimators\" } are not used.\n",
            "\n",
            "[01:39:20] WARNING: ../src/learner.cc:339: No visible GPU is found, setting `gpu_id` to -1\n",
            "[01:39:20] WARNING: ../src/learner.cc:767: \n",
            "Parameters: { \"n_stimators\" } are not used.\n",
            "\n",
            "[01:40:38] WARNING: ../src/learner.cc:339: No visible GPU is found, setting `gpu_id` to -1\n",
            "[01:40:38] WARNING: ../src/learner.cc:767: \n",
            "Parameters: { \"n_stimators\" } are not used.\n",
            "\n",
            "[01:41:56] WARNING: ../src/learner.cc:339: No visible GPU is found, setting `gpu_id` to -1\n",
            "[01:41:56] WARNING: ../src/learner.cc:767: \n",
            "Parameters: { \"n_stimators\" } are not used.\n",
            "\n",
            "[01:43:15] WARNING: ../src/learner.cc:339: No visible GPU is found, setting `gpu_id` to -1\n",
            "[01:43:15] WARNING: ../src/learner.cc:767: \n",
            "Parameters: { \"n_stimators\" } are not used.\n",
            "\n",
            "[01:44:37] WARNING: ../src/learner.cc:339: No visible GPU is found, setting `gpu_id` to -1\n",
            "[01:44:37] WARNING: ../src/learner.cc:767: \n",
            "Parameters: { \"n_stimators\" } are not used.\n",
            "\n",
            "[01:45:56] WARNING: ../src/learner.cc:339: No visible GPU is found, setting `gpu_id` to -1\n",
            "[01:45:56] WARNING: ../src/learner.cc:767: \n",
            "Parameters: { \"n_stimators\" } are not used.\n",
            "\n",
            "[01:47:14] WARNING: ../src/learner.cc:339: No visible GPU is found, setting `gpu_id` to -1\n",
            "[01:47:14] WARNING: ../src/learner.cc:767: \n",
            "Parameters: { \"n_stimators\" } are not used.\n",
            "\n",
            "[01:48:34] WARNING: ../src/learner.cc:339: No visible GPU is found, setting `gpu_id` to -1\n",
            "[01:48:34] WARNING: ../src/learner.cc:767: \n",
            "Parameters: { \"n_stimators\" } are not used.\n",
            "\n",
            "[01:49:54] WARNING: ../src/learner.cc:339: No visible GPU is found, setting `gpu_id` to -1\n",
            "[01:49:54] WARNING: ../src/learner.cc:767: \n",
            "Parameters: { \"n_stimators\" } are not used.\n",
            "\n",
            "[01:51:40] WARNING: ../src/learner.cc:339: No visible GPU is found, setting `gpu_id` to -1\n",
            "[01:51:40] WARNING: ../src/learner.cc:767: \n",
            "Parameters: { \"n_stimators\" } are not used.\n",
            "\n",
            "[01:53:28] WARNING: ../src/learner.cc:339: No visible GPU is found, setting `gpu_id` to -1\n",
            "[01:53:28] WARNING: ../src/learner.cc:767: \n",
            "Parameters: { \"n_stimators\" } are not used.\n",
            "\n",
            "[01:55:13] WARNING: ../src/learner.cc:339: No visible GPU is found, setting `gpu_id` to -1\n",
            "[01:55:13] WARNING: ../src/learner.cc:767: \n",
            "Parameters: { \"n_stimators\" } are not used.\n",
            "\n",
            "[01:57:03] WARNING: ../src/learner.cc:339: No visible GPU is found, setting `gpu_id` to -1\n",
            "[01:57:03] WARNING: ../src/learner.cc:767: \n",
            "Parameters: { \"n_stimators\" } are not used.\n",
            "\n",
            "[01:58:50] WARNING: ../src/learner.cc:339: No visible GPU is found, setting `gpu_id` to -1\n",
            "[01:58:50] WARNING: ../src/learner.cc:767: \n",
            "Parameters: { \"n_stimators\" } are not used.\n",
            "\n",
            "[02:00:37] WARNING: ../src/learner.cc:339: No visible GPU is found, setting `gpu_id` to -1\n",
            "[02:00:37] WARNING: ../src/learner.cc:767: \n",
            "Parameters: { \"n_stimators\" } are not used.\n",
            "\n",
            "[02:02:24] WARNING: ../src/learner.cc:339: No visible GPU is found, setting `gpu_id` to -1\n",
            "[02:02:24] WARNING: ../src/learner.cc:767: \n",
            "Parameters: { \"n_stimators\" } are not used.\n",
            "\n",
            "[02:04:09] WARNING: ../src/learner.cc:339: No visible GPU is found, setting `gpu_id` to -1\n",
            "[02:04:09] WARNING: ../src/learner.cc:767: \n",
            "Parameters: { \"n_stimators\" } are not used.\n",
            "\n"
          ]
        },
        {
          "ename": "KeyboardInterrupt",
          "evalue": "ignored",
          "output_type": "error",
          "traceback": [
            "\u001b[0;31m---------------------------------------------------------------------------\u001b[0m",
            "\u001b[0;31mKeyboardInterrupt\u001b[0m                         Traceback (most recent call last)",
            "\u001b[0;32m<ipython-input-29-68c06c983509>\u001b[0m in \u001b[0;36m<cell line: 15>\u001b[0;34m()\u001b[0m\n\u001b[1;32m     13\u001b[0m \u001b[0;34m\u001b[0m\u001b[0m\n\u001b[1;32m     14\u001b[0m \u001b[0mclf\u001b[0m \u001b[0;34m=\u001b[0m \u001b[0mGridSearchCV\u001b[0m\u001b[0;34m(\u001b[0m\u001b[0mmodel_xgb\u001b[0m\u001b[0;34m,\u001b[0m \u001b[0mparam_grid\u001b[0m\u001b[0;34m=\u001b[0m \u001b[0mtuned_parameters\u001b[0m\u001b[0;34m,\u001b[0m \u001b[0mcv\u001b[0m \u001b[0;34m=\u001b[0m \u001b[0;36m2\u001b[0m\u001b[0;34m)\u001b[0m\u001b[0;34m\u001b[0m\u001b[0;34m\u001b[0m\u001b[0m\n\u001b[0;32m---> 15\u001b[0;31m \u001b[0mclf\u001b[0m\u001b[0;34m.\u001b[0m\u001b[0mfit\u001b[0m\u001b[0;34m(\u001b[0m\u001b[0mX_train\u001b[0m\u001b[0;34m,\u001b[0m\u001b[0my_train\u001b[0m\u001b[0;34m)\u001b[0m\u001b[0;34m\u001b[0m\u001b[0;34m\u001b[0m\u001b[0m\n\u001b[0m\u001b[1;32m     16\u001b[0m \u001b[0;34m\u001b[0m\u001b[0m\n\u001b[1;32m     17\u001b[0m \u001b[0mprint\u001b[0m\u001b[0;34m(\u001b[0m\u001b[0;34m'mejores_parametros:'\u001b[0m\u001b[0;34m)\u001b[0m\u001b[0;34m\u001b[0m\u001b[0;34m\u001b[0m\u001b[0m\n",
            "\u001b[0;32m/usr/local/lib/python3.10/dist-packages/sklearn/model_selection/_search.py\u001b[0m in \u001b[0;36mfit\u001b[0;34m(self, X, y, groups, **fit_params)\u001b[0m\n\u001b[1;32m    872\u001b[0m                 \u001b[0;32mreturn\u001b[0m \u001b[0mresults\u001b[0m\u001b[0;34m\u001b[0m\u001b[0;34m\u001b[0m\u001b[0m\n\u001b[1;32m    873\u001b[0m \u001b[0;34m\u001b[0m\u001b[0m\n\u001b[0;32m--> 874\u001b[0;31m             \u001b[0mself\u001b[0m\u001b[0;34m.\u001b[0m\u001b[0m_run_search\u001b[0m\u001b[0;34m(\u001b[0m\u001b[0mevaluate_candidates\u001b[0m\u001b[0;34m)\u001b[0m\u001b[0;34m\u001b[0m\u001b[0;34m\u001b[0m\u001b[0m\n\u001b[0m\u001b[1;32m    875\u001b[0m \u001b[0;34m\u001b[0m\u001b[0m\n\u001b[1;32m    876\u001b[0m             \u001b[0;31m# multimetric is determined here because in the case of a callable\u001b[0m\u001b[0;34m\u001b[0m\u001b[0;34m\u001b[0m\u001b[0m\n",
            "\u001b[0;32m/usr/local/lib/python3.10/dist-packages/sklearn/model_selection/_search.py\u001b[0m in \u001b[0;36m_run_search\u001b[0;34m(self, evaluate_candidates)\u001b[0m\n\u001b[1;32m   1386\u001b[0m     \u001b[0;32mdef\u001b[0m \u001b[0m_run_search\u001b[0m\u001b[0;34m(\u001b[0m\u001b[0mself\u001b[0m\u001b[0;34m,\u001b[0m \u001b[0mevaluate_candidates\u001b[0m\u001b[0;34m)\u001b[0m\u001b[0;34m:\u001b[0m\u001b[0;34m\u001b[0m\u001b[0;34m\u001b[0m\u001b[0m\n\u001b[1;32m   1387\u001b[0m         \u001b[0;34m\"\"\"Search all candidates in param_grid\"\"\"\u001b[0m\u001b[0;34m\u001b[0m\u001b[0;34m\u001b[0m\u001b[0m\n\u001b[0;32m-> 1388\u001b[0;31m         \u001b[0mevaluate_candidates\u001b[0m\u001b[0;34m(\u001b[0m\u001b[0mParameterGrid\u001b[0m\u001b[0;34m(\u001b[0m\u001b[0mself\u001b[0m\u001b[0;34m.\u001b[0m\u001b[0mparam_grid\u001b[0m\u001b[0;34m)\u001b[0m\u001b[0;34m)\u001b[0m\u001b[0;34m\u001b[0m\u001b[0;34m\u001b[0m\u001b[0m\n\u001b[0m\u001b[1;32m   1389\u001b[0m \u001b[0;34m\u001b[0m\u001b[0m\n\u001b[1;32m   1390\u001b[0m \u001b[0;34m\u001b[0m\u001b[0m\n",
            "\u001b[0;32m/usr/local/lib/python3.10/dist-packages/sklearn/model_selection/_search.py\u001b[0m in \u001b[0;36mevaluate_candidates\u001b[0;34m(candidate_params, cv, more_results)\u001b[0m\n\u001b[1;32m    819\u001b[0m                     )\n\u001b[1;32m    820\u001b[0m \u001b[0;34m\u001b[0m\u001b[0m\n\u001b[0;32m--> 821\u001b[0;31m                 out = parallel(\n\u001b[0m\u001b[1;32m    822\u001b[0m                     delayed(_fit_and_score)(\n\u001b[1;32m    823\u001b[0m                         \u001b[0mclone\u001b[0m\u001b[0;34m(\u001b[0m\u001b[0mbase_estimator\u001b[0m\u001b[0;34m)\u001b[0m\u001b[0;34m,\u001b[0m\u001b[0;34m\u001b[0m\u001b[0;34m\u001b[0m\u001b[0m\n",
            "\u001b[0;32m/usr/local/lib/python3.10/dist-packages/sklearn/utils/parallel.py\u001b[0m in \u001b[0;36m__call__\u001b[0;34m(self, iterable)\u001b[0m\n\u001b[1;32m     61\u001b[0m             \u001b[0;32mfor\u001b[0m \u001b[0mdelayed_func\u001b[0m\u001b[0;34m,\u001b[0m \u001b[0margs\u001b[0m\u001b[0;34m,\u001b[0m \u001b[0mkwargs\u001b[0m \u001b[0;32min\u001b[0m \u001b[0miterable\u001b[0m\u001b[0;34m\u001b[0m\u001b[0;34m\u001b[0m\u001b[0m\n\u001b[1;32m     62\u001b[0m         )\n\u001b[0;32m---> 63\u001b[0;31m         \u001b[0;32mreturn\u001b[0m \u001b[0msuper\u001b[0m\u001b[0;34m(\u001b[0m\u001b[0;34m)\u001b[0m\u001b[0;34m.\u001b[0m\u001b[0m__call__\u001b[0m\u001b[0;34m(\u001b[0m\u001b[0miterable_with_config\u001b[0m\u001b[0;34m)\u001b[0m\u001b[0;34m\u001b[0m\u001b[0;34m\u001b[0m\u001b[0m\n\u001b[0m\u001b[1;32m     64\u001b[0m \u001b[0;34m\u001b[0m\u001b[0m\n\u001b[1;32m     65\u001b[0m \u001b[0;34m\u001b[0m\u001b[0m\n",
            "\u001b[0;32m/usr/local/lib/python3.10/dist-packages/joblib/parallel.py\u001b[0m in \u001b[0;36m__call__\u001b[0;34m(self, iterable)\u001b[0m\n\u001b[1;32m   1086\u001b[0m                 \u001b[0mself\u001b[0m\u001b[0;34m.\u001b[0m\u001b[0m_iterating\u001b[0m \u001b[0;34m=\u001b[0m \u001b[0mself\u001b[0m\u001b[0;34m.\u001b[0m\u001b[0m_original_iterator\u001b[0m \u001b[0;32mis\u001b[0m \u001b[0;32mnot\u001b[0m \u001b[0;32mNone\u001b[0m\u001b[0;34m\u001b[0m\u001b[0;34m\u001b[0m\u001b[0m\n\u001b[1;32m   1087\u001b[0m \u001b[0;34m\u001b[0m\u001b[0m\n\u001b[0;32m-> 1088\u001b[0;31m             \u001b[0;32mwhile\u001b[0m \u001b[0mself\u001b[0m\u001b[0;34m.\u001b[0m\u001b[0mdispatch_one_batch\u001b[0m\u001b[0;34m(\u001b[0m\u001b[0miterator\u001b[0m\u001b[0;34m)\u001b[0m\u001b[0;34m:\u001b[0m\u001b[0;34m\u001b[0m\u001b[0;34m\u001b[0m\u001b[0m\n\u001b[0m\u001b[1;32m   1089\u001b[0m                 \u001b[0;32mpass\u001b[0m\u001b[0;34m\u001b[0m\u001b[0;34m\u001b[0m\u001b[0m\n\u001b[1;32m   1090\u001b[0m \u001b[0;34m\u001b[0m\u001b[0m\n",
            "\u001b[0;32m/usr/local/lib/python3.10/dist-packages/joblib/parallel.py\u001b[0m in \u001b[0;36mdispatch_one_batch\u001b[0;34m(self, iterator)\u001b[0m\n\u001b[1;32m    899\u001b[0m                 \u001b[0;32mreturn\u001b[0m \u001b[0;32mFalse\u001b[0m\u001b[0;34m\u001b[0m\u001b[0;34m\u001b[0m\u001b[0m\n\u001b[1;32m    900\u001b[0m             \u001b[0;32melse\u001b[0m\u001b[0;34m:\u001b[0m\u001b[0;34m\u001b[0m\u001b[0;34m\u001b[0m\u001b[0m\n\u001b[0;32m--> 901\u001b[0;31m                 \u001b[0mself\u001b[0m\u001b[0;34m.\u001b[0m\u001b[0m_dispatch\u001b[0m\u001b[0;34m(\u001b[0m\u001b[0mtasks\u001b[0m\u001b[0;34m)\u001b[0m\u001b[0;34m\u001b[0m\u001b[0;34m\u001b[0m\u001b[0m\n\u001b[0m\u001b[1;32m    902\u001b[0m                 \u001b[0;32mreturn\u001b[0m \u001b[0;32mTrue\u001b[0m\u001b[0;34m\u001b[0m\u001b[0;34m\u001b[0m\u001b[0m\n\u001b[1;32m    903\u001b[0m \u001b[0;34m\u001b[0m\u001b[0m\n",
            "\u001b[0;32m/usr/local/lib/python3.10/dist-packages/joblib/parallel.py\u001b[0m in \u001b[0;36m_dispatch\u001b[0;34m(self, batch)\u001b[0m\n\u001b[1;32m    817\u001b[0m         \u001b[0;32mwith\u001b[0m \u001b[0mself\u001b[0m\u001b[0;34m.\u001b[0m\u001b[0m_lock\u001b[0m\u001b[0;34m:\u001b[0m\u001b[0;34m\u001b[0m\u001b[0;34m\u001b[0m\u001b[0m\n\u001b[1;32m    818\u001b[0m             \u001b[0mjob_idx\u001b[0m \u001b[0;34m=\u001b[0m \u001b[0mlen\u001b[0m\u001b[0;34m(\u001b[0m\u001b[0mself\u001b[0m\u001b[0;34m.\u001b[0m\u001b[0m_jobs\u001b[0m\u001b[0;34m)\u001b[0m\u001b[0;34m\u001b[0m\u001b[0;34m\u001b[0m\u001b[0m\n\u001b[0;32m--> 819\u001b[0;31m             \u001b[0mjob\u001b[0m \u001b[0;34m=\u001b[0m \u001b[0mself\u001b[0m\u001b[0;34m.\u001b[0m\u001b[0m_backend\u001b[0m\u001b[0;34m.\u001b[0m\u001b[0mapply_async\u001b[0m\u001b[0;34m(\u001b[0m\u001b[0mbatch\u001b[0m\u001b[0;34m,\u001b[0m \u001b[0mcallback\u001b[0m\u001b[0;34m=\u001b[0m\u001b[0mcb\u001b[0m\u001b[0;34m)\u001b[0m\u001b[0;34m\u001b[0m\u001b[0;34m\u001b[0m\u001b[0m\n\u001b[0m\u001b[1;32m    820\u001b[0m             \u001b[0;31m# A job can complete so quickly than its callback is\u001b[0m\u001b[0;34m\u001b[0m\u001b[0;34m\u001b[0m\u001b[0m\n\u001b[1;32m    821\u001b[0m             \u001b[0;31m# called before we get here, causing self._jobs to\u001b[0m\u001b[0;34m\u001b[0m\u001b[0;34m\u001b[0m\u001b[0m\n",
            "\u001b[0;32m/usr/local/lib/python3.10/dist-packages/joblib/_parallel_backends.py\u001b[0m in \u001b[0;36mapply_async\u001b[0;34m(self, func, callback)\u001b[0m\n\u001b[1;32m    206\u001b[0m     \u001b[0;32mdef\u001b[0m \u001b[0mapply_async\u001b[0m\u001b[0;34m(\u001b[0m\u001b[0mself\u001b[0m\u001b[0;34m,\u001b[0m \u001b[0mfunc\u001b[0m\u001b[0;34m,\u001b[0m \u001b[0mcallback\u001b[0m\u001b[0;34m=\u001b[0m\u001b[0;32mNone\u001b[0m\u001b[0;34m)\u001b[0m\u001b[0;34m:\u001b[0m\u001b[0;34m\u001b[0m\u001b[0;34m\u001b[0m\u001b[0m\n\u001b[1;32m    207\u001b[0m         \u001b[0;34m\"\"\"Schedule a func to be run\"\"\"\u001b[0m\u001b[0;34m\u001b[0m\u001b[0;34m\u001b[0m\u001b[0m\n\u001b[0;32m--> 208\u001b[0;31m         \u001b[0mresult\u001b[0m \u001b[0;34m=\u001b[0m \u001b[0mImmediateResult\u001b[0m\u001b[0;34m(\u001b[0m\u001b[0mfunc\u001b[0m\u001b[0;34m)\u001b[0m\u001b[0;34m\u001b[0m\u001b[0;34m\u001b[0m\u001b[0m\n\u001b[0m\u001b[1;32m    209\u001b[0m         \u001b[0;32mif\u001b[0m \u001b[0mcallback\u001b[0m\u001b[0;34m:\u001b[0m\u001b[0;34m\u001b[0m\u001b[0;34m\u001b[0m\u001b[0m\n\u001b[1;32m    210\u001b[0m             \u001b[0mcallback\u001b[0m\u001b[0;34m(\u001b[0m\u001b[0mresult\u001b[0m\u001b[0;34m)\u001b[0m\u001b[0;34m\u001b[0m\u001b[0;34m\u001b[0m\u001b[0m\n",
            "\u001b[0;32m/usr/local/lib/python3.10/dist-packages/joblib/_parallel_backends.py\u001b[0m in \u001b[0;36m__init__\u001b[0;34m(self, batch)\u001b[0m\n\u001b[1;32m    595\u001b[0m         \u001b[0;31m# Don't delay the application, to avoid keeping the input\u001b[0m\u001b[0;34m\u001b[0m\u001b[0;34m\u001b[0m\u001b[0m\n\u001b[1;32m    596\u001b[0m         \u001b[0;31m# arguments in memory\u001b[0m\u001b[0;34m\u001b[0m\u001b[0;34m\u001b[0m\u001b[0m\n\u001b[0;32m--> 597\u001b[0;31m         \u001b[0mself\u001b[0m\u001b[0;34m.\u001b[0m\u001b[0mresults\u001b[0m \u001b[0;34m=\u001b[0m \u001b[0mbatch\u001b[0m\u001b[0;34m(\u001b[0m\u001b[0;34m)\u001b[0m\u001b[0;34m\u001b[0m\u001b[0;34m\u001b[0m\u001b[0m\n\u001b[0m\u001b[1;32m    598\u001b[0m \u001b[0;34m\u001b[0m\u001b[0m\n\u001b[1;32m    599\u001b[0m     \u001b[0;32mdef\u001b[0m \u001b[0mget\u001b[0m\u001b[0;34m(\u001b[0m\u001b[0mself\u001b[0m\u001b[0;34m)\u001b[0m\u001b[0;34m:\u001b[0m\u001b[0;34m\u001b[0m\u001b[0;34m\u001b[0m\u001b[0m\n",
            "\u001b[0;32m/usr/local/lib/python3.10/dist-packages/joblib/parallel.py\u001b[0m in \u001b[0;36m__call__\u001b[0;34m(self)\u001b[0m\n\u001b[1;32m    286\u001b[0m         \u001b[0;31m# change the default number of processes to -1\u001b[0m\u001b[0;34m\u001b[0m\u001b[0;34m\u001b[0m\u001b[0m\n\u001b[1;32m    287\u001b[0m         \u001b[0;32mwith\u001b[0m \u001b[0mparallel_backend\u001b[0m\u001b[0;34m(\u001b[0m\u001b[0mself\u001b[0m\u001b[0;34m.\u001b[0m\u001b[0m_backend\u001b[0m\u001b[0;34m,\u001b[0m \u001b[0mn_jobs\u001b[0m\u001b[0;34m=\u001b[0m\u001b[0mself\u001b[0m\u001b[0;34m.\u001b[0m\u001b[0m_n_jobs\u001b[0m\u001b[0;34m)\u001b[0m\u001b[0;34m:\u001b[0m\u001b[0;34m\u001b[0m\u001b[0;34m\u001b[0m\u001b[0m\n\u001b[0;32m--> 288\u001b[0;31m             return [func(*args, **kwargs)\n\u001b[0m\u001b[1;32m    289\u001b[0m                     for func, args, kwargs in self.items]\n\u001b[1;32m    290\u001b[0m \u001b[0;34m\u001b[0m\u001b[0m\n",
            "\u001b[0;32m/usr/local/lib/python3.10/dist-packages/joblib/parallel.py\u001b[0m in \u001b[0;36m<listcomp>\u001b[0;34m(.0)\u001b[0m\n\u001b[1;32m    286\u001b[0m         \u001b[0;31m# change the default number of processes to -1\u001b[0m\u001b[0;34m\u001b[0m\u001b[0;34m\u001b[0m\u001b[0m\n\u001b[1;32m    287\u001b[0m         \u001b[0;32mwith\u001b[0m \u001b[0mparallel_backend\u001b[0m\u001b[0;34m(\u001b[0m\u001b[0mself\u001b[0m\u001b[0;34m.\u001b[0m\u001b[0m_backend\u001b[0m\u001b[0;34m,\u001b[0m \u001b[0mn_jobs\u001b[0m\u001b[0;34m=\u001b[0m\u001b[0mself\u001b[0m\u001b[0;34m.\u001b[0m\u001b[0m_n_jobs\u001b[0m\u001b[0;34m)\u001b[0m\u001b[0;34m:\u001b[0m\u001b[0;34m\u001b[0m\u001b[0;34m\u001b[0m\u001b[0m\n\u001b[0;32m--> 288\u001b[0;31m             return [func(*args, **kwargs)\n\u001b[0m\u001b[1;32m    289\u001b[0m                     for func, args, kwargs in self.items]\n\u001b[1;32m    290\u001b[0m \u001b[0;34m\u001b[0m\u001b[0m\n",
            "\u001b[0;32m/usr/local/lib/python3.10/dist-packages/sklearn/utils/parallel.py\u001b[0m in \u001b[0;36m__call__\u001b[0;34m(self, *args, **kwargs)\u001b[0m\n\u001b[1;32m    121\u001b[0m             \u001b[0mconfig\u001b[0m \u001b[0;34m=\u001b[0m \u001b[0;34m{\u001b[0m\u001b[0;34m}\u001b[0m\u001b[0;34m\u001b[0m\u001b[0;34m\u001b[0m\u001b[0m\n\u001b[1;32m    122\u001b[0m         \u001b[0;32mwith\u001b[0m \u001b[0mconfig_context\u001b[0m\u001b[0;34m(\u001b[0m\u001b[0;34m**\u001b[0m\u001b[0mconfig\u001b[0m\u001b[0;34m)\u001b[0m\u001b[0;34m:\u001b[0m\u001b[0;34m\u001b[0m\u001b[0;34m\u001b[0m\u001b[0m\n\u001b[0;32m--> 123\u001b[0;31m             \u001b[0;32mreturn\u001b[0m \u001b[0mself\u001b[0m\u001b[0;34m.\u001b[0m\u001b[0mfunction\u001b[0m\u001b[0;34m(\u001b[0m\u001b[0;34m*\u001b[0m\u001b[0margs\u001b[0m\u001b[0;34m,\u001b[0m \u001b[0;34m**\u001b[0m\u001b[0mkwargs\u001b[0m\u001b[0;34m)\u001b[0m\u001b[0;34m\u001b[0m\u001b[0;34m\u001b[0m\u001b[0m\n\u001b[0m",
            "\u001b[0;32m/usr/local/lib/python3.10/dist-packages/sklearn/model_selection/_validation.py\u001b[0m in \u001b[0;36m_fit_and_score\u001b[0;34m(estimator, X, y, scorer, train, test, verbose, parameters, fit_params, return_train_score, return_parameters, return_n_test_samples, return_times, return_estimator, split_progress, candidate_progress, error_score)\u001b[0m\n\u001b[1;32m    684\u001b[0m             \u001b[0mestimator\u001b[0m\u001b[0;34m.\u001b[0m\u001b[0mfit\u001b[0m\u001b[0;34m(\u001b[0m\u001b[0mX_train\u001b[0m\u001b[0;34m,\u001b[0m \u001b[0;34m**\u001b[0m\u001b[0mfit_params\u001b[0m\u001b[0;34m)\u001b[0m\u001b[0;34m\u001b[0m\u001b[0;34m\u001b[0m\u001b[0m\n\u001b[1;32m    685\u001b[0m         \u001b[0;32melse\u001b[0m\u001b[0;34m:\u001b[0m\u001b[0;34m\u001b[0m\u001b[0;34m\u001b[0m\u001b[0m\n\u001b[0;32m--> 686\u001b[0;31m             \u001b[0mestimator\u001b[0m\u001b[0;34m.\u001b[0m\u001b[0mfit\u001b[0m\u001b[0;34m(\u001b[0m\u001b[0mX_train\u001b[0m\u001b[0;34m,\u001b[0m \u001b[0my_train\u001b[0m\u001b[0;34m,\u001b[0m \u001b[0;34m**\u001b[0m\u001b[0mfit_params\u001b[0m\u001b[0;34m)\u001b[0m\u001b[0;34m\u001b[0m\u001b[0;34m\u001b[0m\u001b[0m\n\u001b[0m\u001b[1;32m    687\u001b[0m \u001b[0;34m\u001b[0m\u001b[0m\n\u001b[1;32m    688\u001b[0m     \u001b[0;32mexcept\u001b[0m \u001b[0mException\u001b[0m\u001b[0;34m:\u001b[0m\u001b[0;34m\u001b[0m\u001b[0;34m\u001b[0m\u001b[0m\n",
            "\u001b[0;32m/usr/local/lib/python3.10/dist-packages/xgboost/core.py\u001b[0m in \u001b[0;36minner_f\u001b[0;34m(*args, **kwargs)\u001b[0m\n\u001b[1;32m    618\u001b[0m             \u001b[0;32mfor\u001b[0m \u001b[0mk\u001b[0m\u001b[0;34m,\u001b[0m \u001b[0marg\u001b[0m \u001b[0;32min\u001b[0m \u001b[0mzip\u001b[0m\u001b[0;34m(\u001b[0m\u001b[0msig\u001b[0m\u001b[0;34m.\u001b[0m\u001b[0mparameters\u001b[0m\u001b[0;34m,\u001b[0m \u001b[0margs\u001b[0m\u001b[0;34m)\u001b[0m\u001b[0;34m:\u001b[0m\u001b[0;34m\u001b[0m\u001b[0;34m\u001b[0m\u001b[0m\n\u001b[1;32m    619\u001b[0m                 \u001b[0mkwargs\u001b[0m\u001b[0;34m[\u001b[0m\u001b[0mk\u001b[0m\u001b[0;34m]\u001b[0m \u001b[0;34m=\u001b[0m \u001b[0marg\u001b[0m\u001b[0;34m\u001b[0m\u001b[0;34m\u001b[0m\u001b[0m\n\u001b[0;32m--> 620\u001b[0;31m             \u001b[0;32mreturn\u001b[0m \u001b[0mfunc\u001b[0m\u001b[0;34m(\u001b[0m\u001b[0;34m**\u001b[0m\u001b[0mkwargs\u001b[0m\u001b[0;34m)\u001b[0m\u001b[0;34m\u001b[0m\u001b[0;34m\u001b[0m\u001b[0m\n\u001b[0m\u001b[1;32m    621\u001b[0m \u001b[0;34m\u001b[0m\u001b[0m\n\u001b[1;32m    622\u001b[0m         \u001b[0;32mreturn\u001b[0m \u001b[0minner_f\u001b[0m\u001b[0;34m\u001b[0m\u001b[0;34m\u001b[0m\u001b[0m\n",
            "\u001b[0;32m/usr/local/lib/python3.10/dist-packages/xgboost/sklearn.py\u001b[0m in \u001b[0;36mfit\u001b[0;34m(self, X, y, sample_weight, base_margin, eval_set, eval_metric, early_stopping_rounds, verbose, xgb_model, sample_weight_eval_set, base_margin_eval_set, feature_weights, callbacks)\u001b[0m\n\u001b[1;32m   1023\u001b[0m                 \u001b[0mxgb_model\u001b[0m\u001b[0;34m,\u001b[0m \u001b[0meval_metric\u001b[0m\u001b[0;34m,\u001b[0m \u001b[0mparams\u001b[0m\u001b[0;34m,\u001b[0m \u001b[0mearly_stopping_rounds\u001b[0m\u001b[0;34m,\u001b[0m \u001b[0mcallbacks\u001b[0m\u001b[0;34m\u001b[0m\u001b[0;34m\u001b[0m\u001b[0m\n\u001b[1;32m   1024\u001b[0m             )\n\u001b[0;32m-> 1025\u001b[0;31m             self._Booster = train(\n\u001b[0m\u001b[1;32m   1026\u001b[0m                 \u001b[0mparams\u001b[0m\u001b[0;34m,\u001b[0m\u001b[0;34m\u001b[0m\u001b[0;34m\u001b[0m\u001b[0m\n\u001b[1;32m   1027\u001b[0m                 \u001b[0mtrain_dmatrix\u001b[0m\u001b[0;34m,\u001b[0m\u001b[0;34m\u001b[0m\u001b[0;34m\u001b[0m\u001b[0m\n",
            "\u001b[0;32m/usr/local/lib/python3.10/dist-packages/xgboost/core.py\u001b[0m in \u001b[0;36minner_f\u001b[0;34m(*args, **kwargs)\u001b[0m\n\u001b[1;32m    618\u001b[0m             \u001b[0;32mfor\u001b[0m \u001b[0mk\u001b[0m\u001b[0;34m,\u001b[0m \u001b[0marg\u001b[0m \u001b[0;32min\u001b[0m \u001b[0mzip\u001b[0m\u001b[0;34m(\u001b[0m\u001b[0msig\u001b[0m\u001b[0;34m.\u001b[0m\u001b[0mparameters\u001b[0m\u001b[0;34m,\u001b[0m \u001b[0margs\u001b[0m\u001b[0;34m)\u001b[0m\u001b[0;34m:\u001b[0m\u001b[0;34m\u001b[0m\u001b[0;34m\u001b[0m\u001b[0m\n\u001b[1;32m    619\u001b[0m                 \u001b[0mkwargs\u001b[0m\u001b[0;34m[\u001b[0m\u001b[0mk\u001b[0m\u001b[0;34m]\u001b[0m \u001b[0;34m=\u001b[0m \u001b[0marg\u001b[0m\u001b[0;34m\u001b[0m\u001b[0;34m\u001b[0m\u001b[0m\n\u001b[0;32m--> 620\u001b[0;31m             \u001b[0;32mreturn\u001b[0m \u001b[0mfunc\u001b[0m\u001b[0;34m(\u001b[0m\u001b[0;34m**\u001b[0m\u001b[0mkwargs\u001b[0m\u001b[0;34m)\u001b[0m\u001b[0;34m\u001b[0m\u001b[0;34m\u001b[0m\u001b[0m\n\u001b[0m\u001b[1;32m    621\u001b[0m \u001b[0;34m\u001b[0m\u001b[0m\n\u001b[1;32m    622\u001b[0m         \u001b[0;32mreturn\u001b[0m \u001b[0minner_f\u001b[0m\u001b[0;34m\u001b[0m\u001b[0;34m\u001b[0m\u001b[0m\n",
            "\u001b[0;32m/usr/local/lib/python3.10/dist-packages/xgboost/training.py\u001b[0m in \u001b[0;36mtrain\u001b[0;34m(params, dtrain, num_boost_round, evals, obj, feval, maximize, early_stopping_rounds, evals_result, verbose_eval, xgb_model, callbacks, custom_metric)\u001b[0m\n\u001b[1;32m    183\u001b[0m         \u001b[0;32mif\u001b[0m \u001b[0mcb_container\u001b[0m\u001b[0;34m.\u001b[0m\u001b[0mbefore_iteration\u001b[0m\u001b[0;34m(\u001b[0m\u001b[0mbst\u001b[0m\u001b[0;34m,\u001b[0m \u001b[0mi\u001b[0m\u001b[0;34m,\u001b[0m \u001b[0mdtrain\u001b[0m\u001b[0;34m,\u001b[0m \u001b[0mevals\u001b[0m\u001b[0;34m)\u001b[0m\u001b[0;34m:\u001b[0m\u001b[0;34m\u001b[0m\u001b[0;34m\u001b[0m\u001b[0m\n\u001b[1;32m    184\u001b[0m             \u001b[0;32mbreak\u001b[0m\u001b[0;34m\u001b[0m\u001b[0;34m\u001b[0m\u001b[0m\n\u001b[0;32m--> 185\u001b[0;31m         \u001b[0mbst\u001b[0m\u001b[0;34m.\u001b[0m\u001b[0mupdate\u001b[0m\u001b[0;34m(\u001b[0m\u001b[0mdtrain\u001b[0m\u001b[0;34m,\u001b[0m \u001b[0mi\u001b[0m\u001b[0;34m,\u001b[0m \u001b[0mobj\u001b[0m\u001b[0;34m)\u001b[0m\u001b[0;34m\u001b[0m\u001b[0;34m\u001b[0m\u001b[0m\n\u001b[0m\u001b[1;32m    186\u001b[0m         \u001b[0;32mif\u001b[0m \u001b[0mcb_container\u001b[0m\u001b[0;34m.\u001b[0m\u001b[0mafter_iteration\u001b[0m\u001b[0;34m(\u001b[0m\u001b[0mbst\u001b[0m\u001b[0;34m,\u001b[0m \u001b[0mi\u001b[0m\u001b[0;34m,\u001b[0m \u001b[0mdtrain\u001b[0m\u001b[0;34m,\u001b[0m \u001b[0mevals\u001b[0m\u001b[0;34m)\u001b[0m\u001b[0;34m:\u001b[0m\u001b[0;34m\u001b[0m\u001b[0;34m\u001b[0m\u001b[0m\n\u001b[1;32m    187\u001b[0m             \u001b[0;32mbreak\u001b[0m\u001b[0;34m\u001b[0m\u001b[0;34m\u001b[0m\u001b[0m\n",
            "\u001b[0;32m/usr/local/lib/python3.10/dist-packages/xgboost/core.py\u001b[0m in \u001b[0;36mupdate\u001b[0;34m(self, dtrain, iteration, fobj)\u001b[0m\n\u001b[1;32m   1916\u001b[0m \u001b[0;34m\u001b[0m\u001b[0m\n\u001b[1;32m   1917\u001b[0m         \u001b[0;32mif\u001b[0m \u001b[0mfobj\u001b[0m \u001b[0;32mis\u001b[0m \u001b[0;32mNone\u001b[0m\u001b[0;34m:\u001b[0m\u001b[0;34m\u001b[0m\u001b[0;34m\u001b[0m\u001b[0m\n\u001b[0;32m-> 1918\u001b[0;31m             _check_call(_LIB.XGBoosterUpdateOneIter(self.handle,\n\u001b[0m\u001b[1;32m   1919\u001b[0m                                                     \u001b[0mctypes\u001b[0m\u001b[0;34m.\u001b[0m\u001b[0mc_int\u001b[0m\u001b[0;34m(\u001b[0m\u001b[0miteration\u001b[0m\u001b[0;34m)\u001b[0m\u001b[0;34m,\u001b[0m\u001b[0;34m\u001b[0m\u001b[0;34m\u001b[0m\u001b[0m\n\u001b[1;32m   1920\u001b[0m                                                     dtrain.handle))\n",
            "\u001b[0;31mKeyboardInterrupt\u001b[0m: "
          ]
        }
      ],
      "source": [
        "from sklearn.model_selection import GridSearchCV\n",
        "\n",
        "model_xgb = XGBRegressor(gpu_id = 0, learning_rate = 0.3, max_depth= 6, n_stimators = 100, subsample = 0.8)\n",
        "\n",
        "tuned_parameters = {\n",
        "    'max_depth':[3,4,5,6],\n",
        "    'min_child_weight': [3,4,5,6],\n",
        "    'gamma': [i/10.0 for i in range(0,5)],\n",
        "    'learning_rate': [0.01, 0.05, 0.1, 0.2]\n",
        "}\n",
        "\n",
        "clf = GridSearchCV(model_xgb, param_grid= tuned_parameters, cv = 2)\n",
        "clf.fit(X_train,y_train)\n",
        "\n",
        "print('mejores_parametros:')\n",
        "print(clf.best_params_)\n",
        "print('mejor_score:')\n",
        "print(clf.best_score_)\n",
        "\n"
      ]
    },
    {
      "cell_type": "markdown",
      "metadata": {
        "id": "E0uWy8rNAXkG"
      },
      "source": [
        "**Selección de variables** "
      ]
    },
    {
      "cell_type": "markdown",
      "metadata": {
        "id": "Scbh0RpOAcH0"
      },
      "source": [
        "Como podemos observar los modelos no tienen una precisión muy alta por lo cual examinaremos que variables "
      ]
    },
    {
      "cell_type": "code",
      "execution_count": 20,
      "metadata": {
        "colab": {
          "base_uri": "https://localhost:8080/",
          "height": 847
        },
        "id": "hMt42OD76quy",
        "outputId": "259ebad0-b568-4482-9edb-2a0619bdf22f"
      },
      "outputs": [
        {
          "output_type": "execute_result",
          "data": {
            "text/plain": [
              "<class 'statsmodels.iolib.summary.Summary'>\n",
              "\"\"\"\n",
              "                            OLS Regression Results                            \n",
              "==============================================================================\n",
              "Dep. Variable:          weight_pounds   R-squared:                       0.365\n",
              "Model:                            OLS   Adj. R-squared:                  0.365\n",
              "Method:                 Least Squares   F-statistic:                 1.167e+05\n",
              "Date:                Wed, 17 May 2023   Prob (F-statistic):               0.00\n",
              "Time:                        01:18:50   Log-Likelihood:             5.9795e+06\n",
              "No. Observations:             4255156   AIC:                        -1.196e+07\n",
              "Df Residuals:                 4255134   BIC:                        -1.196e+07\n",
              "Df Model:                          21                                         \n",
              "Covariance Type:            nonrobust                                         \n",
              "================================================================================================\n",
              "                                   coef    std err          t      P>|t|      [0.025      0.975]\n",
              "------------------------------------------------------------------------------------------------\n",
              "const                           -0.0151      0.000    -38.509      0.000      -0.016      -0.014\n",
              "month                           -0.0008   9.24e-05     -8.606      0.000      -0.001      -0.001\n",
              "cigarettes_per_day              -0.0647      0.001    -77.832      0.000      -0.066      -0.063\n",
              "apgar_5min                       0.0826      0.000    218.180      0.000       0.082       0.083\n",
              "mother_race                     -0.0197      0.000    -56.273      0.000      -0.020      -0.019\n",
              "weight_gain_pounds               0.0284      0.000    209.244      0.000       0.028       0.029\n",
              "ever_born                        0.0184      0.000    104.363      0.000       0.018       0.019\n",
              "father_age                      -0.0141      0.000   -134.388      0.000      -0.014      -0.014\n",
              "mother_age                       0.0375      0.000    197.683      0.000       0.037       0.038\n",
              "gestation_weeks                  0.4148      0.000   1129.617      0.000       0.414       0.416\n",
              "wday                            -0.0010   9.44e-05    -10.418      0.000      -0.001      -0.001\n",
              "is_male_True                     0.0154   5.76e-05    267.107      0.000       0.015       0.015\n",
              "plurality_2                     -0.0765      0.000   -456.361      0.000      -0.077      -0.076\n",
              "plurality_3                     -0.1153      0.001   -148.062      0.000      -0.117      -0.114\n",
              "plurality_4                     -0.1367      0.003    -42.744      0.000      -0.143      -0.130\n",
              "plurality_5                     -0.1099      0.009    -12.552      0.000      -0.127      -0.093\n",
              "weight_pounds_surrogate          0.0968      0.001    104.872      0.000       0.095       0.099\n",
              "apgar_5min_surrogate            -0.0137      0.000    -38.387      0.000      -0.014      -0.013\n",
              "mother_race_surrogate           -0.0007   6.38e-05    -11.515      0.000      -0.001      -0.001\n",
              "weight_gain_pounds_surrogate    -0.0111      0.000    -56.932      0.000      -0.011      -0.011\n",
              "ever_born_surrogate             -0.0117      0.000    -31.497      0.000      -0.012      -0.011\n",
              "gestation_weeks_surrogate       -0.0349      0.001    -43.443      0.000      -0.037      -0.033\n",
              "==============================================================================\n",
              "Omnibus:                    75719.958   Durbin-Watson:                   1.984\n",
              "Prob(Omnibus):                  0.000   Jarque-Bera (JB):           151987.122\n",
              "Skew:                           0.066   Prob(JB):                         0.00\n",
              "Kurtosis:                       3.916   Cond. No.                         610.\n",
              "==============================================================================\n",
              "\n",
              "Notes:\n",
              "[1] Standard Errors assume that the covariance matrix of the errors is correctly specified.\n",
              "\"\"\""
            ],
            "text/html": [
              "<table class=\"simpletable\">\n",
              "<caption>OLS Regression Results</caption>\n",
              "<tr>\n",
              "  <th>Dep. Variable:</th>      <td>weight_pounds</td>  <th>  R-squared:         </th>  <td>   0.365</td> \n",
              "</tr>\n",
              "<tr>\n",
              "  <th>Model:</th>                   <td>OLS</td>       <th>  Adj. R-squared:    </th>  <td>   0.365</td> \n",
              "</tr>\n",
              "<tr>\n",
              "  <th>Method:</th>             <td>Least Squares</td>  <th>  F-statistic:       </th>  <td>1.167e+05</td>\n",
              "</tr>\n",
              "<tr>\n",
              "  <th>Date:</th>             <td>Wed, 17 May 2023</td> <th>  Prob (F-statistic):</th>   <td>  0.00</td>  \n",
              "</tr>\n",
              "<tr>\n",
              "  <th>Time:</th>                 <td>01:18:50</td>     <th>  Log-Likelihood:    </th> <td>5.9795e+06</td>\n",
              "</tr>\n",
              "<tr>\n",
              "  <th>No. Observations:</th>      <td>4255156</td>     <th>  AIC:               </th> <td>-1.196e+07</td>\n",
              "</tr>\n",
              "<tr>\n",
              "  <th>Df Residuals:</th>          <td>4255134</td>     <th>  BIC:               </th> <td>-1.196e+07</td>\n",
              "</tr>\n",
              "<tr>\n",
              "  <th>Df Model:</th>              <td>    21</td>      <th>                     </th>      <td> </td>    \n",
              "</tr>\n",
              "<tr>\n",
              "  <th>Covariance Type:</th>      <td>nonrobust</td>    <th>                     </th>      <td> </td>    \n",
              "</tr>\n",
              "</table>\n",
              "<table class=\"simpletable\">\n",
              "<tr>\n",
              "                <td></td>                  <th>coef</th>     <th>std err</th>      <th>t</th>      <th>P>|t|</th>  <th>[0.025</th>    <th>0.975]</th>  \n",
              "</tr>\n",
              "<tr>\n",
              "  <th>const</th>                        <td>   -0.0151</td> <td>    0.000</td> <td>  -38.509</td> <td> 0.000</td> <td>   -0.016</td> <td>   -0.014</td>\n",
              "</tr>\n",
              "<tr>\n",
              "  <th>month</th>                        <td>   -0.0008</td> <td> 9.24e-05</td> <td>   -8.606</td> <td> 0.000</td> <td>   -0.001</td> <td>   -0.001</td>\n",
              "</tr>\n",
              "<tr>\n",
              "  <th>cigarettes_per_day</th>           <td>   -0.0647</td> <td>    0.001</td> <td>  -77.832</td> <td> 0.000</td> <td>   -0.066</td> <td>   -0.063</td>\n",
              "</tr>\n",
              "<tr>\n",
              "  <th>apgar_5min</th>                   <td>    0.0826</td> <td>    0.000</td> <td>  218.180</td> <td> 0.000</td> <td>    0.082</td> <td>    0.083</td>\n",
              "</tr>\n",
              "<tr>\n",
              "  <th>mother_race</th>                  <td>   -0.0197</td> <td>    0.000</td> <td>  -56.273</td> <td> 0.000</td> <td>   -0.020</td> <td>   -0.019</td>\n",
              "</tr>\n",
              "<tr>\n",
              "  <th>weight_gain_pounds</th>           <td>    0.0284</td> <td>    0.000</td> <td>  209.244</td> <td> 0.000</td> <td>    0.028</td> <td>    0.029</td>\n",
              "</tr>\n",
              "<tr>\n",
              "  <th>ever_born</th>                    <td>    0.0184</td> <td>    0.000</td> <td>  104.363</td> <td> 0.000</td> <td>    0.018</td> <td>    0.019</td>\n",
              "</tr>\n",
              "<tr>\n",
              "  <th>father_age</th>                   <td>   -0.0141</td> <td>    0.000</td> <td> -134.388</td> <td> 0.000</td> <td>   -0.014</td> <td>   -0.014</td>\n",
              "</tr>\n",
              "<tr>\n",
              "  <th>mother_age</th>                   <td>    0.0375</td> <td>    0.000</td> <td>  197.683</td> <td> 0.000</td> <td>    0.037</td> <td>    0.038</td>\n",
              "</tr>\n",
              "<tr>\n",
              "  <th>gestation_weeks</th>              <td>    0.4148</td> <td>    0.000</td> <td> 1129.617</td> <td> 0.000</td> <td>    0.414</td> <td>    0.416</td>\n",
              "</tr>\n",
              "<tr>\n",
              "  <th>wday</th>                         <td>   -0.0010</td> <td> 9.44e-05</td> <td>  -10.418</td> <td> 0.000</td> <td>   -0.001</td> <td>   -0.001</td>\n",
              "</tr>\n",
              "<tr>\n",
              "  <th>is_male_True</th>                 <td>    0.0154</td> <td> 5.76e-05</td> <td>  267.107</td> <td> 0.000</td> <td>    0.015</td> <td>    0.015</td>\n",
              "</tr>\n",
              "<tr>\n",
              "  <th>plurality_2</th>                  <td>   -0.0765</td> <td>    0.000</td> <td> -456.361</td> <td> 0.000</td> <td>   -0.077</td> <td>   -0.076</td>\n",
              "</tr>\n",
              "<tr>\n",
              "  <th>plurality_3</th>                  <td>   -0.1153</td> <td>    0.001</td> <td> -148.062</td> <td> 0.000</td> <td>   -0.117</td> <td>   -0.114</td>\n",
              "</tr>\n",
              "<tr>\n",
              "  <th>plurality_4</th>                  <td>   -0.1367</td> <td>    0.003</td> <td>  -42.744</td> <td> 0.000</td> <td>   -0.143</td> <td>   -0.130</td>\n",
              "</tr>\n",
              "<tr>\n",
              "  <th>plurality_5</th>                  <td>   -0.1099</td> <td>    0.009</td> <td>  -12.552</td> <td> 0.000</td> <td>   -0.127</td> <td>   -0.093</td>\n",
              "</tr>\n",
              "<tr>\n",
              "  <th>weight_pounds_surrogate</th>      <td>    0.0968</td> <td>    0.001</td> <td>  104.872</td> <td> 0.000</td> <td>    0.095</td> <td>    0.099</td>\n",
              "</tr>\n",
              "<tr>\n",
              "  <th>apgar_5min_surrogate</th>         <td>   -0.0137</td> <td>    0.000</td> <td>  -38.387</td> <td> 0.000</td> <td>   -0.014</td> <td>   -0.013</td>\n",
              "</tr>\n",
              "<tr>\n",
              "  <th>mother_race_surrogate</th>        <td>   -0.0007</td> <td> 6.38e-05</td> <td>  -11.515</td> <td> 0.000</td> <td>   -0.001</td> <td>   -0.001</td>\n",
              "</tr>\n",
              "<tr>\n",
              "  <th>weight_gain_pounds_surrogate</th> <td>   -0.0111</td> <td>    0.000</td> <td>  -56.932</td> <td> 0.000</td> <td>   -0.011</td> <td>   -0.011</td>\n",
              "</tr>\n",
              "<tr>\n",
              "  <th>ever_born_surrogate</th>          <td>   -0.0117</td> <td>    0.000</td> <td>  -31.497</td> <td> 0.000</td> <td>   -0.012</td> <td>   -0.011</td>\n",
              "</tr>\n",
              "<tr>\n",
              "  <th>gestation_weeks_surrogate</th>    <td>   -0.0349</td> <td>    0.001</td> <td>  -43.443</td> <td> 0.000</td> <td>   -0.037</td> <td>   -0.033</td>\n",
              "</tr>\n",
              "</table>\n",
              "<table class=\"simpletable\">\n",
              "<tr>\n",
              "  <th>Omnibus:</th>       <td>75719.958</td> <th>  Durbin-Watson:     </th>  <td>   1.984</td> \n",
              "</tr>\n",
              "<tr>\n",
              "  <th>Prob(Omnibus):</th>  <td> 0.000</td>   <th>  Jarque-Bera (JB):  </th> <td>151987.122</td>\n",
              "</tr>\n",
              "<tr>\n",
              "  <th>Skew:</th>           <td> 0.066</td>   <th>  Prob(JB):          </th>  <td>    0.00</td> \n",
              "</tr>\n",
              "<tr>\n",
              "  <th>Kurtosis:</th>       <td> 3.916</td>   <th>  Cond. No.          </th>  <td>    610.</td> \n",
              "</tr>\n",
              "</table><br/><br/>Notes:<br/>[1] Standard Errors assume that the covariance matrix of the errors is correctly specified."
            ]
          },
          "metadata": {},
          "execution_count": 20
        }
      ],
      "source": [
        "import statsmodels.api as sn\n",
        "\n",
        "x_constant = sn.add_constant(X)\n",
        "lin_reg = sn.OLS(y,x_constant).fit()\n",
        "\n",
        "lin_reg.summary()"
      ]
    },
    {
      "cell_type": "code",
      "execution_count": null,
      "metadata": {
        "id": "dRcN4rIhCRs2"
      },
      "outputs": [],
      "source": [
        "from sklearn.feature_selection import RFECV\n",
        "\n",
        "model_xgb = XGBRegressor()\n",
        "selector = RFECV(model_xgb, step = 3, min_features_to_select = 3, cv = 3)\n",
        "selector.fit(X,y)\n",
        "print(X.columns)\n",
        "print(selector.ranking)\n"
      ]
    },
    {
      "cell_type": "markdown",
      "metadata": {
        "id": "TBsH3Kww4rea"
      },
      "source": [
        "Se intenta realizar crossvalidation y encontrar las variables con mayor significacncia pero el costo computacional es muy alto y no genera resultado."
      ]
    },
    {
      "cell_type": "markdown",
      "metadata": {
        "id": "Y0bLpR5rH76j"
      },
      "source": [
        "**Red neuronal**"
      ]
    },
    {
      "cell_type": "code",
      "source": [
        "from __future__ import absolute_import, division, print_function, unicode_literals\n",
        "\n",
        "import tensorflow as tf\n",
        "\n",
        "tf.keras.backend.clear_session()  # Para restablecer fácilmente el estado del portátil."
      ],
      "metadata": {
        "id": "3N695Jrj2Li_"
      },
      "execution_count": 33,
      "outputs": []
    },
    {
      "cell_type": "code",
      "execution_count": 34,
      "metadata": {
        "id": "BrPFAh2uvwtI",
        "colab": {
          "base_uri": "https://localhost:8080/"
        },
        "outputId": "62ac8894-720d-45a3-91bf-260525ca5c3f"
      },
      "outputs": [
        {
          "output_type": "stream",
          "name": "stdout",
          "text": [
            "2.12.0\n"
          ]
        }
      ],
      "source": [
        "from tensorflow import keras\n",
        "from tensorflow.keras import layers\n",
        "print(tf.__version__)"
      ]
    },
    {
      "cell_type": "markdown",
      "metadata": {
        "id": "SDFxvVBsQSYJ"
      },
      "source": [
        "## Construcción del modelo"
      ]
    },
    {
      "cell_type": "code",
      "execution_count": 35,
      "metadata": {
        "id": "7WikcnvlIDqz"
      },
      "outputs": [],
      "source": [
        "def build_model():\n",
        "  model = keras.Sequential([\n",
        "    layers.Dense(64, activation='relu', input_shape=[21]),\n",
        "    layers.Dense(64, activation='relu'),\n",
        "    layers.Dense(1, activation='sigmoid')\n",
        "  ])\n",
        "\n",
        "  optimizer = tf.keras.optimizers.RMSprop(0.001)\n",
        "\n",
        "  model.compile(loss='mse',\n",
        "                optimizer=optimizer,\n",
        "                metrics=['mae', 'mse'])\n",
        "  return model"
      ]
    },
    {
      "cell_type": "code",
      "execution_count": 36,
      "metadata": {
        "colab": {
          "base_uri": "https://localhost:8080/"
        },
        "id": "rLZ03cHbVMrj",
        "outputId": "dba415c6-7f26-42eb-d0e1-caf0d3c2d04b"
      },
      "outputs": [
        {
          "output_type": "stream",
          "name": "stdout",
          "text": [
            "Epoch 1/20\n",
            "106379/106379 [==============================] - 226s 2ms/step - loss: 0.0033 - mae: 0.0442 - mse: 0.0033\n",
            "Epoch 2/20\n",
            "106379/106379 [==============================] - 223s 2ms/step - loss: 0.0032 - mae: 0.0437 - mse: 0.0032\n",
            "Epoch 3/20\n",
            "106379/106379 [==============================] - 222s 2ms/step - loss: 0.0032 - mae: 0.0437 - mse: 0.0032\n",
            "Epoch 4/20\n",
            "106379/106379 [==============================] - 225s 2ms/step - loss: 0.0032 - mae: 0.0436 - mse: 0.0032\n",
            "Epoch 5/20\n",
            "106379/106379 [==============================] - 223s 2ms/step - loss: 0.0032 - mae: 0.0436 - mse: 0.0032\n",
            "Epoch 6/20\n",
            "106379/106379 [==============================] - 227s 2ms/step - loss: 0.0032 - mae: 0.0436 - mse: 0.0032\n",
            "Epoch 7/20\n",
            "106379/106379 [==============================] - 227s 2ms/step - loss: 0.0032 - mae: 0.0435 - mse: 0.0032\n",
            "Epoch 8/20\n",
            "106379/106379 [==============================] - 228s 2ms/step - loss: 0.0032 - mae: 0.0435 - mse: 0.0032\n",
            "Epoch 9/20\n",
            "106379/106379 [==============================] - 222s 2ms/step - loss: 0.0032 - mae: 0.0435 - mse: 0.0032\n",
            "Epoch 10/20\n",
            "106379/106379 [==============================] - 223s 2ms/step - loss: 0.0032 - mae: 0.0435 - mse: 0.0032\n",
            "Epoch 11/20\n",
            "106379/106379 [==============================] - 225s 2ms/step - loss: 0.0032 - mae: 0.0435 - mse: 0.0032\n",
            "Epoch 12/20\n",
            "106379/106379 [==============================] - 224s 2ms/step - loss: 0.0032 - mae: 0.0435 - mse: 0.0032\n",
            "Epoch 13/20\n",
            "106379/106379 [==============================] - 225s 2ms/step - loss: 0.0032 - mae: 0.0435 - mse: 0.0032\n",
            "Epoch 14/20\n",
            "106379/106379 [==============================] - 224s 2ms/step - loss: 0.0032 - mae: 0.0435 - mse: 0.0032\n",
            "Epoch 15/20\n",
            "106379/106379 [==============================] - 221s 2ms/step - loss: 0.0032 - mae: 0.0435 - mse: 0.0032\n",
            "Epoch 16/20\n",
            "106379/106379 [==============================] - 224s 2ms/step - loss: 0.0032 - mae: 0.0435 - mse: 0.0032\n",
            "Epoch 17/20\n",
            "106379/106379 [==============================] - 225s 2ms/step - loss: 0.0032 - mae: 0.0435 - mse: 0.0032\n",
            "Epoch 18/20\n",
            "106379/106379 [==============================] - 226s 2ms/step - loss: 0.0032 - mae: 0.0435 - mse: 0.0032\n",
            "Epoch 19/20\n",
            "106379/106379 [==============================] - 223s 2ms/step - loss: 0.0032 - mae: 0.0435 - mse: 0.0032\n",
            "Epoch 20/20\n",
            "106379/106379 [==============================] - 236s 2ms/step - loss: 0.0032 - mae: 0.0435 - mse: 0.0032\n"
          ]
        },
        {
          "output_type": "execute_result",
          "data": {
            "text/plain": [
              "<keras.callbacks.History at 0x7f1ffdf6fac0>"
            ]
          },
          "metadata": {},
          "execution_count": 36
        }
      ],
      "source": [
        "### modelo sin normalizar\n",
        "model = build_model()\n",
        "model.fit(X_train,y_train, epochs = 20, verbose=1)"
      ]
    },
    {
      "cell_type": "code",
      "source": [
        "predictions = model.predict(X_train).flatten()"
      ],
      "metadata": {
        "colab": {
          "base_uri": "https://localhost:8080/"
        },
        "id": "uxUxwAH7obwk",
        "outputId": "2aae12c6-23da-45ff-db2c-81bf19c0f3d8"
      },
      "execution_count": 37,
      "outputs": [
        {
          "output_type": "stream",
          "name": "stdout",
          "text": [
            "106379/106379 [==============================] - 163s 2ms/step\n"
          ]
        }
      ]
    },
    {
      "cell_type": "code",
      "source": [
        "from sklearn.metrics import mean_squared_error, r2_score\n",
        "print(r2_score(y_train, predictions))"
      ],
      "metadata": {
        "colab": {
          "base_uri": "https://localhost:8080/"
        },
        "id": "_7lJRPKIrjqU",
        "outputId": "e275e010-d58c-4fe0-e0cf-2e368a0ec33f"
      },
      "execution_count": 38,
      "outputs": [
        {
          "output_type": "stream",
          "name": "stdout",
          "text": [
            "0.43188865518882236\n"
          ]
        }
      ]
    },
    {
      "cell_type": "code",
      "source": [
        "# Display training progress by printing a single dot for each completed epoch\n",
        "class PrintDot(keras.callbacks.Callback):\n",
        "  def on_epoch_end(self, epoch, logs):\n",
        "    if epoch % 100 == 0: print('')\n",
        "    print('.', end='')\n",
        "\n",
        "EPOCHS = 50\n",
        "\n",
        "history = model.fit(\n",
        "  X_train,y_train,\n",
        "  epochs=EPOCHS, validation_split = 0.2, verbose=0,\n",
        "  callbacks=[PrintDot()])"
      ],
      "metadata": {
        "colab": {
          "base_uri": "https://localhost:8080/"
        },
        "id": "8x8noSyxtYe6",
        "outputId": "b51a4d16-20b8-4682-dd12-7c43bb16c79e"
      },
      "execution_count": null,
      "outputs": [
        {
          "output_type": "stream",
          "name": "stdout",
          "text": [
            "\n",
            ".................................................."
          ]
        }
      ]
    },
    {
      "cell_type": "code",
      "source": [
        "predictions = model.predict(X_train).flatten()"
      ],
      "metadata": {
        "colab": {
          "base_uri": "https://localhost:8080/"
        },
        "id": "8ij6inkfCHxd",
        "outputId": "ecdd7528-4820-4745-a5c7-54654bd24768"
      },
      "execution_count": null,
      "outputs": [
        {
          "output_type": "stream",
          "name": "stdout",
          "text": [
            "93082/93082 [==============================] - 96s 1ms/step\n"
          ]
        }
      ]
    },
    {
      "cell_type": "code",
      "source": [
        "print(r2_score(y_train, predictions))"
      ],
      "metadata": {
        "colab": {
          "base_uri": "https://localhost:8080/"
        },
        "id": "CHgq2utqCsvm",
        "outputId": "8f444add-022b-48ec-bd82-dca65243d9c7"
      },
      "execution_count": null,
      "outputs": [
        {
          "output_type": "stream",
          "name": "stdout",
          "text": [
            "0.11914010756682258\n"
          ]
        }
      ]
    }
  ],
  "metadata": {
    "colab": {
      "provenance": []
    },
    "kernelspec": {
      "display_name": "Python 3",
      "name": "python3"
    },
    "language_info": {
      "name": "python"
    }
  },
  "nbformat": 4,
  "nbformat_minor": 0
}